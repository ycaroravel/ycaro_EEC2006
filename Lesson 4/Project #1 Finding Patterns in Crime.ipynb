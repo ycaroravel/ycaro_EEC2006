{
 "cells": [
  {
   "cell_type": "markdown",
   "metadata": {},
   "source": [
    "## 1. Introduction\n",
    "\n",
    "In the past few missions, you've learned how to use Pandas to analyze data quickly and efficiently. You applied this knowledge by creating guided projects to solidify your knowledge. You'll go further in this project, and you'll build an end-to-end data analysis project on your own, using Pandas and Python.\n",
    "\n"
   ]
  },
  {
   "cell_type": "markdown",
   "metadata": {},
   "source": [
    "## 2. The data\n",
    "\n",
    "In this project, you'll be working with crime data from [Montgomery County, MD](https://en.wikipedia.org/wiki/Montgomery_County,_Maryland). Each row in the data is a crime reported by a law enforcement officer in <span style=\"background-color: #F9EBEA; color:##C0392B\">2013</span> and entered into a database.\n",
    "\n",
    "You'll want to download the data from the repository. After downloading the data, you'll want to create a new Jupyter notebook in the same folder, and ensure that any code or analysis you do on the data occurs in that notebook.\n",
    "\n",
    "You can load the data in and display the first <span style=\"background-color: #F9EBEA; color:##C0392B\">5</span> rows to get a better idea of the structure:\n",
    "\n",
    ">```python\n",
    "import pandas as pd\n",
    "crimes = pd.read_csv(\"MontgomeryCountyCrime2013.csv\")\n",
    "crimes.head()\n",
    "```\n",
    "\n",
    "You'll also want to display all of the column names with:\n",
    "\n",
    ">```python\n",
    "crimes.columns\n",
    "```\n",
    ">```python\n",
    "Index(['Incident ID', 'CR Number', 'Dispatch Date / Time', 'Class',\n",
    "       'Class Description', 'Police District Name', 'Block Address', 'City',\n",
    "       'State', 'Zip Code', 'Agency', 'Place', 'Sector', 'Beat', 'PRA',\n",
    "       'Start Date / Time', 'End Date / Time', 'Latitude', 'Longitude',\n",
    "       'Police District Number', 'Location', 'Address Number'],\n",
    "      dtype='object')\n",
    "```\n",
    "\n",
    "After displaying some of the data, make sure you look through and understand each column. It can be helpful to display the first few values in each column in order to understand it better. It can also be useful to perform a Google search to help give you context for columns. For example, looking up <span style=\"background-color: #F9EBEA; color:##C0392B\">Police District Number Montgomery County</span> bring you to this [page](https://www.montgomerycountymd.gov/pol/districts/map.html), which helps you understand them. Make sure to write up a Markdown cell explaining anything relevant that you learned.\n",
    "\n",
    "You'll also want to explore missing values in each column. Why do you think certain columns have missing values? Make sure to write up your thoughts on missing values, and how they'll impact your analysis.\n",
    "\n",
    "Also make sure to look at the format of each column. For example, <span style=\"background-color: #F9EBEA; color:##C0392B\">Zip Code</span> is a float column, but if you know about Zip codes in the US, you know that they're always integers. Keeping that this column is of the \"wrong\" type in mind will help you as you analyze the data."
   ]
  },
  {
   "cell_type": "markdown",
   "metadata": {},
   "source": [
    "## 3. Analyzing the times of crimes\n",
    "\n",
    "The  <span style=\"background-color: #F9EBEA; color:##C0392B\">Dispatch Date / Time</span> column looks very interesting, because it allows us to figure out when crimes are most likely to occur. You can use this column to answer questions like:\n",
    "\n",
    "- What day of the week are the most crimes committed on? (ie Monday, Tuesday, etc)\n",
    "- During what time of day are the most crimes committed?\n",
    "- During what month are the most crimes committed?\n",
    "\n",
    "You can answer these questions by first parsing the <span style=\"background-color: #F9EBEA; color:##C0392B\">Dispatch Date / Time</span> column using the [pandas.to_datetime](http://pandas.pydata.org/pandas-docs/stable/generated/pandas.to_datetime.html) function, like this:\n",
    "\n",
    ">```python\n",
    "d_time = pandas.to_datetime(crimes[\"Dispatch Date / Time\"])\n",
    "```\n",
    "\n",
    "After doing the type conversion, you'll need to extract the components of the datetime you're interested in. You can see documentation for this [here](http://pandas.pydata.org/pandas-docs/stable/api.html#datetimelike-properties). After the extraction, you can use the <span style=\"background-color: #F9EBEA; color:##C0392B\">pandas.Series.value_counts</span> method to count up the items you want.\n",
    "\n",
    "There is some nuance around counting up the time of day when crimes are committed. You'll have to decide how you want to define \"time of day\". This can be as simple as using the hour, or as complex as assigning categories to certain times, like \"morning\", \"afternoon\", \"evening\", and \"night\".\n",
    "\n",
    "As you answer these questions, make sure to document your code, and add in explanations after each cell. Your explanations should discuss the answer, along with anything interesting your discovered.\n",
    "\n",
    "Were you surprised by your findings? Why do you think that crimes follow the patterns that they do? It may be useful to do some research here to see if you can find support for your theories.\n",
    "\n",
    "After you're done, take a look at the <span style=\"background-color: #F9EBEA; color:##C0392B\">End Date / Time</span> and <span style=\"background-color: #F9EBEA; color:##C0392B\">Start Date / Time</span> columns. Are these different from the <span style=\"background-color: #F9EBEA; color:##C0392B\">Dispatch Date / Time</span> column? Would it be useful to use one or both of those columns to do this analysis instead?\n"
   ]
  },
  {
   "cell_type": "markdown",
   "metadata": {},
   "source": [
    "## 4. Analyzing locations of crimes\n",
    "\n",
    "There are a few columns that encode information about the location of crimes:\n",
    "\n",
    "- <span style=\"background-color: #F9EBEA; color:##C0392B\">Police District Name</span>\n",
    "- <span style=\"background-color: #F9EBEA; color:##C0392B\">Block Address</span>\n",
    "- <span style=\"background-color: #F9EBEA; color:##C0392B\">Zip Code</span>\n",
    "- <span style=\"background-color: #F9EBEA; color:##C0392B\">Sector</span>\n",
    "- <span style=\"background-color: #F9EBEA; color:##C0392B\">Beat</span>\n",
    "- <span style=\"background-color: #F9EBEA; color:##C0392B\">Latitude</span>\n",
    "- <span style=\"background-color: #F9EBEA; color:##C0392B\">Longitude</span>\n",
    "- <span style=\"background-color: #F9EBEA; color:##C0392B\">Police District Number</span>\n",
    "- <span style=\"background-color: #F9EBEA; color:##C0392B\">Location</span>\n",
    "- <span style=\"background-color: #F9EBEA; color:##C0392B\">Address Number</span>\n",
    "\n",
    "These columns have varying numbers of missing values, and varying granularity. Some of the columns represent areas with large granularity (like police districts), whereas some represent areas with small granularity, like <span style=\"background-color: #F9EBEA; color:##C0392B\">Latitude</span>, and <span style=\"background-color: #F9EBEA; color:##C0392B\">Longitude</span>.\n",
    "\n",
    "\n",
    "In order to decide which column to use to analyze the locations of crimes, you need to utilize the following criteria:\n",
    "\n",
    "- **Granularity**. Areas that are too small aren't great, because only a few crimes were committed inside them, which makes it hard to analyze and compare. For example, if I tell you that Silver Spring (a city in Montgomery County) is the place with the most crimes, you'll know to avoid that area. However, if I tell you that a 100 foot section of Silver Spring has the most crimes, it won't be as helpful (it's unlikely that you'll ever be in that 100 foot section).\n",
    "- **Comprehensibility**. You looked up the Police District map of Montgomery County before, so it's simple to tell what area corresponds to district <span style=\"background-color: #F9EBEA; color:##C0392B\">6</span>. However, what area does Beat <span style=\"background-color: #F9EBEA; color:##C0392B\">5M1</span> correspond to? You may be able to look this up, but it's harder to comprehend.\n",
    "- **Missing values**. If a column has a lot of missing values, that means that the conclusions you draw are less valid, because you don't know if the missing data is systematic (ie all data for a given district is missing) or random (equal amounts of data are missing from each district). You should try to select a column that has minimal missing values.\n",
    "\n",
    "Based on the above criteria, pick a column that you want to use to analyze location. After picking a column, see if you can answer these questions:\n",
    "\n",
    "- In what area did the most crimes occur? What physical locations (like cities) does this area correspond to?\n",
    "- Which area has the highest number of crimes per capita? You may be able to find population data per area online. For example, [this](https://www.montgomerycountymd.gov/POL/Resources/Files/crime/MCP2015AnnualCrimeReportFINAL.pdf) annual report has per-district populations towards the bottom.\n",
    "\n",
    "Make sure to write up the answers to these questions, along with your code, and explain why you reached the conclusions you did.\n"
   ]
  },
  {
   "cell_type": "markdown",
   "metadata": {},
   "source": [
    "## 5. Analyzing types of crime\n",
    "\n",
    "The <span style=\"background-color: #F9EBEA; color:##C0392B\">Class Description</span> column tells us something about the type of crime that was committed. We can use this column to discover which crimes are committed most often.\n",
    "\n",
    "Here are some initial questions to answer:\n",
    "\n",
    "- Which crimes are the most common? Least common?\n",
    "- Can you split the types of crimes manually into \"Violent\" (caused harm to others or involved weapons) and \"Nonviolent\" (mostly property crimes, like theft? What's the most common violent crime? The most common nonviolent?\n",
    "\n",
    "To manually split up violent and nonviolent crimes, just assign each crime to a category. For example, <span style=\"background-color: #F9EBEA; color:##C0392B\">ASSAULT & BATTERY - CITIZEN</span> is violent, and <span style=\"background-color: #F9EBEA; color:##C0392B\">VANDALISM-MOTOR VEHICLE</span> is nonviolent. It may be useful to create a column called <span style=\"background-color: #F9EBEA; color:##C0392B\">Violent</span>, and then use the [pandas.DataFrame.apply](http://pandas.pydata.org/pandas-docs/stable/generated/pandas.DataFrame.apply.html) method to assign **True** or **False** to each row in the column. For example, if **ASSAULT** is in Class Description, it's violent, but if **LARCENY** is in Class Description, it's nonviolent.\n",
    "\n",
    "Make sure to write up the answers to these questions, along with your code, and explain why you reached the conclusions you did."
   ]
  },
  {
   "cell_type": "markdown",
   "metadata": {},
   "source": [
    "## 6. Combine Analysis\n",
    "\n",
    "After doing some analysis on types of crimes, you can combine our analysis with location and time data to answer more complex questions, like:\n",
    "\n",
    "- Where are the most violent crimes committed? How about nonviolent?\n",
    "- When are the most violent crimes committed? How about nonviolent?\n",
    "\n",
    "Make sure to write up the answers to these questions, along with your code, and explain why you reached the conclusions you did."
   ]
  },
  {
   "cell_type": "markdown",
   "metadata": {},
   "source": [
    "## 7. Posing and answering your own questions\n",
    "\n",
    "After you've finished exploring the data and answering some directed questions, you should be able to start coming up with some of your own.\n",
    "\n",
    "You can think of questions based on a few strategies:\n",
    "\n",
    "- Expanding or tweaking the directed questions from earlier.\n",
    "- Exploring patterns you found while exploring the data.\n",
    "- Questions based on research you've done about the previous lessons\n",
    "\n",
    "Try to think of at least three questions, then answer them the same way you did in previous screens."
   ]
  }
 ],
 "metadata": {
  "kernelspec": {
   "display_name": "Python 3",
   "language": "python",
   "name": "python3"
  },
  "language_info": {
   "codemirror_mode": {
    "name": "ipython",
    "version": 3
   },
   "file_extension": ".py",
   "mimetype": "text/x-python",
   "name": "python",
   "nbconvert_exporter": "python",
   "pygments_lexer": "ipython3",
   "version": "3.6.0"
  }
 },
 "nbformat": 4,
 "nbformat_minor": 2
}

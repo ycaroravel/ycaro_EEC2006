{
 "cells": [
  {
   "cell_type": "markdown",
   "metadata": {},
   "source": [
    "## 1. The time module\n",
    "\n",
    "There are a few modules in Python's [Standard Library](https://docs.python.org/3/library/) that deal with dates and times. One is the [time](https://docs.python.org/3/library/time.html) module, which deals primarily with Unix timestamps.\n",
    "\n",
    "A Unix timestamp is a floating point value with no explicit mention of day, month, or year. This value represents the number of seconds that have passed since the \"epoch\", or the first second of the year 1970. So, a timestamp of 0.0 would represent the epoch, and a timestamp of 60.0 would represent one minute after the epoch. We can represent any date after 1970 this way.\n",
    "\n",
    "To retrieve the current Unix timestamp, we use the [time.time()](https://docs.python.org/3/library/time.html#time.time) function."
   ]
  },
  {
   "cell_type": "code",
   "execution_count": 1,
   "metadata": {
    "scrolled": true
   },
   "outputs": [
    {
     "name": "stdout",
     "output_type": "stream",
     "text": [
      "1502816178.958859\n"
     ]
    }
   ],
   "source": [
    "import time\n",
    "current_time = time.time()\n",
    "print(current_time)"
   ]
  },
  {
   "cell_type": "markdown",
   "metadata": {},
   "source": [
    "## 2. Converting Timestamps\n",
    "\n",
    "We can convert a timestamp to a more human-readable form using the [time.gmtime()](https://docs.python.org/3/library/time.html#time.gmtime) function. This function takes a timestamp as an argument, and returns an instance of the <span style=\"background-color: #F9EBEA; color:##C0392B\">struct_time</span> class. <span style=\"background-color: #F9EBEA; color:##C0392B\">struct_time</span> instances have attributes that represent the current time in other ways.\n",
    "\n",
    "Here are some of the attributes:\n",
    "\n",
    "- <span style=\"background-color: #F9EBEA; color:##C0392B\">tm_year</span>: The year of the timestamp\n",
    "- <span style=\"background-color: #F9EBEA; color:##C0392B\">tm_mon</span>: The month of the timestamp (1-12)\n",
    "- <span style=\"background-color: #F9EBEA; color:##C0392B\">tm_mday</span>: The day in the month of the timestamp (1-31)\n",
    "- <span style=\"background-color: #F9EBEA; color:##C0392B\">tm_hour</span>: The hour of the timestamp (0-23)\n",
    "- <span style=\"background-color: #F9EBEA; color:##C0392B\">tm_min</span>: The minute of the timestamp (0-59)\n",
    "\n",
    "For example, we can retrieve the year value as an integer using the tm_year property:\n",
    "\n",
    ">```python\n",
    "current_time = time.time()\n",
    "current_struct_time = time.gmtime(current_time)\n",
    "current_year = current_struct_time.tm_year\n",
    "```"
   ]
  },
  {
   "cell_type": "code",
   "execution_count": 2,
   "metadata": {},
   "outputs": [
    {
     "name": "stdout",
     "output_type": "stream",
     "text": [
      "17\n"
     ]
    }
   ],
   "source": [
    "import time\n",
    "current_time = time.time()\n",
    "current_struct_time = time.gmtime(current_time)\n",
    "current_hour = current_struct_time.tm_hour\n",
    "print(current_hour)"
   ]
  },
  {
   "cell_type": "markdown",
   "metadata": {},
   "source": [
    "## 3. UTC\n",
    "\n",
    "Note the value for the hour from the last screen. The <span style=\"background-color: #F9EBEA; color:##C0392B\">time</span> module always results in a **UTC** time. **UTC** stands for **Coordinated Universal Time**. This is the accepted time standard within the programming community. It corresponds to the mean solar time at 0° longitude, or Greenwich Mean Time, except that it doesn't follow daylight saving time. While we can convert UTC to other time zones, we'll use UTC in this mission for simplicity.\n",
    "\n",
    "The [datetime](https://docs.python.org/3/library/datetime.html) module offers better support for working extensively with dates. For example, it's easier to perform arithmetic on them (such as adding days), and to work with different time zones.\n",
    "\n",
    "The <span style=\"background-color: #F9EBEA; color:##C0392B\">datatime</span> module contains a class that's also named <span style=\"background-color: #F9EBEA; color:##C0392B\">datatime</span> that represents points in time. These datetime instances appear similar to <span style=\"background-color: #F9EBEA; color:##C0392B\">struct_time</span> instances.\n",
    "\n",
    "To represent a specific point in time, we pass in values into the constructor when creating an instance of the datetime class:\n",
    "\n",
    ">```python\n",
    "nye_2017 = datetime.datetime(year=2017, month=12, day=31, hour=12, minute=59, second=59)\n",
    "```\n",
    "\n",
    "We can leave out specific details if we'd like:\n",
    "\n",
    ">```python\n",
    "nye_day_2017 = datetime.datetime(year=2017, month=12, day=31)\n",
    "```\n",
    "\n",
    "\n",
    "We can return the current time as a datetime instance using the [datetime.now()](https://docs.python.org/3/library/datetime.html#datetime.datetime.now) function.\n",
    "\n",
    "Once we have a datetime instance that represents a specific point in time, we can use the following attributes to return more specific properties:\n",
    "\n",
    "- <span style=\"background-color: #F9EBEA; color:##C0392B\">year</span>: returns the year value as an integer.\n",
    "- <span style=\"background-color: #F9EBEA; color:##C0392B\">month</span>: returns the month value an integer.\n",
    "- <span style=\"background-color: #F9EBEA; color:##C0392B\">day</span>: returns the day value as an integer.\n",
    "- <span style=\"background-color: #F9EBEA; color:##C0392B\">hour</span>: returns the hour value as an integer.\n",
    "- <span style=\"background-color: #F9EBEA; color:##C0392B\">minute</span>: returns the minute value as an integer.\n",
    "- <span style=\"background-color: #F9EBEA; color:##C0392B\">second</span>: returns the second value as an integer.\n",
    "- <span style=\"background-color: #F9EBEA; color:##C0392B\">microsecond</span>: returns the microsecond value as an integer.\n",
    "\n",
    "You can read about these attributes in the documentation.\n"
   ]
  },
  {
   "cell_type": "code",
   "execution_count": 4,
   "metadata": {},
   "outputs": [
    {
     "name": "stdout",
     "output_type": "stream",
     "text": [
      "2017-08-15 14:14:34.848486\n"
     ]
    }
   ],
   "source": [
    "import datetime\n",
    "\n",
    "current_datetime = datetime.datetime.now()\n",
    "current_year = current_datetime.year\n",
    "current_month = current_datetime.month\n",
    "print(current_datetime)"
   ]
  },
  {
   "cell_type": "markdown",
   "metadata": {},
   "source": [
    "## 4. Timedelta\n",
    "\n",
    "We know how to represent dates, but we'd also like to perform arithmetic on them. Since adding a day, week, month, etc. to a date can be tedious to do from scratch, the <span style=\"background-color: #F9EBEA; color:##C0392B\">datetime</span> module provides the [timedelta](https://docs.python.org/3/library/datetime.html#timedelta-objects) class. We can create an instance of this class that represents a span of time, then add or subtract it from instances of the <span style=\"background-color: #F9EBEA; color:##C0392B\">datetime</span> class.\n",
    "\n",
    "When we create instances of the <span style=\"background-color: #F9EBEA; color:##C0392B\">timedelta</span> class, we can specify the following parameters:\n",
    "\n",
    "- weeks\n",
    "- days\n",
    "- hours\n",
    "- minutes\n",
    "- seconds\n",
    "- milliseconds\n",
    "- microseconds\n",
    "\n",
    "Suppose we want to calculate the date for three weeks and two days from now. We would first create an instance of the <span style=\"background-color: #F9EBEA; color:##C0392B\">datetime</span> class that represents today:\n",
    "\n",
    ">```python\n",
    "today = datetime.datetime.now()\n",
    "```\n",
    "\n",
    "Then, we could get an instance of the <span style=\"background-color: #F9EBEA; color:##C0392B\">timedelta</span> class that represents the span of time we're working with:\n",
    "\n",
    ">```python\n",
    "diff = datetime.timedelta(weeks = 3, days = 2)\n",
    "```\n",
    "\n",
    "Finally, we would add these two instances:\n",
    "\n",
    ">```python\n",
    "future = today + diff\n",
    "```\n",
    "\n",
    "We can also subtract a <span style=\"background-color: #F9EBEA; color:##C0392B\">timedelta</span> instance from a <span style=\"background-color: #F9EBEA; color:##C0392B\">datetime</span> instance.\n",
    "\n",
    ">```python\n",
    "past= today - diff\n",
    "```"
   ]
  },
  {
   "cell_type": "code",
   "execution_count": 7,
   "metadata": {},
   "outputs": [
    {
     "name": "stdout",
     "output_type": "stream",
     "text": [
      "2232-12-07 00:00:00\n"
     ]
    }
   ],
   "source": [
    "import datetime\n",
    "kirks_birthday = datetime.datetime(year=2233, month=3, day=22)\n",
    "diff = datetime.timedelta(weeks = 15)\n",
    "before_kirk = kirks_birthday - diff\n",
    "print(before_kirk)"
   ]
  },
  {
   "cell_type": "markdown",
   "metadata": {},
   "source": [
    "## 5. Formating dates\n",
    "\n",
    "Suppose we'd like to output dates in human-readable formats. If we use the <span style=\"background-color: #F9EBEA; color:##C0392B\">print()</span> function to display a datetime object, the output will look something like <span style=\"background-color: #F9EBEA; color:##C0392B\">2016-01-06 13:51:25.849719</span>. Instead of displaying the full timestamp down to the microsecond, we can use the [datetime.strftime()](https://docs.python.org/3/library/datetime.html#strftime-and-strptime-behavior) method to specify how we'd like the string output to be formatted.\n",
    "\n",
    "The <span style=\"background-color: #F9EBEA; color:##C0392B\">datetime.datetime.strftime()</span> method takes a format string as its input. A format string contains special indicators, usually preceded by percent characters (<span style=\"background-color: #F9EBEA; color:##C0392B\">\"%\"</span>), that indicate where certain values should go. For example, suppose we stored a timestamp from March 3, 2010 in the object <span style=\"background-color: #F9EBEA; color:##C0392B\">march3</span>. If we want to format it nicely into the string <span style=\"background-color: #F9EBEA; color:##C0392B\">\"Mar 03, 2010\"</span>, we can write the following code:\n",
    "\n",
    ">```python\n",
    "march3 = datetime.datetime(year = 2010, month = 3, day = 3)\n",
    "pretty_march3 = march3.strftime(\"%b %d, %Y\")\n",
    "print(pretty_march3)\n",
    "```\n",
    "\n",
    "The format string argument in <span style=\"background-color: #F9EBEA; color:##C0392B\">strftime()</span> indicates that we want:\n",
    "\n",
    "the abbreviated month name (<span style=\"background-color: #F9EBEA; color:##C0392B\">\"%b\"</span>) followed by a space\n",
    "the day of the month (<span style=\"background-color: #F9EBEA; color:##C0392B\">\"%d\"</span>) followed by a comma and space\n",
    "the full year (<span style=\"background-color: #F9EBEA; color:##C0392B\">\"%Y\"</span>).\n",
    "Thankfully, we don't have to memorize the string arguments and can refer to the [documentation](https://docs.python.org/3/library/datetime.html#strftime-and-strptime-behavior) for the <span style=\"background-color: #F9EBEA; color:##C0392B\">strftime()</span> method, which provides a useful summary table of the different options.\n"
   ]
  },
  {
   "cell_type": "code",
   "execution_count": 11,
   "metadata": {},
   "outputs": [
    {
     "name": "stdout",
     "output_type": "stream",
     "text": [
      "03:13PM on Tuesday August 15, 2017\n"
     ]
    }
   ],
   "source": [
    "import datetime\n",
    "\n",
    "mystery_date = datetime.datetime.now()\n",
    "mystery_date_formatted_string = mystery_date.strftime(\"%I:%M%p on %A %B %d, %Y\")\n",
    "print(mystery_date_formatted_string)"
   ]
  },
  {
   "cell_type": "markdown",
   "metadata": {},
   "source": [
    "## 6. Parsing dates\n",
    "\n",
    "Just as we can convert a <span style=\"background-color: #F9EBEA; color:##C0392B\">datetime</span> object into a formatted string, we can also do the reverse. The <span style=\"background-color: #F9EBEA; color:##C0392B\">datetime.datetime.strptime()</span> function allows us to convert a string to a <span style=\"background-color: #F9EBEA; color:##C0392B\">datetime</span> instance:\n",
    "\n",
    "- The date string (e.g. \"Mar 03, 2010\")\n",
    "- The format string (e.g. \"%b %d, %Y\")\n",
    "\n",
    "With just these two arguments, <span style=\"background-color: #F9EBEA; color:##C0392B\">strptime()</span> will return a <span style=\"background-color: #F9EBEA; color:##C0392B\">datetime</span> instance for March 3, 2010. The one thing to remember is that <span style=\"background-color: #F9EBEA; color:##C0392B\">datetime.datetime.strptime()</span> is a function, not a method that's called on a specific object.\n",
    "\n",
    ">```python\n",
    "march3 = datetime.datetime.strptime(\"Mar 03, 2010\", \"%b %d, %Y\")\n",
    "```\n",
    "\n",
    "This is useful if we have a date in a string format, and need to convert it to a datetime instance. If we inspect the data and determine the format of every date, we can save ourselves a lot of manual string manipulation by using the <span style=\"background-color: #F9EBEA; color:##C0392B\">datetime.datetime.strptime()</span> function instead. We could even use <span style=\"background-color: #F9EBEA; color:##C0392B\">datetime.strptime()</span> and <span style=\"background-color: #F9EBEA; color:##C0392B\">datetime.strftime()</span> together to convert a date string to a <span style=\"background-color: #F9EBEA; color:##C0392B\">datetime</span> object, and then convert it to a date string of a different format."
   ]
  },
  {
   "cell_type": "code",
   "execution_count": 12,
   "metadata": {},
   "outputs": [
    {
     "name": "stdout",
     "output_type": "stream",
     "text": [
      "2017-08-15 15:13:00\n"
     ]
    }
   ],
   "source": [
    "import datetime\n",
    "mystery_date = datetime.datetime.strptime(mystery_date_formatted_string, \"%I:%M%p on %A %B %d, %Y\")\n",
    "print(mystery_date)"
   ]
  },
  {
   "cell_type": "code",
   "execution_count": null,
   "metadata": {
    "collapsed": true
   },
   "outputs": [],
   "source": []
  }
 ],
 "metadata": {
  "kernelspec": {
   "display_name": "Python 3",
   "language": "python",
   "name": "python3"
  },
  "language_info": {
   "codemirror_mode": {
    "name": "ipython",
    "version": 3
   },
   "file_extension": ".py",
   "mimetype": "text/x-python",
   "name": "python",
   "nbconvert_exporter": "python",
   "pygments_lexer": "ipython3",
   "version": "3.6.0"
  }
 },
 "nbformat": 4,
 "nbformat_minor": 2
}

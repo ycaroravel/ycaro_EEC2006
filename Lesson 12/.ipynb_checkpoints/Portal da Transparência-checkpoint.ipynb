{
 "cells": [
  {
   "cell_type": "markdown",
   "metadata": {},
   "source": [
    "1. Introduction\n",
    "==\n",
    "\n",
    "In this guided project we’ll learn to scrape multiple web pages with Python using [BeautifulSoup](https://www.crummy.com/software/BeautifulSoup/) and [requests](http://docs.python-requests.org/en/master/). We’ll then perform some simple analysis using [pandas](http://pandas.pydata.org/), and [seaborn](https://seaborn.pydata.org/).\n",
    "\n",
    "You should already have some basic understanding of HTML, a good grasp of Python’s basics, and a rough idea about what web scraping is. If you are not comfortable with these, I recommend this [beginner web scraping tutorial](https://www.dataquest.io/blog/web-scraping-tutorial-python/).\n",
    "\n",
    "\n",
    "2. Scraping data for over 2k movies\n",
    "==\n",
    "\n",
    "We want to analyze the distributions of [IMDB](http://www.imdb.com/) and [Metacritic](http://www.metacritic.com/) movie ratings to see if we find anything interesting. To do this, we’ll first scrape data for over 2000 movies.\n",
    "\n",
    "It’s essential to identify the goal of our scraping right from the beginning. Writing a scraping script can take a lot of time, especially if we want to scrape more than one web page. We want to avoid spending hours writing a script which scrapes data we won’t actually need.\n",
    "\n",
    "3. Working out which pages to scrape\n",
    "==\n",
    "\n",
    "Once we’ve established our goal, we then need to identify an efficient set of pages to scrape.\n",
    "\n",
    "We want to find a combination of pages that requires a relatively small number of [requests](https://youtu.be/kBXQZMmiA4s?t=1m11s). A request is what happens whenever we access a web page. We ‘request’ the content of a page from the server. The more requests we make, the longer our script will need to run, and the greater the strain on the server.\n",
    "\n",
    "One way to get all the data we need is to compile a list of movie names, and use it to access the web page of each movie on both IMDB and Metacritic websites.\n",
    "\n",
    "\n",
    "<img width=\"400\" alt=\"creating a repo\" src=\"https://drive.google.com/uc?export=view&id=0BxhVm1REqwr0MXFIYi1QUUpXb2c\">\n",
    "\n",
    "Since we want to get over 2000 ratings from both IMDB and Metacritic, we’ll have to make at least 4000 requests. If we make one request per second, our script will need a little over an hour to make 4000 requests. Because of this, it’s worth trying to identify more efficient ways of obtaining our data.\n",
    "\n",
    "If we explore the IMDB website, we can discover a way to halve the number of requests. Metacritic scores are shown on the IMDB movie page, so we can scrape both ratings with a single request:\n",
    "\n",
    "<img width=\"400\" alt=\"creating a repo\" src=\"https://drive.google.com/uc?export=view&id=0BxhVm1REqwr0eG5jQmRjbF93X2c\">\n",
    "\n",
    "\n",
    "If we investigate the IMDB site further, we can discover the page shown below. It contains all the data we need for 50 movies. Given our aim, this means we’ll only have to do about 40 requests, which is 100 times less than our first option. Let’s explore this last option further.\n",
    "\n",
    "<img width=\"400\" alt=\"creating a repo\" src=\"https://drive.google.com/uc?export=view&id=0BxhVm1REqwr0ZHRkZE9aelFoeXc\">"
   ]
  },
  {
   "cell_type": "markdown",
   "metadata": {},
   "source": [
    "4. Identifying the URL structure\n",
    "==\n",
    "\n",
    "Our challenge now is to make sure we understand the logic of the URL as the pages we want to scrape change. If we can’t understand this logic enough so we can implement it into code, then we’ll reach a dead end.\n",
    "\n",
    "If you go on IMDB’s advanced search [page](http://www.imdb.com/search/), you can browse movies by [year](http://www.imdb.com/year/):\n",
    "\n",
    "\n",
    "<img width=\"400\" alt=\"creating a repo\" src=\"https://drive.google.com/uc?export=view&id=0BxhVm1REqwr0Yjlfa2xFYWw2LTg\">\n",
    "\n",
    "Let’s browse by year 2017, sort the movies on the first page by number of votes, then switch to the next page. We’ll arrive at this [web page](http://www.imdb.com/search/title?release_date=2017&sort=num_votes,desc&page=2&ref_=adv_nxt), which has this URL:\n",
    "\n",
    "\n",
    "<img width=\"600\" alt=\"creating a repo\" src=\"https://drive.google.com/uc?export=view&id=0BxhVm1REqwr0RkYzY29qdy1JVjQ\">\n",
    "\n",
    "\n",
    "In the image above, you can see that the URL has several parameters after the question mark:\n",
    "\n",
    "- <span style=\"background-color: #F9EBEA; color:##C0392B\">release_date</span> - Shows only the movies released in a specific year.\n",
    "- <span style=\"background-color: #F9EBEA; color:##C0392B\">sort</span> - Sorts the movies on the page. <span style=\"background-color: #F9EBEA; color:##C0392B\">sort=num_votes,desc</span> translates to sort by number of votes in a descending order.\n",
    "- <span style=\"background-color: #F9EBEA; color:##C0392B\">page</span> - Specifies the page number.\n",
    "- <span style=\"background-color: #F9EBEA; color:##C0392B\">ref_</span> - Takes us to the the next or the previous page. The reference is the page we are currently on. <span style=\"background-color: #F9EBEA; color:##C0392B\">adv_nxt</span> and <span style=\"background-color: #F9EBEA; color:##C0392B\">adv_prv</span> are two possible values. They translate to advance to the <span style=\"background-color: #F9EBEA; color:##C0392B\">next page, and advance to the previous page</span>, respectively.\n",
    "\n",
    "\n",
    "If you navigate through those pages and observe the URL, you will notice that only the values of the parameters change. This means we can write a script to match the logic of the changes and make far fewer requests to scrape our data.\n"
   ]
  },
  {
   "cell_type": "code",
   "execution_count": 39,
   "metadata": {},
   "outputs": [
    {
     "name": "stdout",
     "output_type": "stream",
     "text": [
      "\n",
      "\n",
      "\n",
      "\n",
      "<!DOCTYPE html>\n",
      "<html\n",
      "xmlns:og=\"http://ogp.me/ns#\"\n",
      "xmlns:fb=\"http://www.facebook.com/2008/fbml\">\n",
      "    <head>\n",
      "        <meta charset=\"utf-8\">\n",
      "        <meta http-equiv=\"X-UA-Compatible\" content=\"IE=edge\">\n",
      "\n",
      "    <meta name=\"apple-itunes-app\" content=\"app-id=342792525, app-argument=imdb:///?src=mdot\">\n",
      "            <script type=\"text/javascript\">var ue_t0=window.ue_t0||+new Date();</script>\n",
      "            <script type=\"text/javascript\">\n",
      "                var ue_mid = \"A1EVAM02EL8SFB\"; \n",
      "                var\n"
     ]
    }
   ],
   "source": [
    "# import package\n",
    "from requests import get\n",
    "\n",
    "# specify the url\n",
    "url = 'http://www.imdb.com/search/title?release_date=2017&sort=num_votes,desc&page=1'\n",
    "\n",
    "# packages the request, send the request and catch the response\n",
    "response = get(url)\n",
    "\n",
    "# extract the text\n",
    "text = response.text\n",
    "\n",
    "print(text[:500])"
   ]
  },
  {
   "cell_type": "markdown",
   "metadata": {},
   "source": [
    "5. Understanding the HTML structure of a single page\n",
    "==\n",
    "\n",
    "As you can see from the first line of <span style=\"background-color: #F9EBEA; color:##C0392B\">response.text</span>, the server sent us an HTML document. This document describes the overall structure of that web page, along with its specific content (which is what makes that particular page unique).\n",
    "\n",
    "All the pages we want to scrape have the same overall structure. This implies that they also have the same overall HTML structure. So, to write our script, it will suffice to understand the HTML structure of only one page. To do that, we’ll use the browser’s **Developer Tools**.\n",
    "\n",
    "If you use [Chrome](https://developer.chrome.com/devtools), right-click on a web page element that interests you, and then click Inspect. This will take you right to the HTML line that corresponds to that element:\n",
    "\n",
    "<img width=\"600\" alt=\"creating a repo\" src=\"https://drive.google.com/uc?export=view&id=0BxhVm1REqwr0eW5jNWhJUUozUDQ\">\n",
    "\n",
    "\n",
    "You can also do this using both [Firefox](https://developer.mozilla.org/en-US/docs/Learn/Common_questions/What_are_browser_developer_tools) and [Safari](https://developer.apple.com/safari/tools/) DevTools.\n",
    "\n",
    "Notice that all of the information for each movie, including the poster, is contained in a <span style=\"background-color: #F9EBEA; color:##C0392B\">div</span> tag.\n",
    "\n",
    "<img width=\"600\" alt=\"creating a repo\" src=\"https://drive.google.com/uc?export=view&id=0BxhVm1REqwr0R2lTRXYwcGMtZHc\">\n",
    "\n",
    "There are a lot of HTML lines nested within each <span style=\"background-color: #F9EBEA; color:##C0392B\">div</span> tag. You can explore them by clicking those little gray arrows on the left of the HTML lines corresponding to each <span style=\"background-color: #F9EBEA; color:##C0392B\">div</span>. Within these nested tags we’ll find the information we need, like a movie’s rating.\n",
    "\n",
    "<img width=\"600\" alt=\"creating a repo\" src=\"https://drive.google.com/uc?export=view&id=0BxhVm1REqwr0TmlRcS1SdVZVNGs\">\n",
    "\n",
    "There are 50 movies shown per page, so there should be a div container for each. Let’s extract all these 50 containers by parsing the HTML document from our earlier request."
   ]
  },
  {
   "cell_type": "markdown",
   "metadata": {},
   "source": [
    "6. Using BeautifulSoup to parse the HTML content\n",
    "==\n",
    "\n",
    "To parse our HTML document and extract the <span style=\"background-color: #F9EBEA; color:##C0392B\">50 div containers</span>, we’ll use a Python module presented in the last class, [BeautifulSoup](https://www.crummy.com/software/BeautifulSoup/bs4/doc/), the most common web scraping module for Python."
   ]
  },
  {
   "cell_type": "code",
   "execution_count": 40,
   "metadata": {},
   "outputs": [
    {
     "data": {
      "text/plain": [
       "bs4.BeautifulSoup"
      ]
     },
     "execution_count": 40,
     "metadata": {},
     "output_type": "execute_result"
    }
   ],
   "source": [
    "from bs4 import BeautifulSoup\n",
    "\n",
    "html_soup = BeautifulSoup(response.text, 'html.parser')\n",
    "type(html_soup)"
   ]
  },
  {
   "cell_type": "markdown",
   "metadata": {},
   "source": [
    "Before extracting the <span style=\"background-color: #F9EBEA; color:##C0392B\">50 div containers</span>, we need to figure out what distinguishes them from other <span style=\"background-color: #F9EBEA; color:##C0392B\">div</span> elements on that page. Often, the distinctive mark resides in the <span style=\"background-color: #F9EBEA; color:##C0392B\">class</span> [attribute](https://www.w3schools.com/Tags/att_global_class.asp). If you inspect the HTML lines of the containers of interest, you’ll notice that the <span style=\"background-color: #F9EBEA; color:##C0392B\">class</span> attribute has two values: <span style=\"background-color: #F9EBEA; color:##C0392B\">lister-item</span> and <span style=\"background-color: #F9EBEA; color:##C0392B\">mode-advanced</span>. This combination is unique to these <span style=\"background-color: #F9EBEA; color:##C0392B\">div</span> containers. We can see that’s true by doing a quick search <span style=\"background-color: #F9EBEA; color:##C0392B\">(Ctrl + F)</span>. We have 50 such containers, so we expect to see only 50 matches:\n",
    "\n",
    "<img width=\"600\" alt=\"creating a repo\" src=\"https://drive.google.com/uc?export=view&id=0BxhVm1REqwr0Yzl1b05JcXcyZFk\">"
   ]
  },
  {
   "cell_type": "markdown",
   "metadata": {},
   "source": [
    "Now let’s use the <span style=\"background-color: #F9EBEA; color:##C0392B\">find_all()</span> method to extract all the <span style=\"background-color: #F9EBEA; color:##C0392B\">div</span> containers that have a class attribute of <span style=\"background-color: #F9EBEA; color:##C0392B\">lister-item mode-advanced</span>:"
   ]
  },
  {
   "cell_type": "code",
   "execution_count": 41,
   "metadata": {},
   "outputs": [
    {
     "name": "stdout",
     "output_type": "stream",
     "text": [
      "<class 'bs4.element.ResultSet'>\n",
      "50\n"
     ]
    }
   ],
   "source": [
    "movie_containers = html_soup.find_all('div', class_ = 'lister-item mode-advanced')\n",
    "print(type(movie_containers))\n",
    "print(len(movie_containers))"
   ]
  },
  {
   "cell_type": "markdown",
   "metadata": {},
   "source": [
    "<span style=\"background-color: #F9EBEA; color:##C0392B\">find_all()</span> returned a <span style=\"background-color: #F9EBEA; color:##C0392B\">ResultSet</span> object which is a list containing all the 50 divs we are interested in.\n",
    "\n",
    "Now we’ll select only the first container, and extract, by turn, each item of interest:\n",
    "\n",
    "- The name of the movie.\n",
    "- The year of release.\n",
    "- The IMDB rating.\n",
    "- The Metascore.\n",
    "- The number of votes.\n",
    "\n",
    "<img width=\"600\" alt=\"creating a repo\" src=\"https://drive.google.com/uc?export=view&id=0BxhVm1REqwr0UVRBdlk2YzdTc2s\">"
   ]
  },
  {
   "cell_type": "markdown",
   "metadata": {},
   "source": [
    "7. Extracting the data for a single movie\n",
    "==\n",
    "\n",
    "We can access the first container, which contains information about a single movie, by using list notation on movie_containers."
   ]
  },
  {
   "cell_type": "code",
   "execution_count": 42,
   "metadata": {
    "scrolled": true
   },
   "outputs": [
    {
     "data": {
      "text/plain": [
       "<div class=\"lister-item mode-advanced\">\n",
       "<div class=\"lister-top-right\">\n",
       "<div class=\"ribbonize\" data-caller=\"filmosearch\" data-tconst=\"tt3315342\"></div>\n",
       "</div>\n",
       "<div class=\"lister-item-image float-left\">\n",
       "<a href=\"/title/tt3315342/?ref_=adv_li_i\"> <img alt=\"Logan\" class=\"loadlate\" data-tconst=\"tt3315342\" height=\"98\" loadlate=\"https://images-na.ssl-images-amazon.com/images/M/MV5BMjQwODQwNTg4OV5BMl5BanBnXkFtZTgwMTk4MTAzMjI@._V1_UX67_CR0,0,67,98_AL_.jpg\" src=\"http://ia.media-imdb.com/images/G/01/imdb/images/nopicture/large/film-184890147._CB522736516_.png\" width=\"67\"/>\n",
       "</a> </div>\n",
       "<div class=\"lister-item-content\">\n",
       "<h3 class=\"lister-item-header\">\n",
       "<span class=\"lister-item-index unbold text-primary\">1.</span>\n",
       "<a href=\"/title/tt3315342/?ref_=adv_li_tt\">Logan</a>\n",
       "<span class=\"lister-item-year text-muted unbold\">(2017)</span>\n",
       "</h3>\n",
       "<p class=\"text-muted \">\n",
       "<span class=\"certificate\">16</span>\n",
       "<span class=\"ghost\">|</span>\n",
       "<span class=\"runtime\">137 min</span>\n",
       "<span class=\"ghost\">|</span>\n",
       "<span class=\"genre\">\n",
       "Action, Drama, Sci-Fi            </span>\n",
       "</p>\n",
       "<div class=\"ratings-bar\">\n",
       "<div class=\"inline-block ratings-imdb-rating\" data-value=\"8.2\" name=\"ir\">\n",
       "<span class=\"global-sprite rating-star imdb-rating\"></span>\n",
       "<strong>8.2</strong>\n",
       "</div>\n",
       "<div class=\"inline-block ratings-user-rating\">\n",
       "<span class=\"userRatingValue\" data-tconst=\"tt3315342\" id=\"urv_tt3315342\">\n",
       "<span class=\"global-sprite rating-star no-rating\"></span>\n",
       "<span class=\"rate\" data-no-rating=\"Rate this\" data-value=\"0\" name=\"ur\">Rate this</span>\n",
       "</span>\n",
       "<div class=\"starBarWidget\" id=\"sb_tt3315342\">\n",
       "<div class=\"rating rating-list\" data-auth=\"\" data-ga-identifier=\"\" data-starbar-class=\"rating-list\" data-user=\"\" id=\"tt3315342|imdb|8.2|8.2|||search|title\" itemprop=\"aggregateRating\" itemscope=\"\" itemtype=\"http://schema.org/AggregateRating\" title=\"Users rated this 8.2/10 (399,160 votes) - click stars to rate\">\n",
       "<meta content=\"8.2\" itemprop=\"ratingValue\"/>\n",
       "<meta content=\"10\" itemprop=\"bestRating\"/>\n",
       "<meta content=\"399160\" itemprop=\"ratingCount\"/>\n",
       "<span class=\"rating-bg\"> </span>\n",
       "<span class=\"rating-imdb \" style=\"width: 114.8px\"> </span>\n",
       "<span class=\"rating-stars\">\n",
       "<a href=\"/register/login?why=vote&amp;ref_=tt_ov_rt\" rel=\"nofollow\" title=\"Register or login to rate this title\"><span>1</span></a>\n",
       "<a href=\"/register/login?why=vote&amp;ref_=tt_ov_rt\" rel=\"nofollow\" title=\"Register or login to rate this title\"><span>2</span></a>\n",
       "<a href=\"/register/login?why=vote&amp;ref_=tt_ov_rt\" rel=\"nofollow\" title=\"Register or login to rate this title\"><span>3</span></a>\n",
       "<a href=\"/register/login?why=vote&amp;ref_=tt_ov_rt\" rel=\"nofollow\" title=\"Register or login to rate this title\"><span>4</span></a>\n",
       "<a href=\"/register/login?why=vote&amp;ref_=tt_ov_rt\" rel=\"nofollow\" title=\"Register or login to rate this title\"><span>5</span></a>\n",
       "<a href=\"/register/login?why=vote&amp;ref_=tt_ov_rt\" rel=\"nofollow\" title=\"Register or login to rate this title\"><span>6</span></a>\n",
       "<a href=\"/register/login?why=vote&amp;ref_=tt_ov_rt\" rel=\"nofollow\" title=\"Register or login to rate this title\"><span>7</span></a>\n",
       "<a href=\"/register/login?why=vote&amp;ref_=tt_ov_rt\" rel=\"nofollow\" title=\"Register or login to rate this title\"><span>8</span></a>\n",
       "<a href=\"/register/login?why=vote&amp;ref_=tt_ov_rt\" rel=\"nofollow\" title=\"Register or login to rate this title\"><span>9</span></a>\n",
       "<a href=\"/register/login?why=vote&amp;ref_=tt_ov_rt\" rel=\"nofollow\" title=\"Register or login to rate this title\"><span>10</span></a>\n",
       "</span>\n",
       "<span class=\"rating-rating \"><span class=\"value\">8.2</span><span class=\"grey\">/</span><span class=\"grey\">10</span></span>\n",
       "<span class=\"rating-cancel \"><a href=\"/title/tt3315342/vote?v=X;k=\" rel=\"nofollow\" title=\"Delete\"><span>X</span></a></span>\n",
       " </div>\n",
       "</div>\n",
       "</div>\n",
       "<div class=\"inline-block ratings-metascore\">\n",
       "<span class=\"metascore favorable\">77        </span>\n",
       "        Metascore\n",
       "            </div>\n",
       "</div>\n",
       "<p class=\"text-muted\">\n",
       "In the near future, a weary Logan cares for an ailing Professor X, somewhere on the Mexican border. However, Logan's attempts to hide from the world, and his legacy, are upended when a young mutant arrives, pursued by dark forces.</p>\n",
       "<p class=\"\">\n",
       "    Director:\n",
       "<a href=\"/name/nm0003506/?ref_=adv_li_dr_0\">James Mangold</a>\n",
       "<span class=\"ghost\">|</span> \n",
       "    Stars:\n",
       "<a href=\"/name/nm0413168/?ref_=adv_li_st_0\">Hugh Jackman</a>, \n",
       "<a href=\"/name/nm0001772/?ref_=adv_li_st_1\">Patrick Stewart</a>, \n",
       "<a href=\"/name/nm6748436/?ref_=adv_li_st_2\">Dafne Keen</a>, \n",
       "<a href=\"/name/nm2933542/?ref_=adv_li_st_3\">Boyd Holbrook</a>\n",
       "</p>\n",
       "<p class=\"sort-num_votes-visible\">\n",
       "<span class=\"text-muted\">Votes:</span>\n",
       "<span data-value=\"399160\" name=\"nv\">399,160</span>\n",
       "<span class=\"ghost\">|</span> <span class=\"text-muted\">Gross:</span>\n",
       "<span data-value=\"226,277,068\" name=\"nv\">$226.28M</span>\n",
       "</p>\n",
       "</div>\n",
       "</div>"
      ]
     },
     "execution_count": 42,
     "metadata": {},
     "output_type": "execute_result"
    }
   ],
   "source": [
    "first_movie = movie_containers[0]\n",
    "first_movie"
   ]
  },
  {
   "cell_type": "markdown",
   "metadata": {},
   "source": [
    "### 7.1 The name of the movie\n",
    "\n",
    "We begin with the movie’s name, and locate its correspondent HTML line by using **DevTools**. You can see that the name is contained within an anchor tag <span style=\"background-color: #F9EBEA; color:##C0392B\">&lt;a&gt;</span>. This tag is nested within a header tag <span style=\"background-color: #F9EBEA; color:##C0392B\">&lt;h3&gt;</span>. The <span style=\"background-color: #F9EBEA; color:##C0392B\">&lt;h3&gt;</span> tag is nested within a <span style=\"background-color: #F9EBEA; color:##C0392B\">&lt;div&gt;</span> tag. This <span style=\"background-color: #F9EBEA; color:##C0392B\">&lt;div&gt;</span> is the third of the divs nested in the container of the first movie. We stored the content of this container in the <span style=\"background-color: #F9EBEA; color:##C0392B\">first_movie</span> variable.\n",
    "\n",
    "\n",
    "<img width=\"600\" alt=\"creating a repo\" src=\"https://drive.google.com/uc?export=view&id=0BxhVm1REqwr0SzFSX0ZPVHMyOXM\">"
   ]
  },
  {
   "cell_type": "code",
   "execution_count": 43,
   "metadata": {
    "scrolled": true
   },
   "outputs": [
    {
     "data": {
      "text/plain": [
       "<div class=\"lister-top-right\">\n",
       "<div class=\"ribbonize\" data-caller=\"filmosearch\" data-tconst=\"tt3315342\"></div>\n",
       "</div>"
      ]
     },
     "execution_count": 43,
     "metadata": {},
     "output_type": "execute_result"
    }
   ],
   "source": [
    "first_movie.div"
   ]
  },
  {
   "cell_type": "code",
   "execution_count": 44,
   "metadata": {},
   "outputs": [
    {
     "data": {
      "text/plain": [
       "<a href=\"/title/tt3315342/?ref_=adv_li_i\"> <img alt=\"Logan\" class=\"loadlate\" data-tconst=\"tt3315342\" height=\"98\" loadlate=\"https://images-na.ssl-images-amazon.com/images/M/MV5BMjQwODQwNTg4OV5BMl5BanBnXkFtZTgwMTk4MTAzMjI@._V1_UX67_CR0,0,67,98_AL_.jpg\" src=\"http://ia.media-imdb.com/images/G/01/imdb/images/nopicture/large/film-184890147._CB522736516_.png\" width=\"67\"/>\n",
       "</a>"
      ]
     },
     "execution_count": 44,
     "metadata": {},
     "output_type": "execute_result"
    }
   ],
   "source": [
    "# Accessing the first anchor tag (<a>) doesn’t take us to the movie’s name. \n",
    "# The first <a> is somewhere within the second div:\n",
    "first_movie.a"
   ]
  },
  {
   "cell_type": "code",
   "execution_count": 45,
   "metadata": {},
   "outputs": [
    {
     "data": {
      "text/plain": [
       "<h3 class=\"lister-item-header\">\n",
       "<span class=\"lister-item-index unbold text-primary\">1.</span>\n",
       "<a href=\"/title/tt3315342/?ref_=adv_li_tt\">Logan</a>\n",
       "<span class=\"lister-item-year text-muted unbold\">(2017)</span>\n",
       "</h3>"
      ]
     },
     "execution_count": 45,
     "metadata": {},
     "output_type": "execute_result"
    }
   ],
   "source": [
    "# However, accessing the first <h3> tag brings us very close:\n",
    "first_movie.h3"
   ]
  },
  {
   "cell_type": "code",
   "execution_count": 46,
   "metadata": {},
   "outputs": [
    {
     "data": {
      "text/plain": [
       "'Logan'"
      ]
     },
     "execution_count": 46,
     "metadata": {},
     "output_type": "execute_result"
    }
   ],
   "source": [
    "# From here, we can use attribute notation to access the first <a> inside the <h3> tag\n",
    "first_movie.h3.a.text"
   ]
  },
  {
   "cell_type": "markdown",
   "metadata": {},
   "source": [
    "### 7.2 The year of the movie’s release\n",
    "\n",
    "We move on with extracting the year. This data is stored within the <span style=\"background-color: #F9EBEA; color:##C0392B\">&lt;span&gt;</span> tag below the <span style=\"background-color: #F9EBEA; color:##C0392B\">&lt;a&gt;</span> that contains the name.\n",
    "\n",
    "\n",
    "\n",
    "<img width=\"600\" alt=\"creating a repo\" src=\"https://drive.google.com/uc?export=view&id=0BxhVm1REqwr0TldBUFk3OVNkeHc\">"
   ]
  },
  {
   "cell_type": "code",
   "execution_count": 47,
   "metadata": {},
   "outputs": [
    {
     "data": {
      "text/plain": [
       "'(2017)'"
      ]
     },
     "execution_count": 47,
     "metadata": {},
     "output_type": "execute_result"
    }
   ],
   "source": [
    "first_year = first_movie.h3.find('span', class_ = 'lister-item-year text-muted unbold')\n",
    "first_year = first_year.text\n",
    "first_year"
   ]
  },
  {
   "cell_type": "markdown",
   "metadata": {},
   "source": [
    "We could easily clean that output and convert it to an integer. But if you explore more pages, you will notice that for some movies the year takes unpredictable values like (2017)(I) or (2015)(V). It’s more efficient to do the cleaning after the scraping, when we’ll know all the year values."
   ]
  },
  {
   "cell_type": "markdown",
   "metadata": {},
   "source": [
    "### 7.3 The IMDB rating\n",
    "\n",
    "We now focus on extracting the IMDB rating of the first movie.\n",
    "\n",
    "There are a couple of ways to do that, but we’ll first try the easiest one. If you inspect the IMDB rating using DevTools, you’ll notice that the rating is contained within a <span style=\"background-color: #F9EBEA; color:##C0392B\">&lt;strong&gt;</span> [tag](https://www.w3schools.com/tags/tag_strong.asp).\n",
    "\n",
    "\n",
    "<img width=\"600\" alt=\"creating a repo\" src=\"https://drive.google.com/uc?export=view&id=0BxhVm1REqwr0QWVBVzc2VEItQzA\">"
   ]
  },
  {
   "cell_type": "code",
   "execution_count": 48,
   "metadata": {},
   "outputs": [
    {
     "data": {
      "text/plain": [
       "8.2"
      ]
     },
     "execution_count": 48,
     "metadata": {},
     "output_type": "execute_result"
    }
   ],
   "source": [
    "first_imdb = float(first_movie.strong.text)\n",
    "first_imdb"
   ]
  },
  {
   "cell_type": "markdown",
   "metadata": {},
   "source": [
    "### 7.4 The Metascore\n",
    "\n",
    "If we inspect the Metascore using DevTools, we’ll notice that we can find it within a <span style=\"background-color: #F9EBEA; color:##C0392B\">&lt;strong&gt;</span> tag.\n",
    "\n",
    "\n",
    "<img width=\"600\" alt=\"creating a repo\" src=\"https://drive.google.com/uc?export=view&id=0BxhVm1REqwr0MGt4Z1RVUGN6WWM\">\n"
   ]
  },
  {
   "cell_type": "code",
   "execution_count": 49,
   "metadata": {},
   "outputs": [
    {
     "name": "stdout",
     "output_type": "stream",
     "text": [
      "77\n"
     ]
    }
   ],
   "source": [
    "first_mscore = first_movie.find('span', class_ = 'metascore favorable')\n",
    "\n",
    "first_mscore = int(first_mscore.text)\n",
    "print(first_mscore)"
   ]
  },
  {
   "cell_type": "markdown",
   "metadata": {},
   "source": [
    "### 7.5 The number of votes\n",
    "\n",
    "The number of votes is contained within a <span style=\"background-color: #F9EBEA; color:##C0392B\">&lt;span&gt;</span> tag. Its distinctive mark is a <span style=\"background-color: #F9EBEA; color:##C0392B\">name</span> attribute with the value <span style=\"background-color: #F9EBEA; color:##C0392B\">nv</span>.\n",
    "\n",
    "<img width=\"400\" alt=\"creating a repo\" src=\"https://drive.google.com/uc?export=view&id=0BxhVm1REqwr0S0RfWWFWNTJiczg\">\n",
    "\n",
    "\n",
    "The <span style=\"background-color: #F9EBEA; color:##C0392B\">name</span> attribute is different from the class attribute. Using BeautifulSoup we can access elements by any attribute. The <span style=\"background-color: #F9EBEA; color:##C0392B\">find()</span> and <span style=\"background-color: #F9EBEA; color:##C0392B\">find_all()</span> functions have a parameter named <span style=\"background-color: #F9EBEA; color:##C0392B\">attrs</span>. To this we can pass in the attributes and values we are searching for as dictionary:"
   ]
  },
  {
   "cell_type": "code",
   "execution_count": 50,
   "metadata": {},
   "outputs": [
    {
     "data": {
      "text/plain": [
       "<span data-value=\"399160\" name=\"nv\">399,160</span>"
      ]
     },
     "execution_count": 50,
     "metadata": {},
     "output_type": "execute_result"
    }
   ],
   "source": [
    "first_votes = first_movie.find('span', attrs = {'name':'nv'})\n",
    "first_votes"
   ]
  },
  {
   "cell_type": "code",
   "execution_count": 51,
   "metadata": {},
   "outputs": [
    {
     "data": {
      "text/plain": [
       "399160"
      ]
     },
     "execution_count": 51,
     "metadata": {},
     "output_type": "execute_result"
    }
   ],
   "source": [
    "first_votes = int(first_votes['data-value'])\n",
    "first_votes"
   ]
  },
  {
   "cell_type": "markdown",
   "metadata": {},
   "source": [
    "8. The script for a single page\n",
    "==\n",
    "\n",
    "Before piecing together what we’ve done so far, we have to make sure that we’ll extract the data only from the containers that have a Metascore.\n",
    "\n",
    "<img width=\"400\" alt=\"creating a repo\" src=\"https://drive.google.com/uc?export=view&id=0BxhVm1REqwr0RzdZWlhNSkNreG8\">\n",
    "\n",
    "\n",
    "We need to add a condition to skip movies without a Metascore.\n",
    "\n",
    "Using DevTools again, we see that the Metascore section is contained within a <span style=\"background-color: #F9EBEA; color:##C0392B\">&lt;div&gt;</span> tag. The class attribute has two values: <span style=\"background-color: #F9EBEA; color:##C0392B\">inline-block</span> and <span style=\"background-color: #F9EBEA; color:##C0392B\">ratings-metascore</span>. The distinctive one is clearly <span style=\"background-color: #F9EBEA; color:##C0392B\">ratings-metascore</span>.\n",
    "\n",
    "\n",
    "<img width=\"400\" alt=\"creating a repo\" src=\"https://drive.google.com/uc?export=view&id=0BxhVm1REqwr0dXhlT0laQkNxRkk\">\n",
    "\n",
    "\n",
    "We can use <span style=\"background-color: #F9EBEA; color:##C0392B\">find()</span> to search each movie container for a <span style=\"background-color: #F9EBEA; color:##C0392B\">div</span> having that distinct mark. When <span style=\"background-color: #F9EBEA; color:##C0392B\">find()</span> doesn’t find anything, it returns a <span style=\"background-color: #F9EBEA; color:##C0392B\">None</span> object. We can use this result in an if statement to control whether a movie is scraped.\n",
    "\n",
    "Let’s look on the web page to search for a movie container that doesn’t have a Metascore, and see what <span style=\"background-color: #F9EBEA; color:##C0392B\">find()</span> returns.\n",
    "\n",
    "*Important: when I ran the following code, the eighth container didn’t have a Metascore. However, this is a moving target, because the number of votes constantly changes for each movie. To get the same outputs as I did in the next demonstrative code cell, you should search a container that doesn’t have a Metascore at the time you’re running the code.*"
   ]
  },
  {
   "cell_type": "code",
   "execution_count": 52,
   "metadata": {},
   "outputs": [
    {
     "data": {
      "text/plain": [
       "NoneType"
      ]
     },
     "execution_count": 52,
     "metadata": {},
     "output_type": "execute_result"
    }
   ],
   "source": [
    "fifteenth_movie_mscore = movie_containers[14].find('div', class_ = 'ratings-metascore')\n",
    "type(fifteenth_movie_mscore)"
   ]
  },
  {
   "cell_type": "markdown",
   "metadata": {},
   "source": [
    "Now let’s put together the code above, and compress it as much as possible, but only insofar as it’s still easily readable."
   ]
  },
  {
   "cell_type": "code",
   "execution_count": 53,
   "metadata": {
    "collapsed": true
   },
   "outputs": [],
   "source": [
    "# Lists to store the scraped data in\n",
    "names = []\n",
    "years = []\n",
    "imdb_ratings = []\n",
    "metascores = []\n",
    "votes = []\n",
    "\n",
    "# Extract data from individual movie container\n",
    "for container in movie_containers:\n",
    "    \n",
    "    # If the movie has Metascore, then extract:\n",
    "    if container.find('div', class_ = 'ratings-metascore') is not None:\n",
    "        \n",
    "        # The name\n",
    "        name = container.h3.a.text\n",
    "        names.append(name)\n",
    "        \n",
    "        # The year\n",
    "        year = container.h3.find('span', class_ = 'lister-item-year').text\n",
    "        years.append(year)\n",
    "        \n",
    "        # The IMDB rating\n",
    "        imdb = float(container.strong.text)\n",
    "        imdb_ratings.append(imdb)\n",
    "        \n",
    "        # The Metascore\n",
    "        m_score = container.find('span', class_ = 'metascore').text\n",
    "        metascores.append(int(m_score))\n",
    "        \n",
    "        # The number of votes\n",
    "        vote = container.find('span', attrs = {'name':'nv'})['data-value']\n",
    "        votes.append(int(vote))"
   ]
  },
  {
   "cell_type": "code",
   "execution_count": 54,
   "metadata": {
    "scrolled": true
   },
   "outputs": [
    {
     "name": "stdout",
     "output_type": "stream",
     "text": [
      "<class 'pandas.core.frame.DataFrame'>\n",
      "RangeIndex: 39 entries, 0 to 38\n",
      "Data columns (total 5 columns):\n",
      "imdb         39 non-null float64\n",
      "metascore    39 non-null int64\n",
      "movie        39 non-null object\n",
      "votes        39 non-null int64\n",
      "year         39 non-null object\n",
      "dtypes: float64(1), int64(2), object(2)\n",
      "memory usage: 1.6+ KB\n",
      "None\n"
     ]
    },
    {
     "data": {
      "text/html": [
       "<div>\n",
       "<style>\n",
       "    .dataframe thead tr:only-child th {\n",
       "        text-align: right;\n",
       "    }\n",
       "\n",
       "    .dataframe thead th {\n",
       "        text-align: left;\n",
       "    }\n",
       "\n",
       "    .dataframe tbody tr th {\n",
       "        vertical-align: top;\n",
       "    }\n",
       "</style>\n",
       "<table border=\"1\" class=\"dataframe\">\n",
       "  <thead>\n",
       "    <tr style=\"text-align: right;\">\n",
       "      <th></th>\n",
       "      <th>imdb</th>\n",
       "      <th>metascore</th>\n",
       "      <th>movie</th>\n",
       "      <th>votes</th>\n",
       "      <th>year</th>\n",
       "    </tr>\n",
       "  </thead>\n",
       "  <tbody>\n",
       "    <tr>\n",
       "      <th>0</th>\n",
       "      <td>8.2</td>\n",
       "      <td>77</td>\n",
       "      <td>Logan</td>\n",
       "      <td>399160</td>\n",
       "      <td>(2017)</td>\n",
       "    </tr>\n",
       "    <tr>\n",
       "      <th>1</th>\n",
       "      <td>7.6</td>\n",
       "      <td>76</td>\n",
       "      <td>Mulher-Maravilha</td>\n",
       "      <td>310300</td>\n",
       "      <td>(2017)</td>\n",
       "    </tr>\n",
       "    <tr>\n",
       "      <th>2</th>\n",
       "      <td>7.8</td>\n",
       "      <td>67</td>\n",
       "      <td>Guardiões da Galáxia Vol. 2</td>\n",
       "      <td>284519</td>\n",
       "      <td>(2017)</td>\n",
       "    </tr>\n",
       "    <tr>\n",
       "      <th>3</th>\n",
       "      <td>8.3</td>\n",
       "      <td>94</td>\n",
       "      <td>Dunkirk</td>\n",
       "      <td>230651</td>\n",
       "      <td>(2017)</td>\n",
       "    </tr>\n",
       "    <tr>\n",
       "      <th>4</th>\n",
       "      <td>7.6</td>\n",
       "      <td>73</td>\n",
       "      <td>Homem-Aranha: De Volta ao Lar</td>\n",
       "      <td>214839</td>\n",
       "      <td>(2017)</td>\n",
       "    </tr>\n",
       "    <tr>\n",
       "      <th>5</th>\n",
       "      <td>7.8</td>\n",
       "      <td>86</td>\n",
       "      <td>Em Ritmo de Fuga</td>\n",
       "      <td>195546</td>\n",
       "      <td>(2017)</td>\n",
       "    </tr>\n",
       "    <tr>\n",
       "      <th>6</th>\n",
       "      <td>7.7</td>\n",
       "      <td>84</td>\n",
       "      <td>Corra!</td>\n",
       "      <td>192480</td>\n",
       "      <td>(I) (2017)</td>\n",
       "    </tr>\n",
       "    <tr>\n",
       "      <th>7</th>\n",
       "      <td>7.6</td>\n",
       "      <td>75</td>\n",
       "      <td>John Wick: Um Novo Dia Para Matar</td>\n",
       "      <td>191969</td>\n",
       "      <td>(2017)</td>\n",
       "    </tr>\n",
       "    <tr>\n",
       "      <th>8</th>\n",
       "      <td>7.3</td>\n",
       "      <td>65</td>\n",
       "      <td>A Bela e a Fera</td>\n",
       "      <td>176463</td>\n",
       "      <td>(2017)</td>\n",
       "    </tr>\n",
       "    <tr>\n",
       "      <th>9</th>\n",
       "      <td>6.7</td>\n",
       "      <td>62</td>\n",
       "      <td>Kong: A Ilha da Caveira</td>\n",
       "      <td>169984</td>\n",
       "      <td>(2017)</td>\n",
       "    </tr>\n",
       "    <tr>\n",
       "      <th>10</th>\n",
       "      <td>6.5</td>\n",
       "      <td>65</td>\n",
       "      <td>Alien: Covenant</td>\n",
       "      <td>167319</td>\n",
       "      <td>(2017)</td>\n",
       "    </tr>\n",
       "    <tr>\n",
       "      <th>11</th>\n",
       "      <td>7.8</td>\n",
       "      <td>70</td>\n",
       "      <td>It: A Coisa</td>\n",
       "      <td>166770</td>\n",
       "      <td>(I) (2017)</td>\n",
       "    </tr>\n",
       "    <tr>\n",
       "      <th>12</th>\n",
       "      <td>6.7</td>\n",
       "      <td>39</td>\n",
       "      <td>Piratas do Caribe: A Vingança de Salazar</td>\n",
       "      <td>149799</td>\n",
       "      <td>(2017)</td>\n",
       "    </tr>\n",
       "    <tr>\n",
       "      <th>13</th>\n",
       "      <td>6.8</td>\n",
       "      <td>56</td>\n",
       "      <td>Velozes e Furiosos 8</td>\n",
       "      <td>140333</td>\n",
       "      <td>(2017)</td>\n",
       "    </tr>\n",
       "    <tr>\n",
       "      <th>14</th>\n",
       "      <td>8.5</td>\n",
       "      <td>81</td>\n",
       "      <td>Blade Runner 2049</td>\n",
       "      <td>133582</td>\n",
       "      <td>(2017)</td>\n",
       "    </tr>\n",
       "    <tr>\n",
       "      <th>15</th>\n",
       "      <td>6.6</td>\n",
       "      <td>54</td>\n",
       "      <td>Vida</td>\n",
       "      <td>129548</td>\n",
       "      <td>(I) (2017)</td>\n",
       "    </tr>\n",
       "    <tr>\n",
       "      <th>16</th>\n",
       "      <td>6.4</td>\n",
       "      <td>52</td>\n",
       "      <td>A Vigilante do Amanhã: Ghost in the Shell</td>\n",
       "      <td>126780</td>\n",
       "      <td>(2017)</td>\n",
       "    </tr>\n",
       "    <tr>\n",
       "      <th>17</th>\n",
       "      <td>7.6</td>\n",
       "      <td>82</td>\n",
       "      <td>Planeta dos Macacos: A Guerra</td>\n",
       "      <td>111751</td>\n",
       "      <td>(2017)</td>\n",
       "    </tr>\n",
       "    <tr>\n",
       "      <th>18</th>\n",
       "      <td>5.5</td>\n",
       "      <td>34</td>\n",
       "      <td>A Múmia</td>\n",
       "      <td>105365</td>\n",
       "      <td>(2017)</td>\n",
       "    </tr>\n",
       "    <tr>\n",
       "      <th>19</th>\n",
       "      <td>7.3</td>\n",
       "      <td>75</td>\n",
       "      <td>LEGO Batman: O Filme</td>\n",
       "      <td>82536</td>\n",
       "      <td>(2017)</td>\n",
       "    </tr>\n",
       "    <tr>\n",
       "      <th>20</th>\n",
       "      <td>5.6</td>\n",
       "      <td>37</td>\n",
       "      <td>Baywatch</td>\n",
       "      <td>74994</td>\n",
       "      <td>(2017)</td>\n",
       "    </tr>\n",
       "    <tr>\n",
       "      <th>21</th>\n",
       "      <td>5.2</td>\n",
       "      <td>28</td>\n",
       "      <td>Transformers: O Último Cavaleiro</td>\n",
       "      <td>74072</td>\n",
       "      <td>(2017)</td>\n",
       "    </tr>\n",
       "    <tr>\n",
       "      <th>22</th>\n",
       "      <td>7.0</td>\n",
       "      <td>47</td>\n",
       "      <td>Dupla Explosiva</td>\n",
       "      <td>73567</td>\n",
       "      <td>(2017)</td>\n",
       "    </tr>\n",
       "    <tr>\n",
       "      <th>23</th>\n",
       "      <td>6.1</td>\n",
       "      <td>44</td>\n",
       "      <td>Power Rangers</td>\n",
       "      <td>68999</td>\n",
       "      <td>(2017)</td>\n",
       "    </tr>\n",
       "    <tr>\n",
       "      <th>24</th>\n",
       "      <td>7.2</td>\n",
       "      <td>44</td>\n",
       "      <td>Kingsman: O Círculo Dourado</td>\n",
       "      <td>67413</td>\n",
       "      <td>(2017)</td>\n",
       "    </tr>\n",
       "    <tr>\n",
       "      <th>25</th>\n",
       "      <td>7.3</td>\n",
       "      <td>67</td>\n",
       "      <td>T2 Trainspotting</td>\n",
       "      <td>67075</td>\n",
       "      <td>(2017)</td>\n",
       "    </tr>\n",
       "    <tr>\n",
       "      <th>26</th>\n",
       "      <td>5.2</td>\n",
       "      <td>42</td>\n",
       "      <td>xXx: Reativado</td>\n",
       "      <td>61539</td>\n",
       "      <td>(2017)</td>\n",
       "    </tr>\n",
       "    <tr>\n",
       "      <th>27</th>\n",
       "      <td>6.4</td>\n",
       "      <td>50</td>\n",
       "      <td>O Poderoso Chefinho</td>\n",
       "      <td>58947</td>\n",
       "      <td>(2017)</td>\n",
       "    </tr>\n",
       "    <tr>\n",
       "      <th>28</th>\n",
       "      <td>4.6</td>\n",
       "      <td>33</td>\n",
       "      <td>Cinquenta Tons Mais Escuros</td>\n",
       "      <td>57910</td>\n",
       "      <td>(2017)</td>\n",
       "    </tr>\n",
       "    <tr>\n",
       "      <th>29</th>\n",
       "      <td>5.8</td>\n",
       "      <td>34</td>\n",
       "      <td>A Torre Negra</td>\n",
       "      <td>51875</td>\n",
       "      <td>(2017)</td>\n",
       "    </tr>\n",
       "    <tr>\n",
       "      <th>30</th>\n",
       "      <td>6.9</td>\n",
       "      <td>63</td>\n",
       "      <td>Atômica</td>\n",
       "      <td>51587</td>\n",
       "      <td>(2017)</td>\n",
       "    </tr>\n",
       "    <tr>\n",
       "      <th>31</th>\n",
       "      <td>6.3</td>\n",
       "      <td>49</td>\n",
       "      <td>Meu Malvado Favorito 3</td>\n",
       "      <td>50670</td>\n",
       "      <td>(2017)</td>\n",
       "    </tr>\n",
       "    <tr>\n",
       "      <th>32</th>\n",
       "      <td>6.7</td>\n",
       "      <td>62</td>\n",
       "      <td>Annabelle 2: A Criação do Mal</td>\n",
       "      <td>50377</td>\n",
       "      <td>(2017)</td>\n",
       "    </tr>\n",
       "    <tr>\n",
       "      <th>33</th>\n",
       "      <td>7.6</td>\n",
       "      <td>60</td>\n",
       "      <td>Um Laço de Amor</td>\n",
       "      <td>48668</td>\n",
       "      <td>(2017)</td>\n",
       "    </tr>\n",
       "    <tr>\n",
       "      <th>34</th>\n",
       "      <td>4.6</td>\n",
       "      <td>43</td>\n",
       "      <td>Death Note</td>\n",
       "      <td>48286</td>\n",
       "      <td>(2017)</td>\n",
       "    </tr>\n",
       "    <tr>\n",
       "      <th>35</th>\n",
       "      <td>7.4</td>\n",
       "      <td>76</td>\n",
       "      <td>Okja</td>\n",
       "      <td>45327</td>\n",
       "      <td>(2017)</td>\n",
       "    </tr>\n",
       "    <tr>\n",
       "      <th>36</th>\n",
       "      <td>5.3</td>\n",
       "      <td>43</td>\n",
       "      <td>O Círculo</td>\n",
       "      <td>44600</td>\n",
       "      <td>(I) (2017)</td>\n",
       "    </tr>\n",
       "    <tr>\n",
       "      <th>37</th>\n",
       "      <td>6.6</td>\n",
       "      <td>50</td>\n",
       "      <td>Despedida em Grande Estilo</td>\n",
       "      <td>42486</td>\n",
       "      <td>(2017)</td>\n",
       "    </tr>\n",
       "    <tr>\n",
       "      <th>38</th>\n",
       "      <td>6.7</td>\n",
       "      <td>51</td>\n",
       "      <td>Valerian e a Cidade dos Mil Planetas</td>\n",
       "      <td>42020</td>\n",
       "      <td>(2017)</td>\n",
       "    </tr>\n",
       "  </tbody>\n",
       "</table>\n",
       "</div>"
      ],
      "text/plain": [
       "    imdb  metascore                                      movie   votes  \\\n",
       "0    8.2         77                                      Logan  399160   \n",
       "1    7.6         76                           Mulher-Maravilha  310300   \n",
       "2    7.8         67                Guardiões da Galáxia Vol. 2  284519   \n",
       "3    8.3         94                                    Dunkirk  230651   \n",
       "4    7.6         73              Homem-Aranha: De Volta ao Lar  214839   \n",
       "5    7.8         86                           Em Ritmo de Fuga  195546   \n",
       "6    7.7         84                                     Corra!  192480   \n",
       "7    7.6         75          John Wick: Um Novo Dia Para Matar  191969   \n",
       "8    7.3         65                            A Bela e a Fera  176463   \n",
       "9    6.7         62                    Kong: A Ilha da Caveira  169984   \n",
       "10   6.5         65                            Alien: Covenant  167319   \n",
       "11   7.8         70                                It: A Coisa  166770   \n",
       "12   6.7         39   Piratas do Caribe: A Vingança de Salazar  149799   \n",
       "13   6.8         56                       Velozes e Furiosos 8  140333   \n",
       "14   8.5         81                          Blade Runner 2049  133582   \n",
       "15   6.6         54                                       Vida  129548   \n",
       "16   6.4         52  A Vigilante do Amanhã: Ghost in the Shell  126780   \n",
       "17   7.6         82              Planeta dos Macacos: A Guerra  111751   \n",
       "18   5.5         34                                    A Múmia  105365   \n",
       "19   7.3         75                       LEGO Batman: O Filme   82536   \n",
       "20   5.6         37                                   Baywatch   74994   \n",
       "21   5.2         28           Transformers: O Último Cavaleiro   74072   \n",
       "22   7.0         47                            Dupla Explosiva   73567   \n",
       "23   6.1         44                              Power Rangers   68999   \n",
       "24   7.2         44                Kingsman: O Círculo Dourado   67413   \n",
       "25   7.3         67                           T2 Trainspotting   67075   \n",
       "26   5.2         42                             xXx: Reativado   61539   \n",
       "27   6.4         50                        O Poderoso Chefinho   58947   \n",
       "28   4.6         33                Cinquenta Tons Mais Escuros   57910   \n",
       "29   5.8         34                              A Torre Negra   51875   \n",
       "30   6.9         63                                    Atômica   51587   \n",
       "31   6.3         49                     Meu Malvado Favorito 3   50670   \n",
       "32   6.7         62              Annabelle 2: A Criação do Mal   50377   \n",
       "33   7.6         60                            Um Laço de Amor   48668   \n",
       "34   4.6         43                                 Death Note   48286   \n",
       "35   7.4         76                                       Okja   45327   \n",
       "36   5.3         43                                  O Círculo   44600   \n",
       "37   6.6         50                 Despedida em Grande Estilo   42486   \n",
       "38   6.7         51       Valerian e a Cidade dos Mil Planetas   42020   \n",
       "\n",
       "          year  \n",
       "0       (2017)  \n",
       "1       (2017)  \n",
       "2       (2017)  \n",
       "3       (2017)  \n",
       "4       (2017)  \n",
       "5       (2017)  \n",
       "6   (I) (2017)  \n",
       "7       (2017)  \n",
       "8       (2017)  \n",
       "9       (2017)  \n",
       "10      (2017)  \n",
       "11  (I) (2017)  \n",
       "12      (2017)  \n",
       "13      (2017)  \n",
       "14      (2017)  \n",
       "15  (I) (2017)  \n",
       "16      (2017)  \n",
       "17      (2017)  \n",
       "18      (2017)  \n",
       "19      (2017)  \n",
       "20      (2017)  \n",
       "21      (2017)  \n",
       "22      (2017)  \n",
       "23      (2017)  \n",
       "24      (2017)  \n",
       "25      (2017)  \n",
       "26      (2017)  \n",
       "27      (2017)  \n",
       "28      (2017)  \n",
       "29      (2017)  \n",
       "30      (2017)  \n",
       "31      (2017)  \n",
       "32      (2017)  \n",
       "33      (2017)  \n",
       "34      (2017)  \n",
       "35      (2017)  \n",
       "36  (I) (2017)  \n",
       "37      (2017)  \n",
       "38      (2017)  "
      ]
     },
     "execution_count": 54,
     "metadata": {},
     "output_type": "execute_result"
    }
   ],
   "source": [
    "# Let’s check the data collected so far. \n",
    "# Pandas makes it easy for us to see whether \n",
    "# we’ve scraped our data successfully.\n",
    "\n",
    "import pandas as pd\n",
    "\n",
    "web_scraping_df = pd.DataFrame({'movie': names,\n",
    "                       'year': years,\n",
    "                       'imdb': imdb_ratings,\n",
    "                       'metascore': metascores,\n",
    "                       'votes': votes})\n",
    "print(web_scraping_df.info())\n",
    "web_scraping_df"
   ]
  },
  {
   "cell_type": "markdown",
   "metadata": {},
   "source": [
    "Everything went just as expected!\n",
    "\n",
    "As a side note, if you run the code from a country where English is not the main language, it’s very likely that you’ll get some of the movie names translated into the main language of that country.\n",
    "\n",
    "Most likely, this happens because the server infers your location from your IP address. Even if you are located in a country where English is the main language, you may still get translated content. This may happen if you’re using a VPN while you’re making the <span style=\"background-color: #F9EBEA; color:##C0392B\">GET</span> requests.\n",
    "\n",
    "If you run into this issue, pass the following values to the headers parameter of the <span style=\"background-color: #F9EBEA; color:##C0392B\">get()</span> function:\n",
    "\n",
    ">```python\n",
    "headers = {\"Accept-Language\": \"en-US\"}\n",
    "```"
   ]
  },
  {
   "cell_type": "markdown",
   "metadata": {},
   "source": [
    "9. The script for multiple pages\n",
    "==\n",
    "\n",
    "Scraping multiple pages is a bit more challenging. We’ll build upon our one-page script by doing three more things:\n",
    "\n",
    "- Making all the requests we want from within the loop.\n",
    "- Controlling the loop’s rate to avoid bombarding the server with requests.\n",
    "- Monitoring the loop while it runs.\n",
    "\n",
    "We’ll scrape the first 4 pages of each year in the interval 2000-2017. 4 pages for each of the 18 years makes for a total of 72 pages. Each page has 50 movies, so we’ll scrape data for 3600 movies at most. But not all the movies have a Metascore, so the number will be lower than that. Even so, we are still very likely to get data for over 2000 movies.\n",
    "\n",
    "### 9.1 Changing the URL’s parameters\n",
    "\n",
    "As shown earlier, the URLs follow a certain logic as the web pages change.\n",
    "\n",
    "<img width=\"600\" alt=\"creating a repo\" src=\"https://drive.google.com/uc?export=view&id=0BxhVm1REqwr0RkYzY29qdy1JVjQ\">\n",
    "\n",
    "As we are making the requests, we’ll only have to vary the values of only two parameters of the URL: the <span style=\"background-color: #F9EBEA; color:##C0392B\">realease_date</span> parameter, and page. Let’s prepare the values we’ll need for the forthcoming loop. In the next code cell we will:\n",
    "\n",
    "- Create a list called <span style=\"background-color: #F9EBEA; color:##C0392B\">pages</span>, and populate it with the strings corresponding to the first 4 pages.\n",
    "- Create a list called <span style=\"background-color: #F9EBEA; color:##C0392B\">years_url</span> and populate it with the strings corresponding to the years 2000-2017.\n"
   ]
  },
  {
   "cell_type": "code",
   "execution_count": 55,
   "metadata": {
    "collapsed": true
   },
   "outputs": [],
   "source": [
    "pages = [str(i) for i in range(1,5)]\n",
    "years_url = [str(i) for i in range(2000,2018)]"
   ]
  },
  {
   "cell_type": "code",
   "execution_count": 56,
   "metadata": {},
   "outputs": [
    {
     "data": {
      "text/plain": [
       "['1', '2', '3', '4']"
      ]
     },
     "execution_count": 56,
     "metadata": {},
     "output_type": "execute_result"
    }
   ],
   "source": [
    "pages"
   ]
  },
  {
   "cell_type": "code",
   "execution_count": 57,
   "metadata": {},
   "outputs": [
    {
     "data": {
      "text/plain": [
       "['2000',\n",
       " '2001',\n",
       " '2002',\n",
       " '2003',\n",
       " '2004',\n",
       " '2005',\n",
       " '2006',\n",
       " '2007',\n",
       " '2008',\n",
       " '2009',\n",
       " '2010',\n",
       " '2011',\n",
       " '2012',\n",
       " '2013',\n",
       " '2014',\n",
       " '2015',\n",
       " '2016',\n",
       " '2017']"
      ]
     },
     "execution_count": 57,
     "metadata": {},
     "output_type": "execute_result"
    }
   ],
   "source": [
    "years_url"
   ]
  },
  {
   "cell_type": "markdown",
   "metadata": {},
   "source": [
    "### 9.2 Controlling the crawl-rate\n",
    "\n",
    "Controlling the rate of crawling is beneficial for us, and for the website we are scraping. If we avoid hammering the server with tens of requests per second, then we are much less likely to get our IP address banned. We also avoid disrupting the activity of the website we scrape by allowing the server to respond to other users’ requests too.\n",
    "\n",
    "We’ll control the loop’s rate by using the <span style=\"background-color: #F9EBEA; color:##C0392B\">sleep()</span> function from Python’s time module. <span style=\"background-color: #F9EBEA; color:##C0392B\">sleep()</span>  will pause the execution of the loop for a specified amount of seconds.\n",
    "\n",
    "To mimic human behavior, we’ll vary the amount of waiting time between requests by using the <span style=\"background-color: #F9EBEA; color:##C0392B\">randint()</span>  function from the Python’s random module. <span style=\"background-color: #F9EBEA; color:##C0392B\">randint()</span> randomly generates integers within a specified interval.\n",
    "\n",
    "\n",
    "<img width=\"400\" alt=\"creating a repo\" src=\"https://drive.google.com/uc?export=view&id=0BxhVm1REqwr0Z0RQT0dlRlFkY2s\">"
   ]
  },
  {
   "cell_type": "code",
   "execution_count": 58,
   "metadata": {
    "collapsed": true
   },
   "outputs": [],
   "source": [
    "from time import sleep\n",
    "from random import randint\n"
   ]
  },
  {
   "cell_type": "markdown",
   "metadata": {},
   "source": [
    "### 9.3 Monitoring the loop as it’s still going\n",
    "\n",
    "Given that we’re scraping 72 pages, it would be nice if we could find a way to monitor the scraping process as it’s still going. This feature is definitely optional, but it can be very helpful in the testing and debugging process. Also, the greater the number of pages, the more helpful the monitoring becomes. If you are going to scrape hundreds or thousands of web pages in a single code run, I would say that this feature becomes a must.\n",
    "\n",
    "For our script, we’ll make use of this feature, and monitor the following parameters:\n",
    "\n",
    "- The **frequency (speed) of requests**, so we make sure our program is not overloading the server.\n",
    "- The **number of requests**, so we can halt the loop in case the number of expected requests is exceeded.\n",
    "- The **status code** of our requests, so we make sure the server is sending back the proper responses.\n",
    "\n",
    "To get a frequency value we’ll divide the number of requests by the time elapsed since the first request. This is similar to computing the speed of a car - we divide the distance by the time taken to cover that distance. Let’s experiment with this monitoring technique at a small scale first."
   ]
  },
  {
   "cell_type": "code",
   "execution_count": 59,
   "metadata": {
    "scrolled": true
   },
   "outputs": [
    {
     "name": "stdout",
     "output_type": "stream",
     "text": [
      "Request: 1; Frequency: 0.49907124029014477 requests/s\n",
      "Request: 2; Frequency: 0.49923017121794344 requests/s\n",
      "Request: 3; Frequency: 0.4281416409838296 requests/s\n",
      "Request: 4; Frequency: 0.4992579224817201 requests/s\n",
      "Request: 5; Frequency: 0.49932121522308376 requests/s\n"
     ]
    }
   ],
   "source": [
    "from time import time\n",
    "\n",
    "start_time = time()\n",
    "requests = 0\n",
    "\n",
    "for _ in range(5):\n",
    "    # A request would go here\n",
    "    requests += 1\n",
    "    sleep(randint(1,3))\n",
    "    elapsed_time = time() - start_time\n",
    "    print('Request: {}; Frequency: {} requests/s'.format(requests, requests/elapsed_time))"
   ]
  },
  {
   "cell_type": "markdown",
   "metadata": {},
   "source": [
    "Since we’re going to make 72 requests, our work will look a bit untidy as the output accumulates. To avoid that, we’ll clear the output after each iteration, and replace it with information about the most recent request. To do that we’ll use the <span style=\"background-color: #F9EBEA; color:##C0392B\">clear_output()</span> [function](https://ipython.org/ipython-doc/2/api/generated/IPython.core.display.html#IPython.core.display.clear_output) from the IPython’s <span style=\"background-color: #F9EBEA; color:##C0392B\">core.display</span> [module](https://ipython.org/ipython-doc/2/api/generated/IPython.core.display.html#module-IPython.core.display). We’ll set the wait parameter of <span style=\"background-color: #F9EBEA; color:##C0392B\">clear_output()</span> to True to wait with replacing the current output until some new output appears."
   ]
  },
  {
   "cell_type": "code",
   "execution_count": 60,
   "metadata": {},
   "outputs": [
    {
     "name": "stdout",
     "output_type": "stream",
     "text": [
      "Request: 5; Frequency: 0.7115206591521914 requests/s\n"
     ]
    }
   ],
   "source": [
    "from IPython.core.display import clear_output\n",
    "\n",
    "start_time = time()\n",
    "requests = 0\n",
    "\n",
    "for _ in range(5):\n",
    "    # A request would go here\n",
    "    requests += 1\n",
    "    sleep(randint(1,3))\n",
    "    current_time = time()\n",
    "    elapsed_time = current_time - start_time\n",
    "    print('Request: {}; Frequency: {} requests/s'.format(requests, requests/elapsed_time))\n",
    "    clear_output(wait = True)"
   ]
  },
  {
   "cell_type": "markdown",
   "metadata": {},
   "source": [
    "To monitor the status code we’ll set the program to warn us if there’s something off. A successful request is indicated by a status code of 200. We’ll use the <span style=\"background-color: #F9EBEA; color:##C0392B\">warn()</span> function from the warnings module to throw a warning if the status code is not 200.\n",
    "\n"
   ]
  },
  {
   "cell_type": "code",
   "execution_count": 61,
   "metadata": {
    "scrolled": false
   },
   "outputs": [
    {
     "name": "stderr",
     "output_type": "stream",
     "text": [
      "/Users/ivanovitch/anaconda/lib/python3.6/site-packages/ipykernel/__main__.py:3: UserWarning: Warning Simulation\n",
      "  app.launch_new_instance()\n"
     ]
    }
   ],
   "source": [
    "from warnings import warn\n",
    "\n",
    "warn(\"Warning Simulation\")"
   ]
  },
  {
   "cell_type": "markdown",
   "metadata": {},
   "source": [
    "We chose a warning over breaking the loop because there’s a good possibility we’ll scrape enough data, even if some of the requests fail. We will only break the loop if the number of requests is greater than expected.\n",
    "\n"
   ]
  },
  {
   "cell_type": "markdown",
   "metadata": {},
   "source": [
    "9.4 Piecing everything together\n",
    "=="
   ]
  },
  {
   "cell_type": "code",
   "execution_count": 62,
   "metadata": {},
   "outputs": [
    {
     "name": "stdout",
     "output_type": "stream",
     "text": [
      "Request:72; Frequency: 0.0734038074429278 requests/s\n"
     ]
    }
   ],
   "source": [
    "# Redeclaring the lists to store data in\n",
    "names = []\n",
    "years = []\n",
    "imdb_ratings = []\n",
    "metascores = []\n",
    "votes = []\n",
    "\n",
    "# Preparing the monitoring of the loop\n",
    "start_time = time()\n",
    "requests = 0\n",
    "\n",
    "# For every year in the interval 2000-2017\n",
    "for year_url in years_url:\n",
    "    \n",
    "    # For every page in the interval 1-4\n",
    "    for page in pages:\n",
    "        \n",
    "        #url \n",
    "        url = 'http://www.imdb.com/search/title?release_date={}\\\n",
    "        &sort=num_votes,desc&page={}'.format(year_url,page)\n",
    "        \n",
    "        # Make a get request\n",
    "        response = get(url)\n",
    "        \n",
    "        # Pause the loop\n",
    "        sleep(randint(8,15))\n",
    "        \n",
    "        # Monitor the requests\n",
    "        requests += 1\n",
    "        elapsed_time = time() - start_time\n",
    "        print('Request:{}; Frequency: {} requests/s'.format(requests, requests/elapsed_time))\n",
    "        clear_output(wait = True)\n",
    "              \n",
    "        # Throw a warning for non-200 status codes\n",
    "        if response.status_code != 200:\n",
    "            warn('Request: {}; Status code: {}'.format(requests, response.status_code))\n",
    "              \n",
    "        # Break the loop if the number of requests is greater than expected\n",
    "        if requests > 72:\n",
    "            warn('Number of requests was greater than expected.')  \n",
    "            break \n",
    "        \n",
    "        # Parse the content of the request with BeautifulSoup\n",
    "        page_html = BeautifulSoup(response.text, 'html.parser')\n",
    "        \n",
    "        # Select all the 50 movie containers from a single page\n",
    "        mv_containers = page_html.find_all('div', class_ = 'lister-item mode-advanced')\n",
    "        \n",
    "        # For every movie of these 50\n",
    "        for container in mv_containers:\n",
    "            # If the movie has a Metascore, then:\n",
    "            if container.find('div', class_ = 'ratings-metascore') is not None:\n",
    "                \n",
    "                # Scrape the name\n",
    "                name = container.h3.a.text\n",
    "                names.append(name)\n",
    "                \n",
    "                # Scrape the year \n",
    "                year = container.h3.find('span', class_ = 'lister-item-year').text\n",
    "                years.append(year)\n",
    "\n",
    "                # Scrape the IMDB rating\n",
    "                imdb = float(container.strong.text)\n",
    "                imdb_ratings.append(imdb)\n",
    "\n",
    "                # Scrape the Metascore\n",
    "                m_score = container.find('span', class_ = 'metascore').text\n",
    "                metascores.append(int(m_score))\n",
    "\n",
    "                # Scrape the number of votes\n",
    "                vote = container.find('span', attrs = {'name':'nv'})['data-value']\n",
    "                votes.append(int(vote))"
   ]
  },
  {
   "cell_type": "code",
   "execution_count": 63,
   "metadata": {
    "scrolled": true
   },
   "outputs": [
    {
     "name": "stdout",
     "output_type": "stream",
     "text": [
      "<class 'pandas.core.frame.DataFrame'>\n",
      "RangeIndex: 2920 entries, 0 to 2919\n",
      "Data columns (total 5 columns):\n",
      "imdb         2920 non-null float64\n",
      "metascore    2920 non-null int64\n",
      "movie        2920 non-null object\n",
      "votes        2920 non-null int64\n",
      "year         2920 non-null object\n",
      "dtypes: float64(1), int64(2), object(2)\n",
      "memory usage: 114.1+ KB\n",
      "None\n"
     ]
    },
    {
     "data": {
      "text/html": [
       "<div>\n",
       "<style>\n",
       "    .dataframe thead tr:only-child th {\n",
       "        text-align: right;\n",
       "    }\n",
       "\n",
       "    .dataframe thead th {\n",
       "        text-align: left;\n",
       "    }\n",
       "\n",
       "    .dataframe tbody tr th {\n",
       "        vertical-align: top;\n",
       "    }\n",
       "</style>\n",
       "<table border=\"1\" class=\"dataframe\">\n",
       "  <thead>\n",
       "    <tr style=\"text-align: right;\">\n",
       "      <th></th>\n",
       "      <th>imdb</th>\n",
       "      <th>metascore</th>\n",
       "      <th>movie</th>\n",
       "      <th>votes</th>\n",
       "      <th>year</th>\n",
       "    </tr>\n",
       "  </thead>\n",
       "  <tbody>\n",
       "    <tr>\n",
       "      <th>0</th>\n",
       "      <td>8.5</td>\n",
       "      <td>67</td>\n",
       "      <td>Gladiador</td>\n",
       "      <td>1086524</td>\n",
       "      <td>(2000)</td>\n",
       "    </tr>\n",
       "    <tr>\n",
       "      <th>1</th>\n",
       "      <td>8.5</td>\n",
       "      <td>80</td>\n",
       "      <td>Amnésia</td>\n",
       "      <td>934208</td>\n",
       "      <td>(2000)</td>\n",
       "    </tr>\n",
       "    <tr>\n",
       "      <th>2</th>\n",
       "      <td>8.3</td>\n",
       "      <td>55</td>\n",
       "      <td>Snatch: Porcos e Diamantes</td>\n",
       "      <td>657816</td>\n",
       "      <td>(2000)</td>\n",
       "    </tr>\n",
       "    <tr>\n",
       "      <th>3</th>\n",
       "      <td>8.3</td>\n",
       "      <td>68</td>\n",
       "      <td>Réquiem Para um Sonho</td>\n",
       "      <td>633577</td>\n",
       "      <td>(2000)</td>\n",
       "    </tr>\n",
       "    <tr>\n",
       "      <th>4</th>\n",
       "      <td>7.4</td>\n",
       "      <td>64</td>\n",
       "      <td>X-Men: O Filme</td>\n",
       "      <td>494967</td>\n",
       "      <td>(2000)</td>\n",
       "    </tr>\n",
       "    <tr>\n",
       "      <th>5</th>\n",
       "      <td>7.8</td>\n",
       "      <td>73</td>\n",
       "      <td>Náufrago</td>\n",
       "      <td>431887</td>\n",
       "      <td>(2000)</td>\n",
       "    </tr>\n",
       "    <tr>\n",
       "      <th>6</th>\n",
       "      <td>7.6</td>\n",
       "      <td>64</td>\n",
       "      <td>Psicopata Americano</td>\n",
       "      <td>392990</td>\n",
       "      <td>(2000)</td>\n",
       "    </tr>\n",
       "    <tr>\n",
       "      <th>7</th>\n",
       "      <td>7.2</td>\n",
       "      <td>62</td>\n",
       "      <td>Corpo Fechado</td>\n",
       "      <td>282006</td>\n",
       "      <td>(2000)</td>\n",
       "    </tr>\n",
       "    <tr>\n",
       "      <th>8</th>\n",
       "      <td>7.0</td>\n",
       "      <td>73</td>\n",
       "      <td>Entrando Numa Fria</td>\n",
       "      <td>276159</td>\n",
       "      <td>(2000)</td>\n",
       "    </tr>\n",
       "    <tr>\n",
       "      <th>9</th>\n",
       "      <td>6.1</td>\n",
       "      <td>59</td>\n",
       "      <td>Missão: Impossível 2</td>\n",
       "      <td>261432</td>\n",
       "      <td>(2000)</td>\n",
       "    </tr>\n",
       "  </tbody>\n",
       "</table>\n",
       "</div>"
      ],
      "text/plain": [
       "   imdb  metascore                       movie    votes    year\n",
       "0   8.5         67                   Gladiador  1086524  (2000)\n",
       "1   8.5         80                     Amnésia   934208  (2000)\n",
       "2   8.3         55  Snatch: Porcos e Diamantes   657816  (2000)\n",
       "3   8.3         68       Réquiem Para um Sonho   633577  (2000)\n",
       "4   7.4         64              X-Men: O Filme   494967  (2000)\n",
       "5   7.8         73                    Náufrago   431887  (2000)\n",
       "6   7.6         64         Psicopata Americano   392990  (2000)\n",
       "7   7.2         62               Corpo Fechado   282006  (2000)\n",
       "8   7.0         73          Entrando Numa Fria   276159  (2000)\n",
       "9   6.1         59        Missão: Impossível 2   261432  (2000)"
      ]
     },
     "execution_count": 63,
     "metadata": {},
     "output_type": "execute_result"
    }
   ],
   "source": [
    "movie_ratings = pd.DataFrame({'movie': names,\n",
    "                              'year': years,\n",
    "                              'imdb': imdb_ratings,\n",
    "                              'metascore': metascores,\n",
    "                              'votes': votes})\n",
    "print(movie_ratings.info())\n",
    "movie_ratings.head(10)"
   ]
  },
  {
   "cell_type": "code",
   "execution_count": 64,
   "metadata": {
    "scrolled": true
   },
   "outputs": [
    {
     "data": {
      "text/html": [
       "<div>\n",
       "<style>\n",
       "    .dataframe thead tr:only-child th {\n",
       "        text-align: right;\n",
       "    }\n",
       "\n",
       "    .dataframe thead th {\n",
       "        text-align: left;\n",
       "    }\n",
       "\n",
       "    .dataframe tbody tr th {\n",
       "        vertical-align: top;\n",
       "    }\n",
       "</style>\n",
       "<table border=\"1\" class=\"dataframe\">\n",
       "  <thead>\n",
       "    <tr style=\"text-align: right;\">\n",
       "      <th></th>\n",
       "      <th>movie</th>\n",
       "      <th>year</th>\n",
       "      <th>imdb</th>\n",
       "      <th>metascore</th>\n",
       "      <th>votes</th>\n",
       "    </tr>\n",
       "  </thead>\n",
       "  <tbody>\n",
       "    <tr>\n",
       "      <th>0</th>\n",
       "      <td>Gladiador</td>\n",
       "      <td>(2000)</td>\n",
       "      <td>8.5</td>\n",
       "      <td>67</td>\n",
       "      <td>1086524</td>\n",
       "    </tr>\n",
       "    <tr>\n",
       "      <th>1</th>\n",
       "      <td>Amnésia</td>\n",
       "      <td>(2000)</td>\n",
       "      <td>8.5</td>\n",
       "      <td>80</td>\n",
       "      <td>934208</td>\n",
       "    </tr>\n",
       "    <tr>\n",
       "      <th>2</th>\n",
       "      <td>Snatch: Porcos e Diamantes</td>\n",
       "      <td>(2000)</td>\n",
       "      <td>8.3</td>\n",
       "      <td>55</td>\n",
       "      <td>657816</td>\n",
       "    </tr>\n",
       "    <tr>\n",
       "      <th>3</th>\n",
       "      <td>Réquiem Para um Sonho</td>\n",
       "      <td>(2000)</td>\n",
       "      <td>8.3</td>\n",
       "      <td>68</td>\n",
       "      <td>633577</td>\n",
       "    </tr>\n",
       "    <tr>\n",
       "      <th>4</th>\n",
       "      <td>X-Men: O Filme</td>\n",
       "      <td>(2000)</td>\n",
       "      <td>7.4</td>\n",
       "      <td>64</td>\n",
       "      <td>494967</td>\n",
       "    </tr>\n",
       "  </tbody>\n",
       "</table>\n",
       "</div>"
      ],
      "text/plain": [
       "                        movie    year  imdb  metascore    votes\n",
       "0                   Gladiador  (2000)   8.5         67  1086524\n",
       "1                     Amnésia  (2000)   8.5         80   934208\n",
       "2  Snatch: Porcos e Diamantes  (2000)   8.3         55   657816\n",
       "3       Réquiem Para um Sonho  (2000)   8.3         68   633577\n",
       "4              X-Men: O Filme  (2000)   7.4         64   494967"
      ]
     },
     "execution_count": 64,
     "metadata": {},
     "output_type": "execute_result"
    }
   ],
   "source": [
    "# Let’s start by reordering the columns:\n",
    "movie_ratings = movie_ratings[['movie', 'year', 'imdb', 'metascore', 'votes']]\n",
    "movie_ratings.head()"
   ]
  },
  {
   "cell_type": "code",
   "execution_count": 65,
   "metadata": {
    "scrolled": true
   },
   "outputs": [
    {
     "data": {
      "text/plain": [
       "array(['(2000)', '(I) (2000)', '(2001)', '(I) (2001)', '(2002)',\n",
       "       '(I) (2002)', '(2003)', '(I) (2003)', '(2004)', '(I) (2004)',\n",
       "       '(2005)', '(I) (2005)', '(2006)', '(I) (2006)', '(2007)',\n",
       "       '(I) (2007)', '(2008)', '(I) (2008)', '(2009)', '(I) (2009)',\n",
       "       '(II) (2009)', '(2010)', '(I) (2010)', '(II) (2010)', '(2011)',\n",
       "       '(I) (2011)', '(IV) (2011)', '(2012)', '(I) (2012)', '(II) (2012)',\n",
       "       '(2013)', '(I) (2013)', '(II) (2013)', '(2014)', '(I) (2014)',\n",
       "       '(II) (2014)', '(III) (2014)', '(2015)', '(I) (2015)',\n",
       "       '(II) (2015)', '(VI) (2015)', '(III) (2015)', '(2016)',\n",
       "       '(II) (2016)', '(I) (2016)', '(IX) (2016)', '(V) (2016)', '(2017)',\n",
       "       '(I) (2017)', '(III) (2017)', '(II) (2017)', '(IV) (2017)'], dtype=object)"
      ]
     },
     "execution_count": 65,
     "metadata": {},
     "output_type": "execute_result"
    }
   ],
   "source": [
    "movie_ratings['year'].unique()"
   ]
  },
  {
   "cell_type": "code",
   "execution_count": 66,
   "metadata": {
    "collapsed": true
   },
   "outputs": [],
   "source": [
    "movie_ratings.loc[:, 'year'] = movie_ratings['year'].str[-5:-1].astype(int)\n"
   ]
  },
  {
   "cell_type": "code",
   "execution_count": 67,
   "metadata": {},
   "outputs": [
    {
     "data": {
      "text/plain": [
       "0    2000\n",
       "1    2000\n",
       "2    2000\n",
       "Name: year, dtype: int64"
      ]
     },
     "execution_count": 67,
     "metadata": {},
     "output_type": "execute_result"
    }
   ],
   "source": [
    "movie_ratings['year'].head(3)\n"
   ]
  },
  {
   "cell_type": "code",
   "execution_count": 68,
   "metadata": {},
   "outputs": [
    {
     "data": {
      "text/html": [
       "<div>\n",
       "<style>\n",
       "    .dataframe thead tr:only-child th {\n",
       "        text-align: right;\n",
       "    }\n",
       "\n",
       "    .dataframe thead th {\n",
       "        text-align: left;\n",
       "    }\n",
       "\n",
       "    .dataframe tbody tr th {\n",
       "        vertical-align: top;\n",
       "    }\n",
       "</style>\n",
       "<table border=\"1\" class=\"dataframe\">\n",
       "  <thead>\n",
       "    <tr style=\"text-align: right;\">\n",
       "      <th></th>\n",
       "      <th>imdb</th>\n",
       "      <th>metascore</th>\n",
       "    </tr>\n",
       "  </thead>\n",
       "  <tbody>\n",
       "    <tr>\n",
       "      <th>min</th>\n",
       "      <td>1.6</td>\n",
       "      <td>7.0</td>\n",
       "    </tr>\n",
       "    <tr>\n",
       "      <th>max</th>\n",
       "      <td>9.0</td>\n",
       "      <td>100.0</td>\n",
       "    </tr>\n",
       "  </tbody>\n",
       "</table>\n",
       "</div>"
      ],
      "text/plain": [
       "     imdb  metascore\n",
       "min   1.6        7.0\n",
       "max   9.0      100.0"
      ]
     },
     "execution_count": 68,
     "metadata": {},
     "output_type": "execute_result"
    }
   ],
   "source": [
    "movie_ratings.describe().loc[['min', 'max'], ['imdb', 'metascore']]\n"
   ]
  },
  {
   "cell_type": "code",
   "execution_count": 69,
   "metadata": {
    "scrolled": true
   },
   "outputs": [
    {
     "data": {
      "text/html": [
       "<div>\n",
       "<style>\n",
       "    .dataframe thead tr:only-child th {\n",
       "        text-align: right;\n",
       "    }\n",
       "\n",
       "    .dataframe thead th {\n",
       "        text-align: left;\n",
       "    }\n",
       "\n",
       "    .dataframe tbody tr th {\n",
       "        vertical-align: top;\n",
       "    }\n",
       "</style>\n",
       "<table border=\"1\" class=\"dataframe\">\n",
       "  <thead>\n",
       "    <tr style=\"text-align: right;\">\n",
       "      <th></th>\n",
       "      <th>movie</th>\n",
       "      <th>year</th>\n",
       "      <th>imdb</th>\n",
       "      <th>metascore</th>\n",
       "      <th>votes</th>\n",
       "      <th>n_imdb</th>\n",
       "    </tr>\n",
       "  </thead>\n",
       "  <tbody>\n",
       "    <tr>\n",
       "      <th>0</th>\n",
       "      <td>Gladiador</td>\n",
       "      <td>2000</td>\n",
       "      <td>8.5</td>\n",
       "      <td>67</td>\n",
       "      <td>1086524</td>\n",
       "      <td>85.0</td>\n",
       "    </tr>\n",
       "    <tr>\n",
       "      <th>1</th>\n",
       "      <td>Amnésia</td>\n",
       "      <td>2000</td>\n",
       "      <td>8.5</td>\n",
       "      <td>80</td>\n",
       "      <td>934208</td>\n",
       "      <td>85.0</td>\n",
       "    </tr>\n",
       "    <tr>\n",
       "      <th>2</th>\n",
       "      <td>Snatch: Porcos e Diamantes</td>\n",
       "      <td>2000</td>\n",
       "      <td>8.3</td>\n",
       "      <td>55</td>\n",
       "      <td>657816</td>\n",
       "      <td>83.0</td>\n",
       "    </tr>\n",
       "  </tbody>\n",
       "</table>\n",
       "</div>"
      ],
      "text/plain": [
       "                        movie  year  imdb  metascore    votes  n_imdb\n",
       "0                   Gladiador  2000   8.5         67  1086524    85.0\n",
       "1                     Amnésia  2000   8.5         80   934208    85.0\n",
       "2  Snatch: Porcos e Diamantes  2000   8.3         55   657816    83.0"
      ]
     },
     "execution_count": 69,
     "metadata": {},
     "output_type": "execute_result"
    }
   ],
   "source": [
    "movie_ratings['n_imdb'] = movie_ratings['imdb'] * 10\n",
    "movie_ratings.head(3)"
   ]
  },
  {
   "cell_type": "code",
   "execution_count": 70,
   "metadata": {
    "collapsed": true
   },
   "outputs": [],
   "source": [
    "movie_ratings.to_csv('movie_ratings.csv')\n"
   ]
  },
  {
   "cell_type": "markdown",
   "metadata": {},
   "source": [
    "10. Plotting and analyzing the distributions\n",
    "=="
   ]
  },
  {
   "cell_type": "code",
   "execution_count": 74,
   "metadata": {},
   "outputs": [
    {
     "data": {
      "image/png": "[encoded data removed]",
      "text/plain": [
       "<matplotlib.figure.Figure at 0x112d5e320>"
      ]
     },
     "metadata": {},
     "output_type": "display_data"
    }
   ],
   "source": [
    "import seaborn as sns\n",
    "import matplotlib.pyplot as plt\n",
    "\n",
    "# Draw a plot of two variables with bivariate and univariate graphs.\n",
    "sns.jointplot(x=movie_ratings[\"n_imdb\"], y=movie_ratings[\"metascore\"])\n",
    "\n",
    "plt.show()"
   ]
  },
  {
   "cell_type": "markdown",
   "metadata": {},
   "source": [
    "References\n",
    "==\n",
    "\n",
    "https://www.dataquest.io/blog/web-scraping-beautifulsoup/\n",
    "\n",
    "https://www.dataquest.io/blog/web-scraping-tutorial-python/\n",
    "\n",
    "https://www.analyticsvidhya.com/blog/2017/07/web-scraping-in-python-using-scrapy/\n",
    "\n",
    "http://python.gotrained.com/scrapy-tutorial-web-scraping-craigslist/"
   ]
  },
  {
   "cell_type": "code",
   "execution_count": null,
   "metadata": {
    "collapsed": true
   },
   "outputs": [],
   "source": []
  }
 ],
 "metadata": {
  "kernelspec": {
   "display_name": "Python 3",
   "language": "python",
   "name": "python3"
  },
  "language_info": {
   "codemirror_mode": {
    "name": "ipython",
    "version": 3
   },
   "file_extension": ".py",
   "mimetype": "text/x-python",
   "name": "python",
   "nbconvert_exporter": "python",
   "pygments_lexer": "ipython3",
   "version": "3.6.0"
  }
 },
 "nbformat": 4,
 "nbformat_minor": 2
}

{
 "cells": [
  {
   "cell_type": "markdown",
   "metadata": {},
   "source": [
    "1. Portal da Transparência\n",
    "==\n",
    "\n",
    "[Portal da Transparência](http://www.portaldatransparencia.gov.br/) is a Brazilian government portal dedicated to making public all expenditures of the federal government. It has a list of all expenses and money transfers the federal government has made.\n",
    "\n",
    "1.1 Motivations\n",
    "\n",
    "- How many employees do the IES (*instituições de ensino superior*) have?\n",
    "- What is the gender gap between the employees? \n",
    "    - https://www.dicionariodenomesproprios.com.br/\n",
    "    - https://gender-api.com/\n",
    "    - https://pypi.python.org/pypi/Genderize\n",
    "    - http://fmeireles.com/blog/rstats/genderbr-predizer-sexo\n"
   ]
  },
  {
   "cell_type": "markdown",
   "metadata": {},
   "source": [
    "2. Number of employees by IES\n",
    "==\n",
    "\n",
    "- [Units of Ministry of Education]( http://www.portaltransparencia.gov.br/servidores/OrgaoExercicio-ListaOrgaos.asp?CodOS=15000)\n",
    "\n",
    "### 2.1 Identifying the URL structure"
   ]
  },
  {
   "cell_type": "code",
   "execution_count": 39,
   "metadata": {},
   "outputs": [
    {
     "name": "stdout",
     "output_type": "stream",
     "text": [
      "<!-- intancia o include para obter a connection string -->\r\n",
      "\r\n",
      "\r\n",
      "<!DOCTYPE HTML>\r\n",
      "<html lang=\"pt-BR\">\r\n",
      "<head>\r\n",
      "  <title>\r\n",
      "    Portal da Transparência - SERVIDORES CIVIS E MILITARES DO PODER EXECUTIVO FEDERAL - POR ÓRGÃO DE EXERCÍCIO DO SERVIDOR\r\n",
      "  </title>\r\n",
      "\t\r\n",
      "\t<meta name=\"robots\" content=\"none\" />\r\n",
      "\t<meta http-equiv=\"Content-Type\" content=\"text/html; charset=ISO-8859-1\" />\r\n",
      "\r\n",
      "\t<link rel=\"shortcut icon\" href=\"/favicon.ico?v=4.38.3\" />\r\n",
      "\t<link rel=\"icon\" type=\"image/png\" href=\"/images/favicon.png?\n"
     ]
    }
   ],
   "source": [
    "# import package\n",
    "from requests import get\n",
    "\n",
    "# specify the url\n",
    "url = 'http://www.portaldatransparencia.gov.br/servidores/\\\n",
    "OrgaoExercicio-ListaOrgaos.asp?CodOS=15000'\n",
    "\n",
    "# packages the request, send the request and catch the response\n",
    "response = get(url)\n",
    "\n",
    "# extract the text\n",
    "text = response.text\n",
    "\n",
    "print(text[:500])"
   ]
  },
  {
   "cell_type": "markdown",
   "metadata": {},
   "source": [
    "### 2.1 Understanding the HTML structure of a single page"
   ]
  },
  {
   "cell_type": "code",
   "execution_count": 40,
   "metadata": {},
   "outputs": [
    {
     "data": {
      "text/plain": [
       "bs4.BeautifulSoup"
      ]
     },
     "execution_count": 40,
     "metadata": {},
     "output_type": "execute_result"
    }
   ],
   "source": [
    "from bs4 import BeautifulSoup\n",
    "\n",
    "html_soup = BeautifulSoup(response.text, 'html.parser')\n",
    "type(html_soup)"
   ]
  },
  {
   "cell_type": "code",
   "execution_count": 41,
   "metadata": {
    "collapsed": true
   },
   "outputs": [],
   "source": [
    "# information about IES is within a table element\n",
    "unit_table = html_soup.find_all('table')"
   ]
  },
  {
   "cell_type": "code",
   "execution_count": 42,
   "metadata": {},
   "outputs": [
    {
     "data": {
      "text/plain": [
       "2"
      ]
     },
     "execution_count": 42,
     "metadata": {},
     "output_type": "execute_result"
    }
   ],
   "source": [
    "# there are two table elements \n",
    "len(unit_table)"
   ]
  },
  {
   "cell_type": "code",
   "execution_count": 43,
   "metadata": {
    "collapsed": true
   },
   "outputs": [],
   "source": [
    "# the second one is the target\n",
    "unit_rows  = unit_table[1].find_all('tr')"
   ]
  },
  {
   "cell_type": "code",
   "execution_count": 44,
   "metadata": {},
   "outputs": [
    {
     "data": {
      "text/plain": [
       "16"
      ]
     },
     "execution_count": 44,
     "metadata": {},
     "output_type": "execute_result"
    }
   ],
   "source": [
    "len(unit_rows)"
   ]
  },
  {
   "cell_type": "code",
   "execution_count": 45,
   "metadata": {
    "collapsed": true
   },
   "outputs": [
    {
     "data": {
      "text/plain": [
       "[<tr class=\"firstChild\">\n",
       " <th class=\"firstChild\" scope=\"col\" style=\"width: 22%;\">Código RH</th>\n",
       " <th scope=\"col\" style=\"width: 60%;\"><a href=\"?Ordem=2&amp;paramDesc=2&amp;CodOS=15000\" title='Ordena por \"Órgão\"'>Órgão</a></th>\n",
       " <th scope=\"col\" style=\"width: 18%; text-align: right;\"><a href=\"?Ordem=3&amp;paramDesc=2&amp;CodOS=15000\" title='Ordena por \"Servidores em exercício\"'>Servidores em exercício</a></th>\n",
       " </tr>, <tr>\n",
       " <td class=\"firstChild\">26257 </td>\n",
       " <td><a href=\"OrgaoExercicio-ListaServidores.asp?CodOrg=26257\">CENTRO FED.DE EDUC.TECNOL.MINAS GERAIS </a></td>\n",
       " <td style=\"text-align: right;\">1841</td>\n",
       " </tr>, <tr class=\"linhaPar\">\n",
       " <td class=\"firstChild\">26256 </td>\n",
       " <td><a href=\"OrgaoExercicio-ListaServidores.asp?CodOrg=26256\">CENTRO FED.EDUC.TECNOL.CELSO S. FONSECA </a></td>\n",
       " <td style=\"text-align: right;\">1572</td>\n",
       " </tr>, <tr>\n",
       " <td class=\"firstChild\">26201 </td>\n",
       " <td><a href=\"OrgaoExercicio-ListaServidores.asp?CodOrg=26201\">COLEGIO PEDRO II </a></td>\n",
       " <td style=\"text-align: right;\">2345</td>\n",
       " </tr>, <tr class=\"linhaPar\">\n",
       " <td class=\"firstChild\">26443 </td>\n",
       " <td><a href=\"OrgaoExercicio-ListaServidores.asp?CodOrg=26443\">EMPRESA BRAS. DE SERVICOS HOSPITALARES </a></td>\n",
       " <td style=\"text-align: right;\">25750</td>\n",
       " </tr>, <tr>\n",
       " <td class=\"firstChild\">26298 </td>\n",
       " <td><a href=\"OrgaoExercicio-ListaServidores.asp?CodOrg=26298\">FUND COORD APERF PESSOAL NIVEL SUPERIOR </a></td>\n",
       " <td style=\"text-align: right;\">409</td>\n",
       " </tr>, <tr class=\"linhaPar\">\n",
       " <td class=\"firstChild\">26350 </td>\n",
       " <td><a href=\"OrgaoExercicio-ListaServidores.asp?CodOrg=26350\">FUND. UNIV FEDERAL DA GRANDE DOURADOS </a></td>\n",
       " <td style=\"text-align: right;\">1585</td>\n",
       " </tr>, <tr>\n",
       " <td class=\"firstChild\">26285 </td>\n",
       " <td><a href=\"OrgaoExercicio-ListaServidores.asp?CodOrg=26285\">FUND. UNIVERSIDADE DE SAO JOAO DEL REI </a></td>\n",
       " <td style=\"text-align: right;\">1493</td>\n",
       " </tr>, <tr class=\"linhaPar\">\n",
       " <td class=\"firstChild\">26268 </td>\n",
       " <td><a href=\"OrgaoExercicio-ListaServidores.asp?CodOrg=26268\">FUND. UNIVERSIDADE FEDERAL DE RONDONIA </a></td>\n",
       " <td style=\"text-align: right;\">1301</td>\n",
       " </tr>, <tr>\n",
       " <td class=\"firstChild\">26284 </td>\n",
       " <td><a href=\"OrgaoExercicio-ListaServidores.asp?CodOrg=26284\">FUND.UNIV.FED.CIENC.SAUDE D PORTO ALEGRE </a></td>\n",
       " <td style=\"text-align: right;\">1077</td>\n",
       " </tr>, <tr class=\"linhaPar\">\n",
       " <td class=\"firstChild\">26230 </td>\n",
       " <td><a href=\"OrgaoExercicio-ListaServidores.asp?CodOrg=26230\">FUND.UNIV.FED.DO VALE DO SAO FRANCISCO </a></td>\n",
       " <td style=\"text-align: right;\">1018</td>\n",
       " </tr>, <tr>\n",
       " <td class=\"firstChild\">26292 </td>\n",
       " <td><a href=\"OrgaoExercicio-ListaServidores.asp?CodOrg=26292\">FUNDACAO JOAQUIM NABUCO </a></td>\n",
       " <td style=\"text-align: right;\">286</td>\n",
       " </tr>, <tr class=\"linhaPar\">\n",
       " <td class=\"firstChild\">26277 </td>\n",
       " <td><a href=\"OrgaoExercicio-ListaServidores.asp?CodOrg=26277\">FUNDACAO UNIV. FEDERAL DE OURO PRETO </a></td>\n",
       " <td style=\"text-align: right;\">1893</td>\n",
       " </tr>, <tr>\n",
       " <td class=\"firstChild\">26274 </td>\n",
       " <td><a href=\"OrgaoExercicio-ListaServidores.asp?CodOrg=26274\">FUNDACAO UNIV. FEDERAL DE UBERLANDIA </a></td>\n",
       " <td style=\"text-align: right;\">5552</td>\n",
       " </tr>, <tr class=\"linhaPar\">\n",
       " <td class=\"firstChild\">26271 </td>\n",
       " <td><a href=\"OrgaoExercicio-ListaServidores.asp?CodOrg=26271\">FUNDACAO UNIVERSIDADE DE BRASILIA </a></td>\n",
       " <td style=\"text-align: right;\">6264</td>\n",
       " </tr>, <tr>\n",
       " <td class=\"firstChild\">26270 </td>\n",
       " <td><a href=\"OrgaoExercicio-ListaServidores.asp?CodOrg=26270\">FUNDACAO UNIVERSIDADE DO AMAZONAS </a></td>\n",
       " <td style=\"text-align: right;\">3722</td>\n",
       " </tr>]"
      ]
     },
     "execution_count": 45,
     "metadata": {},
     "output_type": "execute_result"
    }
   ],
   "source": [
    "# the first tr is the header of table\n",
    "unit_rows"
   ]
  },
  {
   "cell_type": "code",
   "execution_count": 46,
   "metadata": {
    "collapsed": true
   },
   "outputs": [],
   "source": [
    "unit_rows = unit_rows[1:]"
   ]
  },
  {
   "cell_type": "code",
   "execution_count": 47,
   "metadata": {
    "collapsed": true
   },
   "outputs": [
    {
     "data": {
      "text/plain": [
       "[<tr>\n",
       " <td class=\"firstChild\">26257 </td>\n",
       " <td><a href=\"OrgaoExercicio-ListaServidores.asp?CodOrg=26257\">CENTRO FED.DE EDUC.TECNOL.MINAS GERAIS </a></td>\n",
       " <td style=\"text-align: right;\">1841</td>\n",
       " </tr>, <tr class=\"linhaPar\">\n",
       " <td class=\"firstChild\">26256 </td>\n",
       " <td><a href=\"OrgaoExercicio-ListaServidores.asp?CodOrg=26256\">CENTRO FED.EDUC.TECNOL.CELSO S. FONSECA </a></td>\n",
       " <td style=\"text-align: right;\">1572</td>\n",
       " </tr>, <tr>\n",
       " <td class=\"firstChild\">26201 </td>\n",
       " <td><a href=\"OrgaoExercicio-ListaServidores.asp?CodOrg=26201\">COLEGIO PEDRO II </a></td>\n",
       " <td style=\"text-align: right;\">2345</td>\n",
       " </tr>, <tr class=\"linhaPar\">\n",
       " <td class=\"firstChild\">26443 </td>\n",
       " <td><a href=\"OrgaoExercicio-ListaServidores.asp?CodOrg=26443\">EMPRESA BRAS. DE SERVICOS HOSPITALARES </a></td>\n",
       " <td style=\"text-align: right;\">25750</td>\n",
       " </tr>]"
      ]
     },
     "execution_count": 47,
     "metadata": {},
     "output_type": "execute_result"
    }
   ],
   "source": [
    "unit_rows[0:4]"
   ]
  },
  {
   "cell_type": "markdown",
   "metadata": {},
   "source": [
    "### 2.2 Extracting the RH code"
   ]
  },
  {
   "cell_type": "code",
   "execution_count": 60,
   "metadata": {},
   "outputs": [
    {
     "data": {
      "text/plain": [
       "'26257 '"
      ]
     },
     "execution_count": 60,
     "metadata": {},
     "output_type": "execute_result"
    }
   ],
   "source": [
    "unit_rh_code = unit_rows[0].find('td', class_ = 'firstChild').text\n",
    "unit_rh_code"
   ]
  },
  {
   "cell_type": "markdown",
   "metadata": {},
   "source": [
    "### 2.3 Extracting the name of IES\n"
   ]
  },
  {
   "cell_type": "code",
   "execution_count": 49,
   "metadata": {},
   "outputs": [
    {
     "data": {
      "text/plain": [
       "'CENTRO FED.DE EDUC.TECNOL.MINAS GERAIS '"
      ]
     },
     "execution_count": 49,
     "metadata": {},
     "output_type": "execute_result"
    }
   ],
   "source": [
    "unit_name = unit_rows[0].find('a').text\n",
    "unit_name"
   ]
  },
  {
   "cell_type": "markdown",
   "metadata": {},
   "source": [
    "### 2.4 Extracting the number of employees"
   ]
  },
  {
   "cell_type": "code",
   "execution_count": 54,
   "metadata": {},
   "outputs": [
    {
     "data": {
      "text/plain": [
       "1841"
      ]
     },
     "execution_count": 54,
     "metadata": {},
     "output_type": "execute_result"
    }
   ],
   "source": [
    "unit_number_of_employees = unit_rows[0].find('td', attrs = {'style':'text-align: right;'}).text\n",
    "unit_number_of_employees = int(unit_number_of_employees)\n",
    "unit_number_of_employees"
   ]
  },
  {
   "cell_type": "markdown",
   "metadata": {},
   "source": [
    "## 2.5 The script for a single page"
   ]
  },
  {
   "cell_type": "code",
   "execution_count": 62,
   "metadata": {
    "collapsed": true
   },
   "outputs": [],
   "source": [
    "# Lists to store the scraped data in\n",
    "rh_codes = []\n",
    "names = []\n",
    "number_of_employees = []\n",
    "\n",
    "# Extract data from individual ies rows\n",
    "for row in unit_rows:\n",
    "    \n",
    "    # rh codes\n",
    "    codes = row.find('td', class_ = 'firstChild').text\n",
    "    rh_codes.append(codes)\n",
    "    \n",
    "    # ies names\n",
    "    name = row.find('a').text\n",
    "    names.append(name)\n",
    "    \n",
    "    # number of employees\n",
    "    employees = row.find('td', attrs = {'style':'text-align: right;'}).text\n",
    "    number_of_employees.append(int(employees))"
   ]
  },
  {
   "cell_type": "code",
   "execution_count": 63,
   "metadata": {
    "scrolled": true
   },
   "outputs": [
    {
     "name": "stdout",
     "output_type": "stream",
     "text": [
      "<class 'pandas.core.frame.DataFrame'>\n",
      "RangeIndex: 15 entries, 0 to 14\n",
      "Data columns (total 3 columns):\n",
      "Code                15 non-null object\n",
      "IES_name            15 non-null object\n",
      "Number_employees    15 non-null int64\n",
      "dtypes: int64(1), object(2)\n",
      "memory usage: 440.0+ bytes\n",
      "None\n"
     ]
    },
    {
     "data": {
      "text/html": [
       "<div>\n",
       "<style>\n",
       "    .dataframe thead tr:only-child th {\n",
       "        text-align: right;\n",
       "    }\n",
       "\n",
       "    .dataframe thead th {\n",
       "        text-align: left;\n",
       "    }\n",
       "\n",
       "    .dataframe tbody tr th {\n",
       "        vertical-align: top;\n",
       "    }\n",
       "</style>\n",
       "<table border=\"1\" class=\"dataframe\">\n",
       "  <thead>\n",
       "    <tr style=\"text-align: right;\">\n",
       "      <th></th>\n",
       "      <th>Code</th>\n",
       "      <th>IES_name</th>\n",
       "      <th>Number_employees</th>\n",
       "    </tr>\n",
       "  </thead>\n",
       "  <tbody>\n",
       "    <tr>\n",
       "      <th>0</th>\n",
       "      <td>26257</td>\n",
       "      <td>CENTRO FED.DE EDUC.TECNOL.MINAS GERAIS</td>\n",
       "      <td>1841</td>\n",
       "    </tr>\n",
       "    <tr>\n",
       "      <th>1</th>\n",
       "      <td>26256</td>\n",
       "      <td>CENTRO FED.EDUC.TECNOL.CELSO S. FONSECA</td>\n",
       "      <td>1572</td>\n",
       "    </tr>\n",
       "    <tr>\n",
       "      <th>2</th>\n",
       "      <td>26201</td>\n",
       "      <td>COLEGIO PEDRO II</td>\n",
       "      <td>2345</td>\n",
       "    </tr>\n",
       "    <tr>\n",
       "      <th>3</th>\n",
       "      <td>26443</td>\n",
       "      <td>EMPRESA BRAS. DE SERVICOS HOSPITALARES</td>\n",
       "      <td>25750</td>\n",
       "    </tr>\n",
       "    <tr>\n",
       "      <th>4</th>\n",
       "      <td>26298</td>\n",
       "      <td>FUND COORD APERF PESSOAL NIVEL SUPERIOR</td>\n",
       "      <td>409</td>\n",
       "    </tr>\n",
       "    <tr>\n",
       "      <th>5</th>\n",
       "      <td>26350</td>\n",
       "      <td>FUND. UNIV FEDERAL DA GRANDE DOURADOS</td>\n",
       "      <td>1585</td>\n",
       "    </tr>\n",
       "    <tr>\n",
       "      <th>6</th>\n",
       "      <td>26285</td>\n",
       "      <td>FUND. UNIVERSIDADE DE SAO JOAO DEL REI</td>\n",
       "      <td>1493</td>\n",
       "    </tr>\n",
       "    <tr>\n",
       "      <th>7</th>\n",
       "      <td>26268</td>\n",
       "      <td>FUND. UNIVERSIDADE FEDERAL DE RONDONIA</td>\n",
       "      <td>1301</td>\n",
       "    </tr>\n",
       "    <tr>\n",
       "      <th>8</th>\n",
       "      <td>26284</td>\n",
       "      <td>FUND.UNIV.FED.CIENC.SAUDE D PORTO ALEGRE</td>\n",
       "      <td>1077</td>\n",
       "    </tr>\n",
       "    <tr>\n",
       "      <th>9</th>\n",
       "      <td>26230</td>\n",
       "      <td>FUND.UNIV.FED.DO VALE DO SAO FRANCISCO</td>\n",
       "      <td>1018</td>\n",
       "    </tr>\n",
       "    <tr>\n",
       "      <th>10</th>\n",
       "      <td>26292</td>\n",
       "      <td>FUNDACAO JOAQUIM NABUCO</td>\n",
       "      <td>286</td>\n",
       "    </tr>\n",
       "    <tr>\n",
       "      <th>11</th>\n",
       "      <td>26277</td>\n",
       "      <td>FUNDACAO UNIV. FEDERAL DE OURO PRETO</td>\n",
       "      <td>1893</td>\n",
       "    </tr>\n",
       "    <tr>\n",
       "      <th>12</th>\n",
       "      <td>26274</td>\n",
       "      <td>FUNDACAO UNIV. FEDERAL DE UBERLANDIA</td>\n",
       "      <td>5552</td>\n",
       "    </tr>\n",
       "    <tr>\n",
       "      <th>13</th>\n",
       "      <td>26271</td>\n",
       "      <td>FUNDACAO UNIVERSIDADE DE BRASILIA</td>\n",
       "      <td>6264</td>\n",
       "    </tr>\n",
       "    <tr>\n",
       "      <th>14</th>\n",
       "      <td>26270</td>\n",
       "      <td>FUNDACAO UNIVERSIDADE DO AMAZONAS</td>\n",
       "      <td>3722</td>\n",
       "    </tr>\n",
       "  </tbody>\n",
       "</table>\n",
       "</div>"
      ],
      "text/plain": [
       "      Code                                   IES_name  Number_employees\n",
       "0   26257     CENTRO FED.DE EDUC.TECNOL.MINAS GERAIS               1841\n",
       "1   26256    CENTRO FED.EDUC.TECNOL.CELSO S. FONSECA               1572\n",
       "2   26201                           COLEGIO PEDRO II               2345\n",
       "3   26443     EMPRESA BRAS. DE SERVICOS HOSPITALARES              25750\n",
       "4   26298    FUND COORD APERF PESSOAL NIVEL SUPERIOR                409\n",
       "5   26350      FUND. UNIV FEDERAL DA GRANDE DOURADOS               1585\n",
       "6   26285     FUND. UNIVERSIDADE DE SAO JOAO DEL REI               1493\n",
       "7   26268     FUND. UNIVERSIDADE FEDERAL DE RONDONIA               1301\n",
       "8   26284   FUND.UNIV.FED.CIENC.SAUDE D PORTO ALEGRE               1077\n",
       "9   26230     FUND.UNIV.FED.DO VALE DO SAO FRANCISCO               1018\n",
       "10  26292                    FUNDACAO JOAQUIM NABUCO                286\n",
       "11  26277       FUNDACAO UNIV. FEDERAL DE OURO PRETO               1893\n",
       "12  26274       FUNDACAO UNIV. FEDERAL DE UBERLANDIA               5552\n",
       "13  26271          FUNDACAO UNIVERSIDADE DE BRASILIA               6264\n",
       "14  26270          FUNDACAO UNIVERSIDADE DO AMAZONAS               3722"
      ]
     },
     "execution_count": 63,
     "metadata": {},
     "output_type": "execute_result"
    }
   ],
   "source": [
    "# Let’s check the data collected so far. \n",
    "# Pandas makes it easy for us to see whether \n",
    "# we’ve scraped our data successfully.\n",
    "\n",
    "import pandas as pd\n",
    "\n",
    "web_scraping_df = pd.DataFrame({'Code': rh_codes,\n",
    "                       'IES_name': names,\n",
    "                       'Number_employees': number_of_employees})\n",
    "print(web_scraping_df.info())\n",
    "web_scraping_df"
   ]
  },
  {
   "cell_type": "markdown",
   "metadata": {},
   "source": [
    "## 2.6. The script for multiple pages\n",
    "\n",
    "Scraping multiple pages is a bit more challenging. We’ll build upon our one-page script by doing three more things:\n",
    "\n",
    "- Making all the requests we want from within the loop.\n",
    "- Controlling the loop’s rate to avoid bombarding the server with requests.\n",
    "- Monitoring the loop while it runs.\n",
    "\n",
    "We’ll scrape all pages (8 pages) that contains information about the number of employees of IES. Each page has 15 lines (excluding the header) of target information, so we’ll scrape data for 120 IES. But not all pages have 15 lines, the last one is incomplete. \n",
    "\n",
    "\n",
    "### 2.6.1 Changing the URL’s parameters\n",
    "\n",
    "As shown earlier, the URLs follow a certain logic as the web pages change.\n",
    "\n",
    "http://www.portaltransparencia.gov.br/servidores/OrgaoExercicio-ListaOrgaos.asp?CodOS=15000&Pagina=5\n",
    "\n",
    "As we are making the requests, we’ll only have to vary the values of only the last parameter of the URL: the <span style=\"background-color: #F9EBEA; color:##C0392B\">Pagina</span> parameter. \n"
   ]
  },
  {
   "cell_type": "code",
   "execution_count": 83,
   "metadata": {},
   "outputs": [
    {
     "data": {
      "text/plain": [
       "['1', '2', '3', '4', '5', '6', '7', '8']"
      ]
     },
     "execution_count": 83,
     "metadata": {},
     "output_type": "execute_result"
    }
   ],
   "source": [
    "pages = [str(i) for i in range(1,9)]\n",
    "pages"
   ]
  },
  {
   "cell_type": "markdown",
   "metadata": {},
   "source": [
    "### 2.6.2  Piecing everything together"
   ]
  },
  {
   "cell_type": "code",
   "execution_count": 84,
   "metadata": {
    "collapsed": true
   },
   "outputs": [],
   "source": [
    "from time import sleep\n",
    "from random import randint\n",
    "from time import time\n",
    "from warnings import warn\n",
    "from IPython.core.display import clear_output"
   ]
  },
  {
   "cell_type": "code",
   "execution_count": 85,
   "metadata": {},
   "outputs": [
    {
     "name": "stdout",
     "output_type": "stream",
     "text": [
      "Request:8; Frequency: 0.11700441355929724 requests/s\n"
     ]
    }
   ],
   "source": [
    "# Lists to store the scraped data in\n",
    "rh_codes = []\n",
    "names = []\n",
    "number_of_employees = []\n",
    "\n",
    "# Preparing the monitoring of the loop\n",
    "start_time = time()\n",
    "requests = 0\n",
    "\n",
    "# For each page\n",
    "for page in pages:\n",
    "    \n",
    "    #url \n",
    "    url = 'http://www.portaltransparencia.gov.br/servidores/\\\n",
    "    OrgaoExercicio-ListaOrgaos.asp?CodOS=15000&Pagina={}'.format(page).replace(\" \", \"\")\n",
    "        \n",
    "    # Make a get request\n",
    "    response = get(url)\n",
    "        \n",
    "    # Pause the loop\n",
    "    sleep(randint(5,10))\n",
    "    \n",
    "    # Monitor the requests\n",
    "    requests += 1\n",
    "    elapsed_time = time() - start_time\n",
    "    print('Request:{}; Frequency: {} requests/s'.format(requests, requests/elapsed_time))\n",
    "    clear_output(wait = True)\n",
    "              \n",
    "    # Throw a warning for non-200 status codes\n",
    "    if response.status_code != 200:\n",
    "        warn('Request: {}; Status code: {}'.format(requests, response.status_code))\n",
    "              \n",
    "    # Break the loop if the number of requests is greater than expected\n",
    "    if requests > 72:\n",
    "        warn('Number of requests was greater than expected.')  \n",
    "        break \n",
    "        \n",
    "    # information about IES is within a table element\n",
    "    unit_table = html_soup.find_all('table')\n",
    "    \n",
    "    # the second one is the target\n",
    "    unit_rows  = unit_table[1].find_all('tr')\n",
    "    unit_rows = unit_rows[1:]\n",
    "    \n",
    "    # Extract data from individual ies rows\n",
    "    for row in unit_rows:\n",
    "    \n",
    "        # rh codes\n",
    "        codes = row.find('td', class_ = 'firstChild').text\n",
    "        rh_codes.append(codes)\n",
    "    \n",
    "        # ies names\n",
    "        name = row.find('a').text\n",
    "        names.append(name)\n",
    "    \n",
    "        # number of employees\n",
    "        employees = row.find('td', attrs = {'style':'text-align: right;'}).text\n",
    "        number_of_employees.append(int(employees))\n"
   ]
  },
  {
   "cell_type": "code",
   "execution_count": 86,
   "metadata": {
    "collapsed": true
   },
   "outputs": [
    {
     "name": "stdout",
     "output_type": "stream",
     "text": [
      "<class 'pandas.core.frame.DataFrame'>\n",
      "RangeIndex: 120 entries, 0 to 119\n",
      "Data columns (total 3 columns):\n",
      "Code                120 non-null object\n",
      "IES_name            120 non-null object\n",
      "Number_employees    120 non-null int64\n",
      "dtypes: int64(1), object(2)\n",
      "memory usage: 2.9+ KB\n",
      "None\n"
     ]
    },
    {
     "data": {
      "text/html": [
       "<div>\n",
       "<style>\n",
       "    .dataframe thead tr:only-child th {\n",
       "        text-align: right;\n",
       "    }\n",
       "\n",
       "    .dataframe thead th {\n",
       "        text-align: left;\n",
       "    }\n",
       "\n",
       "    .dataframe tbody tr th {\n",
       "        vertical-align: top;\n",
       "    }\n",
       "</style>\n",
       "<table border=\"1\" class=\"dataframe\">\n",
       "  <thead>\n",
       "    <tr style=\"text-align: right;\">\n",
       "      <th></th>\n",
       "      <th>Code</th>\n",
       "      <th>IES_name</th>\n",
       "      <th>Number_employees</th>\n",
       "    </tr>\n",
       "  </thead>\n",
       "  <tbody>\n",
       "    <tr>\n",
       "      <th>0</th>\n",
       "      <td>26257</td>\n",
       "      <td>CENTRO FED.DE EDUC.TECNOL.MINAS GERAIS</td>\n",
       "      <td>1841</td>\n",
       "    </tr>\n",
       "    <tr>\n",
       "      <th>1</th>\n",
       "      <td>26256</td>\n",
       "      <td>CENTRO FED.EDUC.TECNOL.CELSO S. FONSECA</td>\n",
       "      <td>1572</td>\n",
       "    </tr>\n",
       "    <tr>\n",
       "      <th>2</th>\n",
       "      <td>26201</td>\n",
       "      <td>COLEGIO PEDRO II</td>\n",
       "      <td>2345</td>\n",
       "    </tr>\n",
       "    <tr>\n",
       "      <th>3</th>\n",
       "      <td>26443</td>\n",
       "      <td>EMPRESA BRAS. DE SERVICOS HOSPITALARES</td>\n",
       "      <td>25750</td>\n",
       "    </tr>\n",
       "    <tr>\n",
       "      <th>4</th>\n",
       "      <td>26298</td>\n",
       "      <td>FUND COORD APERF PESSOAL NIVEL SUPERIOR</td>\n",
       "      <td>409</td>\n",
       "    </tr>\n",
       "    <tr>\n",
       "      <th>5</th>\n",
       "      <td>26350</td>\n",
       "      <td>FUND. UNIV FEDERAL DA GRANDE DOURADOS</td>\n",
       "      <td>1585</td>\n",
       "    </tr>\n",
       "    <tr>\n",
       "      <th>6</th>\n",
       "      <td>26285</td>\n",
       "      <td>FUND. UNIVERSIDADE DE SAO JOAO DEL REI</td>\n",
       "      <td>1493</td>\n",
       "    </tr>\n",
       "    <tr>\n",
       "      <th>7</th>\n",
       "      <td>26268</td>\n",
       "      <td>FUND. UNIVERSIDADE FEDERAL DE RONDONIA</td>\n",
       "      <td>1301</td>\n",
       "    </tr>\n",
       "    <tr>\n",
       "      <th>8</th>\n",
       "      <td>26284</td>\n",
       "      <td>FUND.UNIV.FED.CIENC.SAUDE D PORTO ALEGRE</td>\n",
       "      <td>1077</td>\n",
       "    </tr>\n",
       "    <tr>\n",
       "      <th>9</th>\n",
       "      <td>26230</td>\n",
       "      <td>FUND.UNIV.FED.DO VALE DO SAO FRANCISCO</td>\n",
       "      <td>1018</td>\n",
       "    </tr>\n",
       "    <tr>\n",
       "      <th>10</th>\n",
       "      <td>26292</td>\n",
       "      <td>FUNDACAO JOAQUIM NABUCO</td>\n",
       "      <td>286</td>\n",
       "    </tr>\n",
       "    <tr>\n",
       "      <th>11</th>\n",
       "      <td>26277</td>\n",
       "      <td>FUNDACAO UNIV. FEDERAL DE OURO PRETO</td>\n",
       "      <td>1893</td>\n",
       "    </tr>\n",
       "    <tr>\n",
       "      <th>12</th>\n",
       "      <td>26274</td>\n",
       "      <td>FUNDACAO UNIV. FEDERAL DE UBERLANDIA</td>\n",
       "      <td>5552</td>\n",
       "    </tr>\n",
       "    <tr>\n",
       "      <th>13</th>\n",
       "      <td>26271</td>\n",
       "      <td>FUNDACAO UNIVERSIDADE DE BRASILIA</td>\n",
       "      <td>6264</td>\n",
       "    </tr>\n",
       "    <tr>\n",
       "      <th>14</th>\n",
       "      <td>26270</td>\n",
       "      <td>FUNDACAO UNIVERSIDADE DO AMAZONAS</td>\n",
       "      <td>3722</td>\n",
       "    </tr>\n",
       "    <tr>\n",
       "      <th>15</th>\n",
       "      <td>26257</td>\n",
       "      <td>CENTRO FED.DE EDUC.TECNOL.MINAS GERAIS</td>\n",
       "      <td>1841</td>\n",
       "    </tr>\n",
       "    <tr>\n",
       "      <th>16</th>\n",
       "      <td>26256</td>\n",
       "      <td>CENTRO FED.EDUC.TECNOL.CELSO S. FONSECA</td>\n",
       "      <td>1572</td>\n",
       "    </tr>\n",
       "    <tr>\n",
       "      <th>17</th>\n",
       "      <td>26201</td>\n",
       "      <td>COLEGIO PEDRO II</td>\n",
       "      <td>2345</td>\n",
       "    </tr>\n",
       "    <tr>\n",
       "      <th>18</th>\n",
       "      <td>26443</td>\n",
       "      <td>EMPRESA BRAS. DE SERVICOS HOSPITALARES</td>\n",
       "      <td>25750</td>\n",
       "    </tr>\n",
       "    <tr>\n",
       "      <th>19</th>\n",
       "      <td>26298</td>\n",
       "      <td>FUND COORD APERF PESSOAL NIVEL SUPERIOR</td>\n",
       "      <td>409</td>\n",
       "    </tr>\n",
       "    <tr>\n",
       "      <th>20</th>\n",
       "      <td>26350</td>\n",
       "      <td>FUND. UNIV FEDERAL DA GRANDE DOURADOS</td>\n",
       "      <td>1585</td>\n",
       "    </tr>\n",
       "    <tr>\n",
       "      <th>21</th>\n",
       "      <td>26285</td>\n",
       "      <td>FUND. UNIVERSIDADE DE SAO JOAO DEL REI</td>\n",
       "      <td>1493</td>\n",
       "    </tr>\n",
       "    <tr>\n",
       "      <th>22</th>\n",
       "      <td>26268</td>\n",
       "      <td>FUND. UNIVERSIDADE FEDERAL DE RONDONIA</td>\n",
       "      <td>1301</td>\n",
       "    </tr>\n",
       "    <tr>\n",
       "      <th>23</th>\n",
       "      <td>26284</td>\n",
       "      <td>FUND.UNIV.FED.CIENC.SAUDE D PORTO ALEGRE</td>\n",
       "      <td>1077</td>\n",
       "    </tr>\n",
       "    <tr>\n",
       "      <th>24</th>\n",
       "      <td>26230</td>\n",
       "      <td>FUND.UNIV.FED.DO VALE DO SAO FRANCISCO</td>\n",
       "      <td>1018</td>\n",
       "    </tr>\n",
       "    <tr>\n",
       "      <th>25</th>\n",
       "      <td>26292</td>\n",
       "      <td>FUNDACAO JOAQUIM NABUCO</td>\n",
       "      <td>286</td>\n",
       "    </tr>\n",
       "    <tr>\n",
       "      <th>26</th>\n",
       "      <td>26277</td>\n",
       "      <td>FUNDACAO UNIV. FEDERAL DE OURO PRETO</td>\n",
       "      <td>1893</td>\n",
       "    </tr>\n",
       "    <tr>\n",
       "      <th>27</th>\n",
       "      <td>26274</td>\n",
       "      <td>FUNDACAO UNIV. FEDERAL DE UBERLANDIA</td>\n",
       "      <td>5552</td>\n",
       "    </tr>\n",
       "    <tr>\n",
       "      <th>28</th>\n",
       "      <td>26271</td>\n",
       "      <td>FUNDACAO UNIVERSIDADE DE BRASILIA</td>\n",
       "      <td>6264</td>\n",
       "    </tr>\n",
       "    <tr>\n",
       "      <th>29</th>\n",
       "      <td>26270</td>\n",
       "      <td>FUNDACAO UNIVERSIDADE DO AMAZONAS</td>\n",
       "      <td>3722</td>\n",
       "    </tr>\n",
       "    <tr>\n",
       "      <th>...</th>\n",
       "      <td>...</td>\n",
       "      <td>...</td>\n",
       "      <td>...</td>\n",
       "    </tr>\n",
       "    <tr>\n",
       "      <th>90</th>\n",
       "      <td>26257</td>\n",
       "      <td>CENTRO FED.DE EDUC.TECNOL.MINAS GERAIS</td>\n",
       "      <td>1841</td>\n",
       "    </tr>\n",
       "    <tr>\n",
       "      <th>91</th>\n",
       "      <td>26256</td>\n",
       "      <td>CENTRO FED.EDUC.TECNOL.CELSO S. FONSECA</td>\n",
       "      <td>1572</td>\n",
       "    </tr>\n",
       "    <tr>\n",
       "      <th>92</th>\n",
       "      <td>26201</td>\n",
       "      <td>COLEGIO PEDRO II</td>\n",
       "      <td>2345</td>\n",
       "    </tr>\n",
       "    <tr>\n",
       "      <th>93</th>\n",
       "      <td>26443</td>\n",
       "      <td>EMPRESA BRAS. DE SERVICOS HOSPITALARES</td>\n",
       "      <td>25750</td>\n",
       "    </tr>\n",
       "    <tr>\n",
       "      <th>94</th>\n",
       "      <td>26298</td>\n",
       "      <td>FUND COORD APERF PESSOAL NIVEL SUPERIOR</td>\n",
       "      <td>409</td>\n",
       "    </tr>\n",
       "    <tr>\n",
       "      <th>95</th>\n",
       "      <td>26350</td>\n",
       "      <td>FUND. UNIV FEDERAL DA GRANDE DOURADOS</td>\n",
       "      <td>1585</td>\n",
       "    </tr>\n",
       "    <tr>\n",
       "      <th>96</th>\n",
       "      <td>26285</td>\n",
       "      <td>FUND. UNIVERSIDADE DE SAO JOAO DEL REI</td>\n",
       "      <td>1493</td>\n",
       "    </tr>\n",
       "    <tr>\n",
       "      <th>97</th>\n",
       "      <td>26268</td>\n",
       "      <td>FUND. UNIVERSIDADE FEDERAL DE RONDONIA</td>\n",
       "      <td>1301</td>\n",
       "    </tr>\n",
       "    <tr>\n",
       "      <th>98</th>\n",
       "      <td>26284</td>\n",
       "      <td>FUND.UNIV.FED.CIENC.SAUDE D PORTO ALEGRE</td>\n",
       "      <td>1077</td>\n",
       "    </tr>\n",
       "    <tr>\n",
       "      <th>99</th>\n",
       "      <td>26230</td>\n",
       "      <td>FUND.UNIV.FED.DO VALE DO SAO FRANCISCO</td>\n",
       "      <td>1018</td>\n",
       "    </tr>\n",
       "    <tr>\n",
       "      <th>100</th>\n",
       "      <td>26292</td>\n",
       "      <td>FUNDACAO JOAQUIM NABUCO</td>\n",
       "      <td>286</td>\n",
       "    </tr>\n",
       "    <tr>\n",
       "      <th>101</th>\n",
       "      <td>26277</td>\n",
       "      <td>FUNDACAO UNIV. FEDERAL DE OURO PRETO</td>\n",
       "      <td>1893</td>\n",
       "    </tr>\n",
       "    <tr>\n",
       "      <th>102</th>\n",
       "      <td>26274</td>\n",
       "      <td>FUNDACAO UNIV. FEDERAL DE UBERLANDIA</td>\n",
       "      <td>5552</td>\n",
       "    </tr>\n",
       "    <tr>\n",
       "      <th>103</th>\n",
       "      <td>26271</td>\n",
       "      <td>FUNDACAO UNIVERSIDADE DE BRASILIA</td>\n",
       "      <td>6264</td>\n",
       "    </tr>\n",
       "    <tr>\n",
       "      <th>104</th>\n",
       "      <td>26270</td>\n",
       "      <td>FUNDACAO UNIVERSIDADE DO AMAZONAS</td>\n",
       "      <td>3722</td>\n",
       "    </tr>\n",
       "    <tr>\n",
       "      <th>105</th>\n",
       "      <td>26257</td>\n",
       "      <td>CENTRO FED.DE EDUC.TECNOL.MINAS GERAIS</td>\n",
       "      <td>1841</td>\n",
       "    </tr>\n",
       "    <tr>\n",
       "      <th>106</th>\n",
       "      <td>26256</td>\n",
       "      <td>CENTRO FED.EDUC.TECNOL.CELSO S. FONSECA</td>\n",
       "      <td>1572</td>\n",
       "    </tr>\n",
       "    <tr>\n",
       "      <th>107</th>\n",
       "      <td>26201</td>\n",
       "      <td>COLEGIO PEDRO II</td>\n",
       "      <td>2345</td>\n",
       "    </tr>\n",
       "    <tr>\n",
       "      <th>108</th>\n",
       "      <td>26443</td>\n",
       "      <td>EMPRESA BRAS. DE SERVICOS HOSPITALARES</td>\n",
       "      <td>25750</td>\n",
       "    </tr>\n",
       "    <tr>\n",
       "      <th>109</th>\n",
       "      <td>26298</td>\n",
       "      <td>FUND COORD APERF PESSOAL NIVEL SUPERIOR</td>\n",
       "      <td>409</td>\n",
       "    </tr>\n",
       "    <tr>\n",
       "      <th>110</th>\n",
       "      <td>26350</td>\n",
       "      <td>FUND. UNIV FEDERAL DA GRANDE DOURADOS</td>\n",
       "      <td>1585</td>\n",
       "    </tr>\n",
       "    <tr>\n",
       "      <th>111</th>\n",
       "      <td>26285</td>\n",
       "      <td>FUND. UNIVERSIDADE DE SAO JOAO DEL REI</td>\n",
       "      <td>1493</td>\n",
       "    </tr>\n",
       "    <tr>\n",
       "      <th>112</th>\n",
       "      <td>26268</td>\n",
       "      <td>FUND. UNIVERSIDADE FEDERAL DE RONDONIA</td>\n",
       "      <td>1301</td>\n",
       "    </tr>\n",
       "    <tr>\n",
       "      <th>113</th>\n",
       "      <td>26284</td>\n",
       "      <td>FUND.UNIV.FED.CIENC.SAUDE D PORTO ALEGRE</td>\n",
       "      <td>1077</td>\n",
       "    </tr>\n",
       "    <tr>\n",
       "      <th>114</th>\n",
       "      <td>26230</td>\n",
       "      <td>FUND.UNIV.FED.DO VALE DO SAO FRANCISCO</td>\n",
       "      <td>1018</td>\n",
       "    </tr>\n",
       "    <tr>\n",
       "      <th>115</th>\n",
       "      <td>26292</td>\n",
       "      <td>FUNDACAO JOAQUIM NABUCO</td>\n",
       "      <td>286</td>\n",
       "    </tr>\n",
       "    <tr>\n",
       "      <th>116</th>\n",
       "      <td>26277</td>\n",
       "      <td>FUNDACAO UNIV. FEDERAL DE OURO PRETO</td>\n",
       "      <td>1893</td>\n",
       "    </tr>\n",
       "    <tr>\n",
       "      <th>117</th>\n",
       "      <td>26274</td>\n",
       "      <td>FUNDACAO UNIV. FEDERAL DE UBERLANDIA</td>\n",
       "      <td>5552</td>\n",
       "    </tr>\n",
       "    <tr>\n",
       "      <th>118</th>\n",
       "      <td>26271</td>\n",
       "      <td>FUNDACAO UNIVERSIDADE DE BRASILIA</td>\n",
       "      <td>6264</td>\n",
       "    </tr>\n",
       "    <tr>\n",
       "      <th>119</th>\n",
       "      <td>26270</td>\n",
       "      <td>FUNDACAO UNIVERSIDADE DO AMAZONAS</td>\n",
       "      <td>3722</td>\n",
       "    </tr>\n",
       "  </tbody>\n",
       "</table>\n",
       "<p>120 rows × 3 columns</p>\n",
       "</div>"
      ],
      "text/plain": [
       "       Code                                   IES_name  Number_employees\n",
       "0    26257     CENTRO FED.DE EDUC.TECNOL.MINAS GERAIS               1841\n",
       "1    26256    CENTRO FED.EDUC.TECNOL.CELSO S. FONSECA               1572\n",
       "2    26201                           COLEGIO PEDRO II               2345\n",
       "3    26443     EMPRESA BRAS. DE SERVICOS HOSPITALARES              25750\n",
       "4    26298    FUND COORD APERF PESSOAL NIVEL SUPERIOR                409\n",
       "5    26350      FUND. UNIV FEDERAL DA GRANDE DOURADOS               1585\n",
       "6    26285     FUND. UNIVERSIDADE DE SAO JOAO DEL REI               1493\n",
       "7    26268     FUND. UNIVERSIDADE FEDERAL DE RONDONIA               1301\n",
       "8    26284   FUND.UNIV.FED.CIENC.SAUDE D PORTO ALEGRE               1077\n",
       "9    26230     FUND.UNIV.FED.DO VALE DO SAO FRANCISCO               1018\n",
       "10   26292                    FUNDACAO JOAQUIM NABUCO                286\n",
       "11   26277       FUNDACAO UNIV. FEDERAL DE OURO PRETO               1893\n",
       "12   26274       FUNDACAO UNIV. FEDERAL DE UBERLANDIA               5552\n",
       "13   26271          FUNDACAO UNIVERSIDADE DE BRASILIA               6264\n",
       "14   26270          FUNDACAO UNIVERSIDADE DO AMAZONAS               3722\n",
       "15   26257     CENTRO FED.DE EDUC.TECNOL.MINAS GERAIS               1841\n",
       "16   26256    CENTRO FED.EDUC.TECNOL.CELSO S. FONSECA               1572\n",
       "17   26201                           COLEGIO PEDRO II               2345\n",
       "18   26443     EMPRESA BRAS. DE SERVICOS HOSPITALARES              25750\n",
       "19   26298    FUND COORD APERF PESSOAL NIVEL SUPERIOR                409\n",
       "20   26350      FUND. UNIV FEDERAL DA GRANDE DOURADOS               1585\n",
       "21   26285     FUND. UNIVERSIDADE DE SAO JOAO DEL REI               1493\n",
       "22   26268     FUND. UNIVERSIDADE FEDERAL DE RONDONIA               1301\n",
       "23   26284   FUND.UNIV.FED.CIENC.SAUDE D PORTO ALEGRE               1077\n",
       "24   26230     FUND.UNIV.FED.DO VALE DO SAO FRANCISCO               1018\n",
       "25   26292                    FUNDACAO JOAQUIM NABUCO                286\n",
       "26   26277       FUNDACAO UNIV. FEDERAL DE OURO PRETO               1893\n",
       "27   26274       FUNDACAO UNIV. FEDERAL DE UBERLANDIA               5552\n",
       "28   26271          FUNDACAO UNIVERSIDADE DE BRASILIA               6264\n",
       "29   26270          FUNDACAO UNIVERSIDADE DO AMAZONAS               3722\n",
       "..      ...                                        ...               ...\n",
       "90   26257     CENTRO FED.DE EDUC.TECNOL.MINAS GERAIS               1841\n",
       "91   26256    CENTRO FED.EDUC.TECNOL.CELSO S. FONSECA               1572\n",
       "92   26201                           COLEGIO PEDRO II               2345\n",
       "93   26443     EMPRESA BRAS. DE SERVICOS HOSPITALARES              25750\n",
       "94   26298    FUND COORD APERF PESSOAL NIVEL SUPERIOR                409\n",
       "95   26350      FUND. UNIV FEDERAL DA GRANDE DOURADOS               1585\n",
       "96   26285     FUND. UNIVERSIDADE DE SAO JOAO DEL REI               1493\n",
       "97   26268     FUND. UNIVERSIDADE FEDERAL DE RONDONIA               1301\n",
       "98   26284   FUND.UNIV.FED.CIENC.SAUDE D PORTO ALEGRE               1077\n",
       "99   26230     FUND.UNIV.FED.DO VALE DO SAO FRANCISCO               1018\n",
       "100  26292                    FUNDACAO JOAQUIM NABUCO                286\n",
       "101  26277       FUNDACAO UNIV. FEDERAL DE OURO PRETO               1893\n",
       "102  26274       FUNDACAO UNIV. FEDERAL DE UBERLANDIA               5552\n",
       "103  26271          FUNDACAO UNIVERSIDADE DE BRASILIA               6264\n",
       "104  26270          FUNDACAO UNIVERSIDADE DO AMAZONAS               3722\n",
       "105  26257     CENTRO FED.DE EDUC.TECNOL.MINAS GERAIS               1841\n",
       "106  26256    CENTRO FED.EDUC.TECNOL.CELSO S. FONSECA               1572\n",
       "107  26201                           COLEGIO PEDRO II               2345\n",
       "108  26443     EMPRESA BRAS. DE SERVICOS HOSPITALARES              25750\n",
       "109  26298    FUND COORD APERF PESSOAL NIVEL SUPERIOR                409\n",
       "110  26350      FUND. UNIV FEDERAL DA GRANDE DOURADOS               1585\n",
       "111  26285     FUND. UNIVERSIDADE DE SAO JOAO DEL REI               1493\n",
       "112  26268     FUND. UNIVERSIDADE FEDERAL DE RONDONIA               1301\n",
       "113  26284   FUND.UNIV.FED.CIENC.SAUDE D PORTO ALEGRE               1077\n",
       "114  26230     FUND.UNIV.FED.DO VALE DO SAO FRANCISCO               1018\n",
       "115  26292                    FUNDACAO JOAQUIM NABUCO                286\n",
       "116  26277       FUNDACAO UNIV. FEDERAL DE OURO PRETO               1893\n",
       "117  26274       FUNDACAO UNIV. FEDERAL DE UBERLANDIA               5552\n",
       "118  26271          FUNDACAO UNIVERSIDADE DE BRASILIA               6264\n",
       "119  26270          FUNDACAO UNIVERSIDADE DO AMAZONAS               3722\n",
       "\n",
       "[120 rows x 3 columns]"
      ]
     },
     "execution_count": 86,
     "metadata": {},
     "output_type": "execute_result"
    }
   ],
   "source": [
    "# Let’s check the data collected so far. \n",
    "# Pandas makes it easy for us to see whether \n",
    "# we’ve scraped our data successfully.\n",
    "\n",
    "import pandas as pd\n",
    "\n",
    "web_scraping_df = pd.DataFrame({'Code': rh_codes,\n",
    "                       'IES_name': names,\n",
    "                       'Number_employees': number_of_employees})\n",
    "print(web_scraping_df.info())\n",
    "web_scraping_df"
   ]
  },
  {
   "cell_type": "code",
   "execution_count": 88,
   "metadata": {
    "collapsed": true,
    "scrolled": true
   },
   "outputs": [],
   "source": [
    "web_scraping_df.to_csv('number_of_employees.csv')"
   ]
  },
  {
   "cell_type": "markdown",
   "metadata": {},
   "source": [
    "### 2.7. Plotting and analyzing the distributions"
   ]
  },
  {
   "cell_type": "code",
   "execution_count": 94,
   "metadata": {
    "scrolled": true
   },
   "outputs": [
    {
     "data": {
      "image/png": "[encoded data removed]",
      "text/plain": [
       "<matplotlib.figure.Figure at 0x120803ba8>"
      ]
     },
     "metadata": {},
     "output_type": "display_data"
    }
   ],
   "source": [
    "import seaborn as sns\n",
    "import matplotlib.pyplot as plt\n",
    "\n",
    "#to switch to seaborn defaults, simply call the set() function.\n",
    "sns.set()\n",
    "\n",
    "# The four preset contexts, in order of relative size, are paper, notebook, talk, and poster\n",
    "sns.set_context(\"notebook\")\n",
    "\n",
    "# plot a univariate distribution of observations.\n",
    "sns.distplot(web_scraping_df[\"Number_employees\"],bins=50, kde=False)\n",
    "plt.show()"
   ]
  },
  {
   "cell_type": "code",
   "execution_count": 95,
   "metadata": {},
   "outputs": [
    {
     "data": {
      "image/png": "[encoded data removed]",
      "text/plain": [
       "<matplotlib.figure.Figure at 0x1206550b8>"
      ]
     },
     "metadata": {},
     "output_type": "display_data"
    }
   ],
   "source": [
    "sns.boxplot(web_scraping_df[\"Number_employees\"])\n",
    "plt.show()"
   ]
  },
  {
   "cell_type": "code",
   "execution_count": 100,
   "metadata": {
    "scrolled": true
   },
   "outputs": [
    {
     "name": "stdout",
     "output_type": "stream",
     "text": [
      "Mean: 3740\n",
      "Median: 1585\n",
      "Standard deviation: 6140\n"
     ]
    }
   ],
   "source": [
    "print('Mean: %d' % (web_scraping_df[\"Number_employees\"].mean()))\n",
    "print('Median: %d' % (web_scraping_df[\"Number_employees\"].median()))\n",
    "print('Standard deviation: %d' % (web_scraping_df[\"Number_employees\"].std()))"
   ]
  },
  {
   "cell_type": "code",
   "execution_count": null,
   "metadata": {
    "collapsed": true
   },
   "outputs": [],
   "source": []
  }
 ],
 "metadata": {
  "kernelspec": {
   "display_name": "Python 3",
   "language": "python",
   "name": "python3"
  },
  "language_info": {
   "codemirror_mode": {
    "name": "ipython",
    "version": 3
   },
   "file_extension": ".py",
   "mimetype": "text/x-python",
   "name": "python",
   "nbconvert_exporter": "python",
   "pygments_lexer": "ipython3",
   "version": "3.6.0"
  }
 },
 "nbformat": 4,
 "nbformat_minor": 2
}

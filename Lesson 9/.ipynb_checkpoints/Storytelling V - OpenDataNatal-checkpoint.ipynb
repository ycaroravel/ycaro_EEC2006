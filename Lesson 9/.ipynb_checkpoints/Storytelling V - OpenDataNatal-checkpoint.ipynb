{
 "cells": [
  {
   "cell_type": "markdown",
   "metadata": {},
   "source": [
    "# 1. Open Data\n",
    "\n",
    "Open data is the idea that some data should be freely available to everyone to use and republish as they wish, without restrictions from copyright, patents or other mechanisms of control. The goals of the open data movement are similar to those of other \"open\" movements such as open source, open hardware, open content, open government and open access. The philosophy behind open data has been long established (for example in the Mertonian tradition of science), but the term \"open data\" itself is recent, gaining popularity with the rise of the Internet and World Wide Web and, especially, with the launch of open-data government initiatives such as Data.gov and Data.gov.uk."
   ]
  },
  {
   "cell_type": "markdown",
   "metadata": {},
   "source": [
    "## Municipal schools \n",
    "\n",
    "source: http://ckan.imd.ufrn.br/\n",
    "\n",
    "The dataset provides information about public elementary schools and kindergartens of Natal-RN in 2014.\n",
    "\n",
    "source: http://ckan.imd.ufrn.br/dataset/quadro-das-escolas-e-cmeis-do-municipio\n"
   ]
  },
  {
   "cell_type": "markdown",
   "metadata": {},
   "source": [
    "## Data from education units"
   ]
  },
  {
   "cell_type": "code",
   "execution_count": 74,
   "metadata": {
    "collapsed": true
   },
   "outputs": [],
   "source": [
    "from pathlib import Path\n",
    "from tqdm import tqdm\n",
    "import pandas as pd\n",
    "import folium\n",
    "from folium.plugins import HeatMap\n",
    "import geocoder\n"
   ]
  },
  {
   "cell_type": "code",
   "execution_count": 2,
   "metadata": {},
   "outputs": [],
   "source": [
    "\n",
    "\n",
    "#'CMEI' - Centro Municipal de Educação Infantil \n",
    "url_school = 'http://ckan.imd.ufrn.br/dataset/9b362c15-832b-4aa9-9dfe-a5e015b3ce54/resource/99e0eef6-e16c-4ed8-bf62-d6bca9626eeb/download/escolas-por-regioes-administrativas.csv'\n",
    "url_cmei = 'http://ckan.imd.ufrn.br/dataset/9b362c15-832b-4aa9-9dfe-a5e015b3ce54/resource/6d8e8580-bb48-4d75-a55c-4fa04da23919/download/cmeis-por-regioes-administrativas.csv'\n",
    "\n",
    "df_school = pd.read_csv(url_school, encoding = 'utf-8', sep = ';')\n",
    "df_cmei = pd.read_csv(url_cmei, encoding = 'utf-8', sep = ';')\n"
   ]
  },
  {
   "cell_type": "code",
   "execution_count": 3,
   "metadata": {},
   "outputs": [
    {
     "name": "stdout",
     "output_type": "stream",
     "text": [
      "Index(['Região Administrativa', 'CÓDIGO', 'ESTABELECIMENTO', 'ENDEREÇO', 'Nº',\n",
      "       'BAIRRO', 'CEP', 'FONE'],\n",
      "      dtype='object')\n",
      "(72, 8)\n",
      "<class 'pandas.core.frame.DataFrame'>\n",
      "RangeIndex: 72 entries, 0 to 71\n",
      "Data columns (total 8 columns):\n",
      "Região Administrativa    72 non-null object\n",
      "CÓDIGO                   72 non-null int64\n",
      "ESTABELECIMENTO          72 non-null object\n",
      "ENDEREÇO                 72 non-null object\n",
      "Nº                       68 non-null object\n",
      "BAIRRO                   72 non-null object\n",
      "CEP                      72 non-null int64\n",
      "FONE                     72 non-null int64\n",
      "dtypes: int64(3), object(5)\n",
      "memory usage: 4.6+ KB\n",
      "None\n"
     ]
    },
    {
     "data": {
      "text/html": [
       "<div>\n",
       "<table border=\"1\" class=\"dataframe\">\n",
       "  <thead>\n",
       "    <tr style=\"text-align: right;\">\n",
       "      <th></th>\n",
       "      <th>Região Administrativa</th>\n",
       "      <th>CÓDIGO</th>\n",
       "      <th>ESTABELECIMENTO</th>\n",
       "      <th>ENDEREÇO</th>\n",
       "      <th>Nº</th>\n",
       "      <th>BAIRRO</th>\n",
       "      <th>CEP</th>\n",
       "      <th>FONE</th>\n",
       "    </tr>\n",
       "  </thead>\n",
       "  <tbody>\n",
       "    <tr>\n",
       "      <th>0</th>\n",
       "      <td>SUL</td>\n",
       "      <td>24058890</td>\n",
       "      <td>ESC MUL PROF ANTÔNIO SEVERIANO</td>\n",
       "      <td>AV OURO PRETO</td>\n",
       "      <td>2754</td>\n",
       "      <td>NEÓPOLIS</td>\n",
       "      <td>59088690</td>\n",
       "      <td>32324762</td>\n",
       "    </tr>\n",
       "    <tr>\n",
       "      <th>1</th>\n",
       "      <td>SUL</td>\n",
       "      <td>24058912</td>\n",
       "      <td>ESC MUL PROF ARNALDO MONTEIRO BEZERRA</td>\n",
       "      <td>ARACITABA</td>\n",
       "      <td>2993</td>\n",
       "      <td>NEÓPOLIS</td>\n",
       "      <td>59084080</td>\n",
       "      <td>32324763</td>\n",
       "    </tr>\n",
       "    <tr>\n",
       "      <th>2</th>\n",
       "      <td>SUL</td>\n",
       "      <td>24060690</td>\n",
       "      <td>ESC MUL PROF ASCENDINO DE ALMEIDA</td>\n",
       "      <td>RUA JOAQUIM CARDOSO</td>\n",
       "      <td>NaN</td>\n",
       "      <td>PITIMBU</td>\n",
       "      <td>59069010</td>\n",
       "      <td>32324767</td>\n",
       "    </tr>\n",
       "    <tr>\n",
       "      <th>3</th>\n",
       "      <td>SUL</td>\n",
       "      <td>24058793</td>\n",
       "      <td>ESC MUL PROF CARLOS BELLO MORENO</td>\n",
       "      <td>RUA ARAPIRACA</td>\n",
       "      <td>SN</td>\n",
       "      <td>NEÓPOLIS</td>\n",
       "      <td>59086210</td>\n",
       "      <td>32324761</td>\n",
       "    </tr>\n",
       "    <tr>\n",
       "      <th>4</th>\n",
       "      <td>SUL</td>\n",
       "      <td>24075710</td>\n",
       "      <td>ESC MUL PROF OTTO DE BRITO GUERRA</td>\n",
       "      <td>RUA SERRA DA JUREMA</td>\n",
       "      <td>SN</td>\n",
       "      <td>PITIMBU</td>\n",
       "      <td>59068150</td>\n",
       "      <td>32328373</td>\n",
       "    </tr>\n",
       "  </tbody>\n",
       "</table>\n",
       "</div>"
      ],
      "text/plain": [
       "  Região Administrativa    CÓDIGO                        ESTABELECIMENTO  \\\n",
       "0                   SUL  24058890         ESC MUL PROF ANTÔNIO SEVERIANO   \n",
       "1                   SUL  24058912  ESC MUL PROF ARNALDO MONTEIRO BEZERRA   \n",
       "2                   SUL  24060690      ESC MUL PROF ASCENDINO DE ALMEIDA   \n",
       "3                   SUL  24058793       ESC MUL PROF CARLOS BELLO MORENO   \n",
       "4                   SUL  24075710      ESC MUL PROF OTTO DE BRITO GUERRA   \n",
       "\n",
       "              ENDEREÇO    Nº    BAIRRO       CEP      FONE  \n",
       "0        AV OURO PRETO  2754  NEÓPOLIS  59088690  32324762  \n",
       "1            ARACITABA  2993  NEÓPOLIS  59084080  32324763  \n",
       "2  RUA JOAQUIM CARDOSO   NaN   PITIMBU  59069010  32324767  \n",
       "3        RUA ARAPIRACA    SN  NEÓPOLIS  59086210  32324761  \n",
       "4  RUA SERRA DA JUREMA    SN   PITIMBU  59068150  32328373  "
      ]
     },
     "execution_count": 3,
     "metadata": {},
     "output_type": "execute_result"
    }
   ],
   "source": [
    "# exploratore data analysis\n",
    "print(df_school.columns)\n",
    "print(df_school.shape)\n",
    "print(df_school.info())\n",
    "df_school.head()"
   ]
  },
  {
   "cell_type": "code",
   "execution_count": 4,
   "metadata": {},
   "outputs": [
    {
     "name": "stdout",
     "output_type": "stream",
     "text": [
      "Index(['Região Administrativa', 'CÓDIGO', 'ESTABELECIMENTO', 'ENDEREÇO', 'Nº',\n",
      "       'BAIRRO', 'CEP', 'FONE'],\n",
      "      dtype='object')\n",
      "(73, 8)\n",
      "<class 'pandas.core.frame.DataFrame'>\n",
      "RangeIndex: 73 entries, 0 to 72\n",
      "Data columns (total 8 columns):\n",
      "Região Administrativa    73 non-null object\n",
      "CÓDIGO                   73 non-null int64\n",
      "ESTABELECIMENTO          73 non-null object\n",
      "ENDEREÇO                 72 non-null object\n",
      "Nº                       72 non-null object\n",
      "BAIRRO                   73 non-null object\n",
      "CEP                      73 non-null int64\n",
      "FONE                     67 non-null float64\n",
      "dtypes: float64(1), int64(2), object(5)\n",
      "memory usage: 4.6+ KB\n",
      "None\n"
     ]
    },
    {
     "data": {
      "text/html": [
       "<div>\n",
       "<table border=\"1\" class=\"dataframe\">\n",
       "  <thead>\n",
       "    <tr style=\"text-align: right;\">\n",
       "      <th></th>\n",
       "      <th>Região Administrativa</th>\n",
       "      <th>CÓDIGO</th>\n",
       "      <th>ESTABELECIMENTO</th>\n",
       "      <th>ENDEREÇO</th>\n",
       "      <th>Nº</th>\n",
       "      <th>BAIRRO</th>\n",
       "      <th>CEP</th>\n",
       "      <th>FONE</th>\n",
       "    </tr>\n",
       "  </thead>\n",
       "  <tbody>\n",
       "    <tr>\n",
       "      <th>0</th>\n",
       "      <td>SUL</td>\n",
       "      <td>24077720</td>\n",
       "      <td>CMEI CLAUDETE COSTA MACIEL</td>\n",
       "      <td>RUA SERRA DOS CARAJAS</td>\n",
       "      <td>3160</td>\n",
       "      <td>PITIMBU</td>\n",
       "      <td>59068200</td>\n",
       "      <td>32328403.0</td>\n",
       "    </tr>\n",
       "    <tr>\n",
       "      <th>1</th>\n",
       "      <td>SUL</td>\n",
       "      <td>24077739</td>\n",
       "      <td>CMEI HAYDEE MONTEIRO BEZERRA DE MELO</td>\n",
       "      <td>RUA JOSÉ SELEDON</td>\n",
       "      <td>70</td>\n",
       "      <td>PONTA NEGRA</td>\n",
       "      <td>59090215</td>\n",
       "      <td>32328413.0</td>\n",
       "    </tr>\n",
       "    <tr>\n",
       "      <th>2</th>\n",
       "      <td>SUL</td>\n",
       "      <td>24056936</td>\n",
       "      <td>CMEI KÁTIA FAGUNDES GARCIA</td>\n",
       "      <td>RUA PROFESSORA ANA DJANIRA</td>\n",
       "      <td>1960</td>\n",
       "      <td>CANDELÁRIA</td>\n",
       "      <td>59064480</td>\n",
       "      <td>87291989.0</td>\n",
       "    </tr>\n",
       "    <tr>\n",
       "      <th>3</th>\n",
       "      <td>SUL</td>\n",
       "      <td>24077267</td>\n",
       "      <td>CMEI MARIA CELONI CAMPOS</td>\n",
       "      <td>RUA BAIA FORMOSÁ</td>\n",
       "      <td>1517</td>\n",
       "      <td>LAGOA NOVA II</td>\n",
       "      <td>59063060</td>\n",
       "      <td>32329443.0</td>\n",
       "    </tr>\n",
       "    <tr>\n",
       "      <th>4</th>\n",
       "      <td>SUL</td>\n",
       "      <td>24077500</td>\n",
       "      <td>CMEI MOEMA TINOCO DA CUNHA LIMA</td>\n",
       "      <td>RUA JACUI</td>\n",
       "      <td>217</td>\n",
       "      <td>NEÓPOLIS</td>\n",
       "      <td>59080270</td>\n",
       "      <td>32328376.0</td>\n",
       "    </tr>\n",
       "  </tbody>\n",
       "</table>\n",
       "</div>"
      ],
      "text/plain": [
       "  Região Administrativa    CÓDIGO                       ESTABELECIMENTO  \\\n",
       "0                   SUL  24077720            CMEI CLAUDETE COSTA MACIEL   \n",
       "1                   SUL  24077739  CMEI HAYDEE MONTEIRO BEZERRA DE MELO   \n",
       "2                   SUL  24056936            CMEI KÁTIA FAGUNDES GARCIA   \n",
       "3                   SUL  24077267              CMEI MARIA CELONI CAMPOS   \n",
       "4                   SUL  24077500       CMEI MOEMA TINOCO DA CUNHA LIMA   \n",
       "\n",
       "                     ENDEREÇO    Nº         BAIRRO       CEP        FONE  \n",
       "0       RUA SERRA DOS CARAJAS  3160        PITIMBU  59068200  32328403.0  \n",
       "1            RUA JOSÉ SELEDON    70    PONTA NEGRA  59090215  32328413.0  \n",
       "2  RUA PROFESSORA ANA DJANIRA  1960     CANDELÁRIA  59064480  87291989.0  \n",
       "3            RUA BAIA FORMOSÁ  1517  LAGOA NOVA II  59063060  32329443.0  \n",
       "4                   RUA JACUI   217       NEÓPOLIS  59080270  32328376.0  "
      ]
     },
     "execution_count": 4,
     "metadata": {},
     "output_type": "execute_result"
    }
   ],
   "source": [
    "# exploratore data analysis\n",
    "print(df_cmei.columns)\n",
    "print(df_cmei.shape)\n",
    "print(df_cmei.info())\n",
    "df_cmei.head()"
   ]
  },
  {
   "cell_type": "code",
   "execution_count": 5,
   "metadata": {
    "collapsed": true
   },
   "outputs": [],
   "source": [
    "# Normalize NaN values on 'Nº' column\n",
    "df_school.loc[:, 'Nº'].fillna('', inplace=True)\n",
    "\n",
    "# Normalize NaN values on 'ENDEREÇO' and 'FONE' column\n",
    "df_cmei.loc[:, 'ENDEREÇO'].fillna('', inplace=True)\n",
    "df_cmei.loc[:, 'FONE'].fillna('', inplace=True)"
   ]
  },
  {
   "cell_type": "code",
   "execution_count": 6,
   "metadata": {},
   "outputs": [
    {
     "name": "stdout",
     "output_type": "stream",
     "text": [
      "<class 'pandas.core.frame.DataFrame'>\n",
      "RangeIndex: 72 entries, 0 to 71\n",
      "Data columns (total 8 columns):\n",
      "Região Administrativa    72 non-null object\n",
      "CÓDIGO                   72 non-null int64\n",
      "ESTABELECIMENTO          72 non-null object\n",
      "ENDEREÇO                 72 non-null object\n",
      "Nº                       72 non-null object\n",
      "BAIRRO                   72 non-null object\n",
      "CEP                      72 non-null int64\n",
      "FONE                     72 non-null int64\n",
      "dtypes: int64(3), object(5)\n",
      "memory usage: 4.6+ KB\n",
      "<class 'pandas.core.frame.DataFrame'>\n",
      "RangeIndex: 73 entries, 0 to 72\n",
      "Data columns (total 8 columns):\n",
      "Região Administrativa    73 non-null object\n",
      "CÓDIGO                   73 non-null int64\n",
      "ESTABELECIMENTO          73 non-null object\n",
      "ENDEREÇO                 73 non-null object\n",
      "Nº                       72 non-null object\n",
      "BAIRRO                   73 non-null object\n",
      "CEP                      73 non-null int64\n",
      "FONE                     73 non-null object\n",
      "dtypes: int64(2), object(6)\n",
      "memory usage: 4.6+ KB\n"
     ]
    }
   ],
   "source": [
    "df_school.info()\n",
    "df_cmei.info()"
   ]
  },
  {
   "cell_type": "code",
   "execution_count": 7,
   "metadata": {
    "collapsed": true
   },
   "outputs": [],
   "source": [
    "# Group the data by region\n",
    "\n",
    "schools_by_region = pd.DataFrame(df_school.groupby(['Região Administrativa'])['CÓDIGO'].count()).reset_index()\n",
    "schools_by_region.rename(columns = {\n",
    "    'Região Administrativa': 'region',\n",
    "    'CÓDIGO': 'amount'\n",
    "}, inplace = True)\n",
    "\n",
    "cmeis_by_region = pd.DataFrame(df_cmei.groupby(['Região Administrativa'])['CÓDIGO'].count()).reset_index()\n",
    "cmeis_by_region.rename(columns = {\n",
    "    'Região Administrativa': 'region',\n",
    "    'CÓDIGO': 'amount'\n",
    "}, inplace = True)"
   ]
  },
  {
   "cell_type": "code",
   "execution_count": 8,
   "metadata": {},
   "outputs": [
    {
     "data": {
      "text/html": [
       "<div>\n",
       "<table border=\"1\" class=\"dataframe\">\n",
       "  <thead>\n",
       "    <tr style=\"text-align: right;\">\n",
       "      <th></th>\n",
       "      <th>region</th>\n",
       "      <th>amount</th>\n",
       "    </tr>\n",
       "  </thead>\n",
       "  <tbody>\n",
       "    <tr>\n",
       "      <th>0</th>\n",
       "      <td>LESTE</td>\n",
       "      <td>9</td>\n",
       "    </tr>\n",
       "    <tr>\n",
       "      <th>1</th>\n",
       "      <td>NORTE</td>\n",
       "      <td>34</td>\n",
       "    </tr>\n",
       "    <tr>\n",
       "      <th>2</th>\n",
       "      <td>OESTE</td>\n",
       "      <td>21</td>\n",
       "    </tr>\n",
       "    <tr>\n",
       "      <th>3</th>\n",
       "      <td>SUL</td>\n",
       "      <td>8</td>\n",
       "    </tr>\n",
       "  </tbody>\n",
       "</table>\n",
       "</div>"
      ],
      "text/plain": [
       "  region  amount\n",
       "0  LESTE       9\n",
       "1  NORTE      34\n",
       "2  OESTE      21\n",
       "3    SUL       8"
      ]
     },
     "execution_count": 8,
     "metadata": {},
     "output_type": "execute_result"
    }
   ],
   "source": [
    "schools_by_region.head()"
   ]
  },
  {
   "cell_type": "code",
   "execution_count": 9,
   "metadata": {},
   "outputs": [
    {
     "data": {
      "text/html": [
       "<div>\n",
       "<table border=\"1\" class=\"dataframe\">\n",
       "  <thead>\n",
       "    <tr style=\"text-align: right;\">\n",
       "      <th></th>\n",
       "      <th>region</th>\n",
       "      <th>amount</th>\n",
       "    </tr>\n",
       "  </thead>\n",
       "  <tbody>\n",
       "    <tr>\n",
       "      <th>0</th>\n",
       "      <td>LESTE</td>\n",
       "      <td>10</td>\n",
       "    </tr>\n",
       "    <tr>\n",
       "      <th>1</th>\n",
       "      <td>NORTE</td>\n",
       "      <td>27</td>\n",
       "    </tr>\n",
       "    <tr>\n",
       "      <th>2</th>\n",
       "      <td>OESTE</td>\n",
       "      <td>24</td>\n",
       "    </tr>\n",
       "    <tr>\n",
       "      <th>3</th>\n",
       "      <td>SUL</td>\n",
       "      <td>12</td>\n",
       "    </tr>\n",
       "  </tbody>\n",
       "</table>\n",
       "</div>"
      ],
      "text/plain": [
       "  region  amount\n",
       "0  LESTE      10\n",
       "1  NORTE      27\n",
       "2  OESTE      24\n",
       "3    SUL      12"
      ]
     },
     "execution_count": 9,
     "metadata": {},
     "output_type": "execute_result"
    }
   ],
   "source": [
    "cmeis_by_region.head()"
   ]
  },
  {
   "cell_type": "markdown",
   "metadata": {},
   "source": [
    "## Geocoding for education units"
   ]
  },
  {
   "cell_type": "code",
   "execution_count": 64,
   "metadata": {},
   "outputs": [
    {
     "data": {
      "text/html": [
       "<div>\n",
       "<table border=\"1\" class=\"dataframe\">\n",
       "  <thead>\n",
       "    <tr style=\"text-align: right;\">\n",
       "      <th></th>\n",
       "      <th>NAME</th>\n",
       "      <th>Type</th>\n",
       "      <th>GEOCODE_INPUT</th>\n",
       "      <th>LAT</th>\n",
       "      <th>LNG</th>\n",
       "    </tr>\n",
       "  </thead>\n",
       "  <tbody>\n",
       "    <tr>\n",
       "      <th>0</th>\n",
       "      <td>ESC MUL PROF ANTÔNIO SEVERIANO</td>\n",
       "      <td>Elem</td>\n",
       "      <td>AV OURO PRETO, 2754 ,NATAL-RN</td>\n",
       "      <td>0</td>\n",
       "      <td>0</td>\n",
       "    </tr>\n",
       "    <tr>\n",
       "      <th>1</th>\n",
       "      <td>ESC MUL PROF ARNALDO MONTEIRO BEZERRA</td>\n",
       "      <td>Elem</td>\n",
       "      <td>ARACITABA, 2993 ,NATAL-RN</td>\n",
       "      <td>0</td>\n",
       "      <td>0</td>\n",
       "    </tr>\n",
       "    <tr>\n",
       "      <th>2</th>\n",
       "      <td>ESC MUL PROF ASCENDINO DE ALMEIDA</td>\n",
       "      <td>Elem</td>\n",
       "      <td>RUA JOAQUIM CARDOSO,  ,NATAL-RN</td>\n",
       "      <td>0</td>\n",
       "      <td>0</td>\n",
       "    </tr>\n",
       "    <tr>\n",
       "      <th>3</th>\n",
       "      <td>ESC MUL PROF CARLOS BELLO MORENO</td>\n",
       "      <td>Elem</td>\n",
       "      <td>RUA ARAPIRACA, SN ,NATAL-RN</td>\n",
       "      <td>0</td>\n",
       "      <td>0</td>\n",
       "    </tr>\n",
       "    <tr>\n",
       "      <th>4</th>\n",
       "      <td>ESC MUL PROF OTTO DE BRITO GUERRA</td>\n",
       "      <td>Elem</td>\n",
       "      <td>RUA SERRA DA JUREMA, SN ,NATAL-RN</td>\n",
       "      <td>0</td>\n",
       "      <td>0</td>\n",
       "    </tr>\n",
       "  </tbody>\n",
       "</table>\n",
       "</div>"
      ],
      "text/plain": [
       "                                    NAME  Type  \\\n",
       "0         ESC MUL PROF ANTÔNIO SEVERIANO  Elem   \n",
       "1  ESC MUL PROF ARNALDO MONTEIRO BEZERRA  Elem   \n",
       "2      ESC MUL PROF ASCENDINO DE ALMEIDA  Elem   \n",
       "3       ESC MUL PROF CARLOS BELLO MORENO  Elem   \n",
       "4      ESC MUL PROF OTTO DE BRITO GUERRA  Elem   \n",
       "\n",
       "                       GEOCODE_INPUT  LAT  LNG  \n",
       "0      AV OURO PRETO, 2754 ,NATAL-RN    0    0  \n",
       "1          ARACITABA, 2993 ,NATAL-RN    0    0  \n",
       "2    RUA JOAQUIM CARDOSO,  ,NATAL-RN    0    0  \n",
       "3        RUA ARAPIRACA, SN ,NATAL-RN    0    0  \n",
       "4  RUA SERRA DA JUREMA, SN ,NATAL-RN    0    0  "
      ]
     },
     "execution_count": 64,
     "metadata": {},
     "output_type": "execute_result"
    }
   ],
   "source": [
    "# Prepare elementary schools geolocation data\n",
    "\n",
    "#cast column CEP to str\n",
    "df_school['CEP'] = df_school['CEP'].astype(str)\n",
    "\n",
    "df_school['GEOCODE_INPUT'] = df_school['ENDEREÇO'] + ', ' + df_school['Nº'] + ' ,NATAL-RN'\n",
    "df_school['LAT'], df_school['LNG'] = [0, 0]\n",
    "df_school['Type'] = 'Elem'\n",
    "\n",
    "schools_geolocation = df_school[['ESTABELECIMENTO', 'Type', 'GEOCODE_INPUT', 'LAT', 'LNG']]\n",
    "\n",
    "schools_geolocation = schools_geolocation.rename(columns = {'ESTABELECIMENTO':'NAME'})\n",
    "\n",
    "schools_geolocation.head()"
   ]
  },
  {
   "cell_type": "code",
   "execution_count": 65,
   "metadata": {},
   "outputs": [
    {
     "data": {
      "text/html": [
       "<div>\n",
       "<table border=\"1\" class=\"dataframe\">\n",
       "  <thead>\n",
       "    <tr style=\"text-align: right;\">\n",
       "      <th></th>\n",
       "      <th>NAME</th>\n",
       "      <th>Type</th>\n",
       "      <th>GEOCODE_INPUT</th>\n",
       "      <th>LAT</th>\n",
       "      <th>LNG</th>\n",
       "    </tr>\n",
       "  </thead>\n",
       "  <tbody>\n",
       "    <tr>\n",
       "      <th>0</th>\n",
       "      <td>CMEI CLAUDETE COSTA MACIEL</td>\n",
       "      <td>Cmei</td>\n",
       "      <td>RUA SERRA DOS CARAJAS, 3160 ,NATAL-RN</td>\n",
       "      <td>0</td>\n",
       "      <td>0</td>\n",
       "    </tr>\n",
       "    <tr>\n",
       "      <th>1</th>\n",
       "      <td>CMEI HAYDEE MONTEIRO BEZERRA DE MELO</td>\n",
       "      <td>Cmei</td>\n",
       "      <td>RUA JOSÉ SELEDON, 70 ,NATAL-RN</td>\n",
       "      <td>0</td>\n",
       "      <td>0</td>\n",
       "    </tr>\n",
       "    <tr>\n",
       "      <th>2</th>\n",
       "      <td>CMEI KÁTIA FAGUNDES GARCIA</td>\n",
       "      <td>Cmei</td>\n",
       "      <td>RUA PROFESSORA ANA DJANIRA, 1960 ,NATAL-RN</td>\n",
       "      <td>0</td>\n",
       "      <td>0</td>\n",
       "    </tr>\n",
       "    <tr>\n",
       "      <th>3</th>\n",
       "      <td>CMEI MARIA CELONI CAMPOS</td>\n",
       "      <td>Cmei</td>\n",
       "      <td>RUA BAIA FORMOSÁ, 1517 ,NATAL-RN</td>\n",
       "      <td>0</td>\n",
       "      <td>0</td>\n",
       "    </tr>\n",
       "    <tr>\n",
       "      <th>4</th>\n",
       "      <td>CMEI MOEMA TINOCO DA CUNHA LIMA</td>\n",
       "      <td>Cmei</td>\n",
       "      <td>RUA JACUI, 217 ,NATAL-RN</td>\n",
       "      <td>0</td>\n",
       "      <td>0</td>\n",
       "    </tr>\n",
       "  </tbody>\n",
       "</table>\n",
       "</div>"
      ],
      "text/plain": [
       "                                   NAME  Type  \\\n",
       "0            CMEI CLAUDETE COSTA MACIEL  Cmei   \n",
       "1  CMEI HAYDEE MONTEIRO BEZERRA DE MELO  Cmei   \n",
       "2            CMEI KÁTIA FAGUNDES GARCIA  Cmei   \n",
       "3              CMEI MARIA CELONI CAMPOS  Cmei   \n",
       "4       CMEI MOEMA TINOCO DA CUNHA LIMA  Cmei   \n",
       "\n",
       "                                GEOCODE_INPUT  LAT  LNG  \n",
       "0       RUA SERRA DOS CARAJAS, 3160 ,NATAL-RN    0    0  \n",
       "1              RUA JOSÉ SELEDON, 70 ,NATAL-RN    0    0  \n",
       "2  RUA PROFESSORA ANA DJANIRA, 1960 ,NATAL-RN    0    0  \n",
       "3            RUA BAIA FORMOSÁ, 1517 ,NATAL-RN    0    0  \n",
       "4                    RUA JACUI, 217 ,NATAL-RN    0    0  "
      ]
     },
     "execution_count": 65,
     "metadata": {},
     "output_type": "execute_result"
    }
   ],
   "source": [
    "# Prepare CMEI geolocation data\n",
    "\n",
    "#cast column CEP to str\n",
    "df_cmei['CEP'] = df_cmei['CEP'].astype(str)\n",
    "\n",
    "\n",
    "df_cmei['GEOCODE_INPUT'] = df_cmei['ENDEREÇO'] + ', ' + df_cmei['Nº'] + ' ,NATAL-RN' \n",
    "df_cmei['Type'] = 'Cmei'\n",
    "\n",
    "\n",
    "df_cmei['LAT'], df_cmei['LNG'] = [0, 0]\n",
    "cmeis_geolocation = df_cmei[['ESTABELECIMENTO', 'Type', 'GEOCODE_INPUT', 'LAT', 'LNG']]\n",
    "\n",
    "cmeis_geolocation = cmeis_geolocation.rename(columns = {'ESTABELECIMENTO':'NAME'})\n",
    "\n",
    "cmeis_geolocation.head()"
   ]
  },
  {
   "cell_type": "code",
   "execution_count": 66,
   "metadata": {},
   "outputs": [
    {
     "data": {
      "text/html": [
       "<div>\n",
       "<table border=\"1\" class=\"dataframe\">\n",
       "  <thead>\n",
       "    <tr style=\"text-align: right;\">\n",
       "      <th></th>\n",
       "      <th>NAME</th>\n",
       "      <th>Type</th>\n",
       "      <th>GEOCODE_INPUT</th>\n",
       "      <th>LAT</th>\n",
       "      <th>LNG</th>\n",
       "    </tr>\n",
       "  </thead>\n",
       "  <tbody>\n",
       "    <tr>\n",
       "      <th>0</th>\n",
       "      <td>ESC MUL PROF ANTÔNIO SEVERIANO</td>\n",
       "      <td>Elem</td>\n",
       "      <td>AV OURO PRETO, 2754 ,NATAL-RN</td>\n",
       "      <td>0</td>\n",
       "      <td>0</td>\n",
       "    </tr>\n",
       "    <tr>\n",
       "      <th>1</th>\n",
       "      <td>ESC MUL PROF ARNALDO MONTEIRO BEZERRA</td>\n",
       "      <td>Elem</td>\n",
       "      <td>ARACITABA, 2993 ,NATAL-RN</td>\n",
       "      <td>0</td>\n",
       "      <td>0</td>\n",
       "    </tr>\n",
       "    <tr>\n",
       "      <th>2</th>\n",
       "      <td>ESC MUL PROF ASCENDINO DE ALMEIDA</td>\n",
       "      <td>Elem</td>\n",
       "      <td>RUA JOAQUIM CARDOSO,  ,NATAL-RN</td>\n",
       "      <td>0</td>\n",
       "      <td>0</td>\n",
       "    </tr>\n",
       "    <tr>\n",
       "      <th>3</th>\n",
       "      <td>ESC MUL PROF CARLOS BELLO MORENO</td>\n",
       "      <td>Elem</td>\n",
       "      <td>RUA ARAPIRACA, SN ,NATAL-RN</td>\n",
       "      <td>0</td>\n",
       "      <td>0</td>\n",
       "    </tr>\n",
       "    <tr>\n",
       "      <th>4</th>\n",
       "      <td>ESC MUL PROF OTTO DE BRITO GUERRA</td>\n",
       "      <td>Elem</td>\n",
       "      <td>RUA SERRA DA JUREMA, SN ,NATAL-RN</td>\n",
       "      <td>0</td>\n",
       "      <td>0</td>\n",
       "    </tr>\n",
       "  </tbody>\n",
       "</table>\n",
       "</div>"
      ],
      "text/plain": [
       "                                    NAME  Type  \\\n",
       "0         ESC MUL PROF ANTÔNIO SEVERIANO  Elem   \n",
       "1  ESC MUL PROF ARNALDO MONTEIRO BEZERRA  Elem   \n",
       "2      ESC MUL PROF ASCENDINO DE ALMEIDA  Elem   \n",
       "3       ESC MUL PROF CARLOS BELLO MORENO  Elem   \n",
       "4      ESC MUL PROF OTTO DE BRITO GUERRA  Elem   \n",
       "\n",
       "                       GEOCODE_INPUT  LAT  LNG  \n",
       "0      AV OURO PRETO, 2754 ,NATAL-RN    0    0  \n",
       "1          ARACITABA, 2993 ,NATAL-RN    0    0  \n",
       "2    RUA JOAQUIM CARDOSO,  ,NATAL-RN    0    0  \n",
       "3        RUA ARAPIRACA, SN ,NATAL-RN    0    0  \n",
       "4  RUA SERRA DA JUREMA, SN ,NATAL-RN    0    0  "
      ]
     },
     "execution_count": 66,
     "metadata": {},
     "output_type": "execute_result"
    }
   ],
   "source": [
    "# Group the dataframes\n",
    "frames = [schools_geolocation, cmeis_geolocation]\n",
    "df_geo = pd.concat(frames, ignore_index = True) \n",
    "df_geo.head()"
   ]
  },
  {
   "cell_type": "code",
   "execution_count": 67,
   "metadata": {},
   "outputs": [
    {
     "name": "stderr",
     "output_type": "stream",
     "text": [
      "100%|██████████| 145/145 [02:38<00:00,  1.03s/it]\n"
     ]
    }
   ],
   "source": [
    "# Calculate the geolocation info \n",
    "for i in tqdm(range(len(df_geo))):\n",
    "    g = geocoder.google(df_geo.loc[i,'GEOCODE_INPUT'])\n",
    "    df_geo.ix[i,'LAT'] = g.lat\n",
    "    df_geo.ix[i,'LNG'] = g.lng"
   ]
  },
  {
   "cell_type": "code",
   "execution_count": 68,
   "metadata": {},
   "outputs": [
    {
     "data": {
      "text/html": [
       "<div>\n",
       "<table border=\"1\" class=\"dataframe\">\n",
       "  <thead>\n",
       "    <tr style=\"text-align: right;\">\n",
       "      <th></th>\n",
       "      <th>NAME</th>\n",
       "      <th>Type</th>\n",
       "      <th>GEOCODE_INPUT</th>\n",
       "      <th>LAT</th>\n",
       "      <th>LNG</th>\n",
       "    </tr>\n",
       "  </thead>\n",
       "  <tbody>\n",
       "    <tr>\n",
       "      <th>0</th>\n",
       "      <td>ESC MUL PROF ANTÔNIO SEVERIANO</td>\n",
       "      <td>Elem</td>\n",
       "      <td>AV OURO PRETO, 2754 ,NATAL-RN</td>\n",
       "      <td>-5.870580</td>\n",
       "      <td>-35.214868</td>\n",
       "    </tr>\n",
       "    <tr>\n",
       "      <th>1</th>\n",
       "      <td>ESC MUL PROF ARNALDO MONTEIRO BEZERRA</td>\n",
       "      <td>Elem</td>\n",
       "      <td>ARACITABA, 2993 ,NATAL-RN</td>\n",
       "      <td>-5.868884</td>\n",
       "      <td>-35.197566</td>\n",
       "    </tr>\n",
       "    <tr>\n",
       "      <th>2</th>\n",
       "      <td>ESC MUL PROF ASCENDINO DE ALMEIDA</td>\n",
       "      <td>Elem</td>\n",
       "      <td>RUA JOAQUIM CARDOSO,  ,NATAL-RN</td>\n",
       "      <td>-5.851115</td>\n",
       "      <td>-35.240676</td>\n",
       "    </tr>\n",
       "    <tr>\n",
       "      <th>3</th>\n",
       "      <td>ESC MUL PROF CARLOS BELLO MORENO</td>\n",
       "      <td>Elem</td>\n",
       "      <td>RUA ARAPIRACA, SN ,NATAL-RN</td>\n",
       "      <td>-5.863587</td>\n",
       "      <td>-35.206993</td>\n",
       "    </tr>\n",
       "    <tr>\n",
       "      <th>4</th>\n",
       "      <td>ESC MUL PROF OTTO DE BRITO GUERRA</td>\n",
       "      <td>Elem</td>\n",
       "      <td>RUA SERRA DA JUREMA, SN ,NATAL-RN</td>\n",
       "      <td>-5.855924</td>\n",
       "      <td>-35.246218</td>\n",
       "    </tr>\n",
       "  </tbody>\n",
       "</table>\n",
       "</div>"
      ],
      "text/plain": [
       "                                    NAME  Type  \\\n",
       "0         ESC MUL PROF ANTÔNIO SEVERIANO  Elem   \n",
       "1  ESC MUL PROF ARNALDO MONTEIRO BEZERRA  Elem   \n",
       "2      ESC MUL PROF ASCENDINO DE ALMEIDA  Elem   \n",
       "3       ESC MUL PROF CARLOS BELLO MORENO  Elem   \n",
       "4      ESC MUL PROF OTTO DE BRITO GUERRA  Elem   \n",
       "\n",
       "                       GEOCODE_INPUT       LAT        LNG  \n",
       "0      AV OURO PRETO, 2754 ,NATAL-RN -5.870580 -35.214868  \n",
       "1          ARACITABA, 2993 ,NATAL-RN -5.868884 -35.197566  \n",
       "2    RUA JOAQUIM CARDOSO,  ,NATAL-RN -5.851115 -35.240676  \n",
       "3        RUA ARAPIRACA, SN ,NATAL-RN -5.863587 -35.206993  \n",
       "4  RUA SERRA DA JUREMA, SN ,NATAL-RN -5.855924 -35.246218  "
      ]
     },
     "execution_count": 68,
     "metadata": {},
     "output_type": "execute_result"
    }
   ],
   "source": [
    "df_geo.head()"
   ]
  },
  {
   "cell_type": "code",
   "execution_count": 69,
   "metadata": {},
   "outputs": [
    {
     "data": {
      "text/plain": [
       "135"
      ]
     },
     "execution_count": 69,
     "metadata": {},
     "output_type": "execute_result"
    }
   ],
   "source": [
    "len(df_geo[~df_geo['LNG'].isnull()])"
   ]
  },
  {
   "cell_type": "code",
   "execution_count": 70,
   "metadata": {},
   "outputs": [
    {
     "data": {
      "text/plain": [
       "10"
      ]
     },
     "execution_count": 70,
     "metadata": {},
     "output_type": "execute_result"
    }
   ],
   "source": [
    "len(df_geo[df_geo['LNG'].isnull()])"
   ]
  },
  {
   "cell_type": "code",
   "execution_count": 71,
   "metadata": {},
   "outputs": [],
   "source": [
    "aux_df_geo = df_geo[~df_geo['LNG'].isnull()].reset_index()\n",
    "aux_df_geo = aux_df_geo.drop('index', 1)\n"
   ]
  },
  {
   "cell_type": "code",
   "execution_count": 72,
   "metadata": {},
   "outputs": [
    {
     "data": {
      "text/html": [
       "<div>\n",
       "<table border=\"1\" class=\"dataframe\">\n",
       "  <thead>\n",
       "    <tr style=\"text-align: right;\">\n",
       "      <th></th>\n",
       "      <th>NAME</th>\n",
       "      <th>Type</th>\n",
       "      <th>GEOCODE_INPUT</th>\n",
       "      <th>LAT</th>\n",
       "      <th>LNG</th>\n",
       "    </tr>\n",
       "  </thead>\n",
       "  <tbody>\n",
       "    <tr>\n",
       "      <th>0</th>\n",
       "      <td>ESC MUL PROF ANTÔNIO SEVERIANO</td>\n",
       "      <td>Elem</td>\n",
       "      <td>AV OURO PRETO, 2754 ,NATAL-RN</td>\n",
       "      <td>-5.870580</td>\n",
       "      <td>-35.214868</td>\n",
       "    </tr>\n",
       "    <tr>\n",
       "      <th>1</th>\n",
       "      <td>ESC MUL PROF ARNALDO MONTEIRO BEZERRA</td>\n",
       "      <td>Elem</td>\n",
       "      <td>ARACITABA, 2993 ,NATAL-RN</td>\n",
       "      <td>-5.868884</td>\n",
       "      <td>-35.197566</td>\n",
       "    </tr>\n",
       "    <tr>\n",
       "      <th>2</th>\n",
       "      <td>ESC MUL PROF ASCENDINO DE ALMEIDA</td>\n",
       "      <td>Elem</td>\n",
       "      <td>RUA JOAQUIM CARDOSO,  ,NATAL-RN</td>\n",
       "      <td>-5.851115</td>\n",
       "      <td>-35.240676</td>\n",
       "    </tr>\n",
       "    <tr>\n",
       "      <th>3</th>\n",
       "      <td>ESC MUL PROF CARLOS BELLO MORENO</td>\n",
       "      <td>Elem</td>\n",
       "      <td>RUA ARAPIRACA, SN ,NATAL-RN</td>\n",
       "      <td>-5.863587</td>\n",
       "      <td>-35.206993</td>\n",
       "    </tr>\n",
       "    <tr>\n",
       "      <th>4</th>\n",
       "      <td>ESC MUL PROF OTTO DE BRITO GUERRA</td>\n",
       "      <td>Elem</td>\n",
       "      <td>RUA SERRA DA JUREMA, SN ,NATAL-RN</td>\n",
       "      <td>-5.855924</td>\n",
       "      <td>-35.246218</td>\n",
       "    </tr>\n",
       "  </tbody>\n",
       "</table>\n",
       "</div>"
      ],
      "text/plain": [
       "                                    NAME  Type  \\\n",
       "0         ESC MUL PROF ANTÔNIO SEVERIANO  Elem   \n",
       "1  ESC MUL PROF ARNALDO MONTEIRO BEZERRA  Elem   \n",
       "2      ESC MUL PROF ASCENDINO DE ALMEIDA  Elem   \n",
       "3       ESC MUL PROF CARLOS BELLO MORENO  Elem   \n",
       "4      ESC MUL PROF OTTO DE BRITO GUERRA  Elem   \n",
       "\n",
       "                       GEOCODE_INPUT       LAT        LNG  \n",
       "0      AV OURO PRETO, 2754 ,NATAL-RN -5.870580 -35.214868  \n",
       "1          ARACITABA, 2993 ,NATAL-RN -5.868884 -35.197566  \n",
       "2    RUA JOAQUIM CARDOSO,  ,NATAL-RN -5.851115 -35.240676  \n",
       "3        RUA ARAPIRACA, SN ,NATAL-RN -5.863587 -35.206993  \n",
       "4  RUA SERRA DA JUREMA, SN ,NATAL-RN -5.855924 -35.246218  "
      ]
     },
     "execution_count": 72,
     "metadata": {},
     "output_type": "execute_result"
    }
   ],
   "source": [
    "aux_df_geo.head()"
   ]
  },
  {
   "cell_type": "code",
   "execution_count": 73,
   "metadata": {},
   "outputs": [
    {
     "name": "stderr",
     "output_type": "stream",
     "text": [
      "100%|██████████| 135/135 [00:03<00:00, 36.50it/s]\n"
     ]
    },
    {
     "data": {
      "text/html": [
       "<div style=\"width:100%;\"><div style=\"position:relative;width:100%;height:0;padding-bottom:60%;\"><iframe src=\"data:text/html;charset=utf-8;base64,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\" style=\"position:absolute;width:100%;height:100%;left:0;top:0;border:none !important;\" allowfullscreen webkitallowfullscreen mozallowfullscreen></iframe></div></div>"
      ],
      "text/plain": [
       "<folium.folium.Map at 0x112da2f28>"
      ]
     },
     "execution_count": 73,
     "metadata": {},
     "output_type": "execute_result"
    }
   ],
   "source": [
    "# Create map object\n",
    "map_osm = folium.Map(\n",
    "    location = [-5.791659, -35.228385],\n",
    "    zoom_start= 12\n",
    ")\n",
    "\n",
    "unit_type_colors = {\n",
    "    'Elem': 'green',\n",
    "    'Cmei': 'red',\n",
    "}\n",
    "\n",
    "\n",
    "for i in tqdm(range(len(aux_df_geo))):\n",
    "    folium.Marker([aux_df_geo.ix[i,'LAT'], aux_df_geo.ix[i,'LNG']],\n",
    "            icon = folium.Icon(color = unit_type_colors[aux_df_geo.ix[i, 'Type']],\n",
    "                               icon = 'info-sign'),\n",
    "            popup = aux_df_geo.ix[i, 'NAME']\n",
    "        ).add_to(map_osm)\n",
    "map_osm"
   ]
  },
  {
   "cell_type": "code",
   "execution_count": 78,
   "metadata": {},
   "outputs": [
    {
     "name": "stdout",
     "output_type": "stream",
     "text": [
      "<class 'pandas.core.frame.DataFrame'>\n",
      "RangeIndex: 135 entries, 0 to 134\n",
      "Data columns (total 5 columns):\n",
      "NAME             135 non-null object\n",
      "Type             135 non-null object\n",
      "GEOCODE_INPUT    134 non-null object\n",
      "LAT              135 non-null float64\n",
      "LNG              135 non-null float64\n",
      "dtypes: float64(2), object(3)\n",
      "memory usage: 5.4+ KB\n"
     ]
    }
   ],
   "source": [
    "aux_df_geo.info()"
   ]
  },
  {
   "cell_type": "code",
   "execution_count": 87,
   "metadata": {},
   "outputs": [
    {
     "name": "stderr",
     "output_type": "stream",
     "text": [
      "100%|██████████| 135/135 [00:00<00:00, 32562.60it/s]\n"
     ]
    },
    {
     "data": {
      "text/plain": [
       "<folium.plugins.heat_map.HeatMap at 0x11316b278>"
      ]
     },
     "execution_count": 87,
     "metadata": {},
     "output_type": "execute_result"
    }
   ],
   "source": [
    "\n",
    "coordinates_elem = []\n",
    "coordinates_cmei = []\n",
    "\n",
    "for i in tqdm(range(len(aux_df_geo))):\n",
    "    if (aux_df_geo.ix[i,'Type'] == 'Elem'):\n",
    "        coordinates_elem.append([aux_df_geo.ix[i,'LAT'], aux_df_geo.ix[i,'LNG'], 1])\n",
    "    else:\n",
    "        coordinates_cmei.append([aux_df_geo.ix[i,'LAT'], aux_df_geo.ix[i,'LNG'], 1])\n",
    "        \n",
    "# Create map object\n",
    "map_elem = folium.Map(\n",
    "    location = [-5.791659, -35.228385],\n",
    "    zoom_start= 12\n",
    ")\n",
    "\n",
    "# Create map object\n",
    "map_cmei = folium.Map(\n",
    "    location = [-5.791659, -35.228385],\n",
    "    zoom_start= 12\n",
    ")\n",
    "\n",
    "HeatMap(coordinates_elem).add_to(map_elem)\n",
    "HeatMap(coordinates_cmei).add_to(map_cmei)\n"
   ]
  },
  {
   "cell_type": "code",
   "execution_count": 88,
   "metadata": {},
   "outputs": [
    {
     "data": {
      "text/html": [
       "<div style=\"width:100%;\"><div style=\"position:relative;width:100%;height:0;padding-bottom:60%;\"><iframe src=\"data:text/html;charset=utf-8;base64,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\" style=\"position:absolute;width:100%;height:100%;left:0;top:0;border:none !important;\" allowfullscreen webkitallowfullscreen mozallowfullscreen></iframe></div></div>"
      ],
      "text/plain": [
       "<folium.folium.Map at 0x1131c9208>"
      ]
     },
     "execution_count": 88,
     "metadata": {},
     "output_type": "execute_result"
    }
   ],
   "source": [
    "map_elem"
   ]
  },
  {
   "cell_type": "code",
   "execution_count": 89,
   "metadata": {},
   "outputs": [
    {
     "data": {
      "text/html": [
       "<div style=\"width:100%;\"><div style=\"position:relative;width:100%;height:0;padding-bottom:60%;\"><iframe src=\"data:text/html;charset=utf-8;base64,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\" style=\"position:absolute;width:100%;height:100%;left:0;top:0;border:none !important;\" allowfullscreen webkitallowfullscreen mozallowfullscreen></iframe></div></div>"
      ],
      "text/plain": [
       "<folium.folium.Map at 0x1131c9470>"
      ]
     },
     "execution_count": 89,
     "metadata": {},
     "output_type": "execute_result"
    }
   ],
   "source": [
    "map_cmei"
   ]
  },
  {
   "cell_type": "markdown",
   "metadata": {},
   "source": [
    "# Assessment\n",
    "\n",
    "- Generate heatmap figures of elementary and cmei schools in Natal-RN, assuming the number of teachers in each educational unit as weight of heatmap. "
   ]
  },
  {
   "cell_type": "code",
   "execution_count": 90,
   "metadata": {
    "collapsed": true
   },
   "outputs": [],
   "source": [
    "\n",
    "#'CMEI' - Centro Municipal de Educação Infantil \n",
    "url_prof_school = 'http://ckan.imd.ufrn.br/dataset/0cc7f31d-1fe7-4232-82fd-0ef356d62342/resource/c06090bb-506c-4193-a115-02840d6635ea/download/funcao-docente-do-ens.-fundamental-por-estabelecimento.csv'\n",
    "url_prof_cmei = 'http://ckan.imd.ufrn.br/dataset/0cc7f31d-1fe7-4232-82fd-0ef356d62342/resource/06356b96-82c3-4969-a072-63029dd76a97/download/funcao-docente-do-ens.-infantil-por-estabelecimento.csv'\n",
    "\n",
    "df_prof_school = pd.read_csv(url_prof_school, encoding = 'utf-8', sep = ';')\n",
    "df_prof_cmei = pd.read_csv(url_prof_cmei, encoding = 'utf-8', sep = ';')"
   ]
  },
  {
   "cell_type": "code",
   "execution_count": 96,
   "metadata": {},
   "outputs": [
    {
     "data": {
      "text/html": [
       "<div>\n",
       "<table border=\"1\" class=\"dataframe\">\n",
       "  <thead>\n",
       "    <tr style=\"text-align: right;\">\n",
       "      <th></th>\n",
       "      <th>Estabelecimento</th>\n",
       "      <th>Ens. Fundamental</th>\n",
       "      <th>Ens. Médio Magistério</th>\n",
       "      <th>Ens. Médio</th>\n",
       "      <th>Ens. Superio</th>\n",
       "      <th>Especialização</th>\n",
       "      <th>Mestrado</th>\n",
       "      <th>Doutorado</th>\n",
       "      <th>Nenhum</th>\n",
       "      <th>Total</th>\n",
       "    </tr>\n",
       "  </thead>\n",
       "  <tbody>\n",
       "    <tr>\n",
       "      <th>0</th>\n",
       "      <td>ESC MUL 4º CENTENÁRIO</td>\n",
       "      <td>0</td>\n",
       "      <td>0</td>\n",
       "      <td>0</td>\n",
       "      <td>28</td>\n",
       "      <td>12</td>\n",
       "      <td>2</td>\n",
       "      <td>0</td>\n",
       "      <td>14</td>\n",
       "      <td>56</td>\n",
       "    </tr>\n",
       "    <tr>\n",
       "      <th>1</th>\n",
       "      <td>ESC MUL CELESTINO PIMENTEL</td>\n",
       "      <td>0</td>\n",
       "      <td>0</td>\n",
       "      <td>0</td>\n",
       "      <td>34</td>\n",
       "      <td>24</td>\n",
       "      <td>1</td>\n",
       "      <td>0</td>\n",
       "      <td>10</td>\n",
       "      <td>69</td>\n",
       "    </tr>\n",
       "    <tr>\n",
       "      <th>2</th>\n",
       "      <td>ESC MUL CHICO SANTEIRO</td>\n",
       "      <td>0</td>\n",
       "      <td>0</td>\n",
       "      <td>0</td>\n",
       "      <td>16</td>\n",
       "      <td>6</td>\n",
       "      <td>0</td>\n",
       "      <td>0</td>\n",
       "      <td>10</td>\n",
       "      <td>32</td>\n",
       "    </tr>\n",
       "    <tr>\n",
       "      <th>3</th>\n",
       "      <td>ESC MUL DJALMA MARANHÃO</td>\n",
       "      <td>0</td>\n",
       "      <td>0</td>\n",
       "      <td>0</td>\n",
       "      <td>24</td>\n",
       "      <td>12</td>\n",
       "      <td>2</td>\n",
       "      <td>0</td>\n",
       "      <td>12</td>\n",
       "      <td>50</td>\n",
       "    </tr>\n",
       "    <tr>\n",
       "      <th>4</th>\n",
       "      <td>ESC MUL ESTUDANTE EMMANUEL BEZERRA</td>\n",
       "      <td>0</td>\n",
       "      <td>0</td>\n",
       "      <td>0</td>\n",
       "      <td>45</td>\n",
       "      <td>32</td>\n",
       "      <td>2</td>\n",
       "      <td>0</td>\n",
       "      <td>13</td>\n",
       "      <td>92</td>\n",
       "    </tr>\n",
       "  </tbody>\n",
       "</table>\n",
       "</div>"
      ],
      "text/plain": [
       "                      Estabelecimento  Ens. Fundamental  \\\n",
       "0               ESC MUL 4º CENTENÁRIO                 0   \n",
       "1          ESC MUL CELESTINO PIMENTEL                 0   \n",
       "2              ESC MUL CHICO SANTEIRO                 0   \n",
       "3             ESC MUL DJALMA MARANHÃO                 0   \n",
       "4  ESC MUL ESTUDANTE EMMANUEL BEZERRA                 0   \n",
       "\n",
       "   Ens. Médio Magistério  Ens. Médio  Ens. Superio  Especialização  Mestrado  \\\n",
       "0                      0           0            28              12         2   \n",
       "1                      0           0            34              24         1   \n",
       "2                      0           0            16               6         0   \n",
       "3                      0           0            24              12         2   \n",
       "4                      0           0            45              32         2   \n",
       "\n",
       "   Doutorado  Nenhum  Total  \n",
       "0          0      14     56  \n",
       "1          0      10     69  \n",
       "2          0      10     32  \n",
       "3          0      12     50  \n",
       "4          0      13     92  "
      ]
     },
     "execution_count": 96,
     "metadata": {},
     "output_type": "execute_result"
    }
   ],
   "source": [
    "df_prof_school.head()"
   ]
  },
  {
   "cell_type": "code",
   "execution_count": 92,
   "metadata": {},
   "outputs": [
    {
     "data": {
      "text/html": [
       "<div>\n",
       "<table border=\"1\" class=\"dataframe\">\n",
       "  <thead>\n",
       "    <tr style=\"text-align: right;\">\n",
       "      <th></th>\n",
       "      <th>Estabelecimento</th>\n",
       "      <th>Ens. Fundamental</th>\n",
       "      <th>Ens. Médio Magistério</th>\n",
       "      <th>Ens. Médio</th>\n",
       "      <th>Ens. Superio</th>\n",
       "      <th>Especialização</th>\n",
       "      <th>Mestrado</th>\n",
       "      <th>Doutorado</th>\n",
       "      <th>Nenhum</th>\n",
       "    </tr>\n",
       "  </thead>\n",
       "  <tbody>\n",
       "    <tr>\n",
       "      <th>0</th>\n",
       "      <td>CMEI AMOR DE MÃE</td>\n",
       "      <td>0</td>\n",
       "      <td>0</td>\n",
       "      <td>0</td>\n",
       "      <td>27</td>\n",
       "      <td>1</td>\n",
       "      <td>0</td>\n",
       "      <td>0</td>\n",
       "      <td>26</td>\n",
       "    </tr>\n",
       "    <tr>\n",
       "      <th>1</th>\n",
       "      <td>CMEI BELCHIOR JORGE DE SÁ</td>\n",
       "      <td>0</td>\n",
       "      <td>0</td>\n",
       "      <td>0</td>\n",
       "      <td>13</td>\n",
       "      <td>1</td>\n",
       "      <td>0</td>\n",
       "      <td>0</td>\n",
       "      <td>12</td>\n",
       "    </tr>\n",
       "    <tr>\n",
       "      <th>2</th>\n",
       "      <td>CMEI BOM SAMARITANO</td>\n",
       "      <td>0</td>\n",
       "      <td>0</td>\n",
       "      <td>0</td>\n",
       "      <td>6</td>\n",
       "      <td>1</td>\n",
       "      <td>0</td>\n",
       "      <td>0</td>\n",
       "      <td>5</td>\n",
       "    </tr>\n",
       "    <tr>\n",
       "      <th>3</th>\n",
       "      <td>CMEI CARMEM FERNANDES PEDROZA</td>\n",
       "      <td>0</td>\n",
       "      <td>0</td>\n",
       "      <td>0</td>\n",
       "      <td>14</td>\n",
       "      <td>5</td>\n",
       "      <td>0</td>\n",
       "      <td>0</td>\n",
       "      <td>9</td>\n",
       "    </tr>\n",
       "    <tr>\n",
       "      <th>4</th>\n",
       "      <td>CMEI CLARA CAMARÃO</td>\n",
       "      <td>0</td>\n",
       "      <td>0</td>\n",
       "      <td>0</td>\n",
       "      <td>11</td>\n",
       "      <td>1</td>\n",
       "      <td>0</td>\n",
       "      <td>0</td>\n",
       "      <td>10</td>\n",
       "    </tr>\n",
       "  </tbody>\n",
       "</table>\n",
       "</div>"
      ],
      "text/plain": [
       "                 Estabelecimento  Ens. Fundamental  Ens. Médio Magistério  \\\n",
       "0               CMEI AMOR DE MÃE                 0                      0   \n",
       "1      CMEI BELCHIOR JORGE DE SÁ                 0                      0   \n",
       "2            CMEI BOM SAMARITANO                 0                      0   \n",
       "3  CMEI CARMEM FERNANDES PEDROZA                 0                      0   \n",
       "4             CMEI CLARA CAMARÃO                 0                      0   \n",
       "\n",
       "   Ens. Médio  Ens. Superio  Especialização  Mestrado  Doutorado  Nenhum  \n",
       "0           0            27               1         0          0      26  \n",
       "1           0            13               1         0          0      12  \n",
       "2           0             6               1         0          0       5  \n",
       "3           0            14               5         0          0       9  \n",
       "4           0            11               1         0          0      10  "
      ]
     },
     "execution_count": 92,
     "metadata": {},
     "output_type": "execute_result"
    }
   ],
   "source": [
    "df_prof_cmei.head()"
   ]
  },
  {
   "cell_type": "code",
   "execution_count": 95,
   "metadata": {
    "collapsed": true
   },
   "outputs": [],
   "source": [
    "df_prof_school['Total'] = df_prof_school.sum(axis=1)\n",
    "df_prof_school.head()"
   ]
  },
  {
   "cell_type": "code",
   "execution_count": 97,
   "metadata": {},
   "outputs": [
    {
     "data": {
      "text/html": [
       "<div>\n",
       "<table border=\"1\" class=\"dataframe\">\n",
       "  <thead>\n",
       "    <tr style=\"text-align: right;\">\n",
       "      <th></th>\n",
       "      <th>Estabelecimento</th>\n",
       "      <th>Ens. Fundamental</th>\n",
       "      <th>Ens. Médio Magistério</th>\n",
       "      <th>Ens. Médio</th>\n",
       "      <th>Ens. Superio</th>\n",
       "      <th>Especialização</th>\n",
       "      <th>Mestrado</th>\n",
       "      <th>Doutorado</th>\n",
       "      <th>Nenhum</th>\n",
       "      <th>Total</th>\n",
       "    </tr>\n",
       "  </thead>\n",
       "  <tbody>\n",
       "    <tr>\n",
       "      <th>0</th>\n",
       "      <td>CMEI AMOR DE MÃE</td>\n",
       "      <td>0</td>\n",
       "      <td>0</td>\n",
       "      <td>0</td>\n",
       "      <td>27</td>\n",
       "      <td>1</td>\n",
       "      <td>0</td>\n",
       "      <td>0</td>\n",
       "      <td>26</td>\n",
       "      <td>54</td>\n",
       "    </tr>\n",
       "    <tr>\n",
       "      <th>1</th>\n",
       "      <td>CMEI BELCHIOR JORGE DE SÁ</td>\n",
       "      <td>0</td>\n",
       "      <td>0</td>\n",
       "      <td>0</td>\n",
       "      <td>13</td>\n",
       "      <td>1</td>\n",
       "      <td>0</td>\n",
       "      <td>0</td>\n",
       "      <td>12</td>\n",
       "      <td>26</td>\n",
       "    </tr>\n",
       "    <tr>\n",
       "      <th>2</th>\n",
       "      <td>CMEI BOM SAMARITANO</td>\n",
       "      <td>0</td>\n",
       "      <td>0</td>\n",
       "      <td>0</td>\n",
       "      <td>6</td>\n",
       "      <td>1</td>\n",
       "      <td>0</td>\n",
       "      <td>0</td>\n",
       "      <td>5</td>\n",
       "      <td>12</td>\n",
       "    </tr>\n",
       "    <tr>\n",
       "      <th>3</th>\n",
       "      <td>CMEI CARMEM FERNANDES PEDROZA</td>\n",
       "      <td>0</td>\n",
       "      <td>0</td>\n",
       "      <td>0</td>\n",
       "      <td>14</td>\n",
       "      <td>5</td>\n",
       "      <td>0</td>\n",
       "      <td>0</td>\n",
       "      <td>9</td>\n",
       "      <td>28</td>\n",
       "    </tr>\n",
       "    <tr>\n",
       "      <th>4</th>\n",
       "      <td>CMEI CLARA CAMARÃO</td>\n",
       "      <td>0</td>\n",
       "      <td>0</td>\n",
       "      <td>0</td>\n",
       "      <td>11</td>\n",
       "      <td>1</td>\n",
       "      <td>0</td>\n",
       "      <td>0</td>\n",
       "      <td>10</td>\n",
       "      <td>22</td>\n",
       "    </tr>\n",
       "  </tbody>\n",
       "</table>\n",
       "</div>"
      ],
      "text/plain": [
       "                 Estabelecimento  Ens. Fundamental  Ens. Médio Magistério  \\\n",
       "0               CMEI AMOR DE MÃE                 0                      0   \n",
       "1      CMEI BELCHIOR JORGE DE SÁ                 0                      0   \n",
       "2            CMEI BOM SAMARITANO                 0                      0   \n",
       "3  CMEI CARMEM FERNANDES PEDROZA                 0                      0   \n",
       "4             CMEI CLARA CAMARÃO                 0                      0   \n",
       "\n",
       "   Ens. Médio  Ens. Superio  Especialização  Mestrado  Doutorado  Nenhum  \\\n",
       "0           0            27               1         0          0      26   \n",
       "1           0            13               1         0          0      12   \n",
       "2           0             6               1         0          0       5   \n",
       "3           0            14               5         0          0       9   \n",
       "4           0            11               1         0          0      10   \n",
       "\n",
       "   Total  \n",
       "0     54  \n",
       "1     26  \n",
       "2     12  \n",
       "3     28  \n",
       "4     22  "
      ]
     },
     "execution_count": 97,
     "metadata": {},
     "output_type": "execute_result"
    }
   ],
   "source": [
    "df_prof_cmei['Total'] = df_prof_cmei.sum(axis=1)\n",
    "df_prof_cmei.head()"
   ]
  },
  {
   "cell_type": "code",
   "execution_count": null,
   "metadata": {
    "collapsed": true
   },
   "outputs": [],
   "source": []
  }
 ],
 "metadata": {
  "kernelspec": {
   "display_name": "Python 3",
   "language": "python",
   "name": "python3"
  },
  "language_info": {
   "codemirror_mode": {
    "name": "ipython",
    "version": 3
   },
   "file_extension": ".py",
   "mimetype": "text/x-python",
   "name": "python",
   "nbconvert_exporter": "python",
   "pygments_lexer": "ipython3",
   "version": "3.6.0"
  }
 },
 "nbformat": 4,
 "nbformat_minor": 2
}

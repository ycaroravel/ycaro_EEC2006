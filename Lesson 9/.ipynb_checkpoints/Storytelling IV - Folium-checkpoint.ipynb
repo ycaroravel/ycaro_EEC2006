{
 "cells": [
  {
   "cell_type": "markdown",
   "metadata": {},
   "source": [
    "# 1. Introduction to Folium\n",
    "\n",
    "Interactive maps are useful for data exploration and communicating research. [Leaflet](http://leafletjs.com/), an open-source JavaScript library, facilitates the development of interactive maps, but is designed to be used via JavaScript. In this mission we provide a demonstration of the [folium](http://python-visualization.github.io/folium/) package, which provides an easy to use interface to <span style=\"background-color: #F9EBEA; color:##C0392B\">Leaflet</span> for Python users.\n",
    "\n",
    "<span style=\"background-color: #F9EBEA; color:##C0392B\">folium</span> makes it easy to visualize data that’s been manipulated in Python on an interactive leaflet map. It enables both the binding of data to a map for [choropleth](https://en.wikipedia.org/wiki/Choropleth_map) visualizations as well as passing rich vector/raster/HTML visualizations as markers on the map.\n",
    "\n",
    "The library has a number of built-in <span style=\"background-color: #F9EBEA; color:##C0392B\">tilesets</span> from [OpenStreetMap](https://www.openstreetmap.org), [Mapbox](https://www.mapbox.com/), and [Stamen](http://maps.stamen.com/), and supports custom tilesets with Mapbox or Cloudmade API keys. folium supports both Image, Video, GeoJSON and TopoJSON overlays.\n",
    "\n",
    "### Instalation \n",
    "\n",
    ">```\n",
    "conda install folium -c conda-forge\n",
    "```\n",
    "\n",
    "## 1.1 Creating a world map\n",
    "\n",
    "You simply call the <span style=\"background-color: #F9EBEA; color:##C0392B\">Map</span> function and that is all. What is really interesting about the maps created by <span style=\"background-color: #F9EBEA; color:##C0392B\">folium</span> is that they are interactive, so you can zoom in and out after the map is rendered, which is a super useful feature.\n",
    "\n",
    ">```python\n",
    "import folium\n",
    "m = folium.Map()\n",
    "m\n",
    "```\n",
    "\n",
    "To save the first map in a file:\n",
    "\n",
    ">```python\n",
    "m.save('index.html')\n",
    "```\n",
    "\n",
    "## 1.2 Creating a map of Brazil\n",
    "\n",
    "Now let's create a world map centred around Brazil. To do that, we pass in the latitude and the longitude values of\n",
    "Brazil using the location parameter and with <span style=\"background-color: #F9EBEA; color:##C0392B\">folium</span> you can set the initial zoom level using the zoom start parameter. Now I say initial because you can easily change the zoom level after the map is rendered by zooming in or zooming out. You can play with this parameter to figure out what the initial zoom level looks like for different values. \n",
    "\n",
    ">```python\n",
    "m = folium.Map(\n",
    "    location=[-15.765379, -47.968776],\n",
    "    zoom_start=4\n",
    ")\n",
    "```\n",
    "\n",
    "<br>\n",
    "<div class=\"alert alert-info\">\n",
    "<b>Exercise Start.</b>\n",
    "</div>\n",
    "\n",
    "**Description**:\n",
    "\n",
    "1. Start a new map change the <span style=\"background-color: #F9EBEA; color:##C0392B\">location</span> parameter to Natal-RN.\n",
    "2. Play with <span style=\"background-color: #F9EBEA; color:##C0392B\">zoom_start</span> parameter to figure out what the initial zoom level looks like for different values."
   ]
  },
  {
   "cell_type": "markdown",
   "metadata": {},
   "source": [
    "# 2. Maps styles\n",
    "\n",
    "\n",
    "Another amazing feature of Folium is that you can create different map styles using the tiles parameter. The default tiles are set to **OpenStreetMap**, but **Stamen Terrain**, **Stamen Toner**, **Stamen Watercolor**, **Mapbox Bright**, **Mapbox Control Room**, and many others tiles are built in. Please see all options using keyboard shortcuts (shift+tab) over <span style=\"background-color: #F9EBEA; color:##C0392B\">Map</span> function.\n",
    "\n",
    ">```python\n",
    "m = folium.Map(\n",
    "    location=[-15.765379, -47.968776],\n",
    "    tiles='Stamen Toner',\n",
    "    zoom_start=4\n",
    ")\n",
    "```\n",
    "\n",
    "<br>\n",
    "<div class=\"alert alert-info\">\n",
    "<b>Exercise Start.</b>\n",
    "</div>\n",
    "\n",
    "**Description**:\n",
    "\n",
    "1. Create **six maps** using the follow tiles options: 'OpenStreetMap', 'Stamen Terrain', 'Stamen Toner', 'Stamen Watercolor', 'Mapbox Bright', 'Mapbox Control Room'."
   ]
  },
  {
   "cell_type": "markdown",
   "metadata": {},
   "source": [
    "## 2.1 Leaflet custom tileset\n",
    "\n",
    "<span style=\"background-color: #F9EBEA; color:##C0392B\">folium</span> supports passing any <span style=\"background-color: #F9EBEA; color:##C0392B\">leaflet.js</span> compatible custom tileset:\n",
    "\n",
    ">```python\n",
    "folium.Map(location=[-15.765379, -47.968776],\n",
    "           zoom_start=12,\n",
    "           tiles='http://{s}.tiles.yourtiles.com/{z}/{x}/{y}.png',\n",
    "           attr='My Data Attribution')\n",
    "```\n",
    "\n",
    "From the documentation, <span style=\"background-color: #F9EBEA; color:##C0392B\">folium</span> also supports Mapbox custom tilesets. <span style=\"background-color: #F9EBEA; color:##C0392B\">Mapbox</span> is the location data platform for mobile and web applications. It provides building blocks to add location features like maps, search, and navigation into any experience you create. To use it, simply pass **your key** to the leaflet compatible custom tileset. The follows steps must be done:\n",
    "\n",
    "1. Create an account in https://www.mapbox.com\n",
    "2. Copy the API Access Token\n",
    "3. Choose a mapbox [style](https://www.mapbox.com/studio/styles/)\n",
    "\n",
    ">```python\n",
    "m = folium.Map(\n",
    "    location=[-15.765379, -47.968776],\n",
    "    zoom_start=12,\n",
    "    tiles='https://api.mapbox.com/styles/v1/mapbox/outdoors-v10/tiles/256/{z}/{x}/{y}?access_token=your_token',\n",
    "    attr='Imagery © <a href=\"http://mapbox.com\">MapBox</a>'\n",
    "```\n",
    "\n",
    "<br>\n",
    "<div class=\"alert alert-info\">\n",
    "<b>Exercise Start.</b>\n",
    "</div>\n",
    "\n",
    "**Description**:\n",
    "\n",
    "1. Create a map using the style **Mapbox Satellite Streets**.\n",
    "2. Configure the image tiles to 512x512 pixels.\n",
    "3. Plot the map."
   ]
  },
  {
   "cell_type": "markdown",
   "metadata": {},
   "source": [
    "# 3. Maps with markers\n",
    "\n",
    "We will continue working with the <span style=\"background-color: #F9EBEA; color:##C0392B\">folium</span> library and learn how to superimpose markers on top of a map for interesting visualizations. \n",
    "\n",
    "There are numerous marker types, starting with a simple <span style=\"background-color: #F9EBEA; color:##C0392B\">leaflet</span> style location marker with a popup. The command <span style=\"background-color: #F9EBEA; color:##C0392B\">folium.Marker()</span> is used to insert markers into the map. \n",
    "\n",
    ">```python\n",
    "m = folium.Map(\n",
    "    location=[-5.826592, -35.212558],\n",
    "    zoom_start=12,\n",
    "    tiles='Stamen Terrain',\n",
    "    width='50%',\n",
    "    height='50%'\n",
    ")\n",
    "folium.Marker([-5.832187, -35.205432], popup='<i>Instituto Metrópole Digital</i>').add_to(m)\n",
    "folium.Marker([-5.842942, -35.198001], popup='<b>Centro Tecnológico</b>').add_to(m)\n",
    "```\n",
    "\n",
    "<br>\n",
    "<div class=\"alert alert-info\">\n",
    "<b>Exercise Start.</b>\n",
    "</div>\n",
    "\n",
    "**Description**:\n",
    "\n",
    "1. Insert in the previous map the first three **Top-rated Natal Things to Do** according to [Tripadvisor website](https://www.tripadvisor.com/).\n",
    "2. Plot the map.\n"
   ]
  },
  {
   "cell_type": "markdown",
   "metadata": {},
   "source": [
    "## 3.1 Color and icon types\n",
    "\n",
    "There is built in support for colors and marker icon types from bootstrap.\n",
    "\n",
    ">```python\n",
    "folium.Marker([-5.832187, -35.205432], \n",
    "              popup='<i>Instituto Metrópole Digital</i>',\n",
    "              icon=folium.Icon(icon='cloud')).add_to(m)\n",
    "folium.Marker([-5.842942, -35.198001], \n",
    "              popup='<b>Centro Tecnológico</b>',\n",
    "              icon=folium.Icon(color='red',\n",
    "                               icon_color='yellow',\n",
    "                               icon='info-sign')).add_to(m)\n",
    "```\n",
    "\n",
    "According to documentation the following colors are supported:\n",
    "\n",
    ">```python\n",
    " ['red', 'blue', 'green', 'purple', 'orange', 'darkred',\n",
    "         'lightred', 'beige', 'darkblue', 'darkgreen', 'cadetblue',\n",
    "         'darkpurple', 'white', 'pink', 'lightblue', 'lightgreen',\n",
    "         'gray', 'black', 'lightgray']\n",
    "```\n",
    "\n",
    "There are a huge amount of icon in [Font Awesome website](http://fontawesome.io/icons/). You just need add the adequate **prefix** information as parameter to <span style=\"background-color: #F9EBEA; color:##C0392B\">folium.Icon</span> function. \n",
    "\n",
    ">```python\n",
    "...\n",
    " icon=folium.Icon(color='red',\n",
    "                  icon_color='yellow',\n",
    "                  icon='bicycle',\n",
    "                  prefix='fa')).add_to(m)\n",
    "```\n",
    "\n",
    "<br>\n",
    "<div class=\"alert alert-info\">\n",
    "<b>Exercise Start.</b>\n",
    "</div>\n",
    "\n",
    "**Description**:\n",
    "\n",
    "1. Configure the previous exercise to use icons more adequate to the places.\n",
    "2. Plot the map.\n",
    "\n"
   ]
  },
  {
   "cell_type": "markdown",
   "metadata": {},
   "source": [
    "# 4. How to create popups\n",
    "\n",
    "<span style=\"background-color: #F9EBEA; color:##C0392B\">folium</span> enables passing any HTML object as a popup, including [bokeh](https://bokeh.pydata.org/en/latest/) plots, but there is a built-in support for [vincent](https://github.com/wrobstory/vincent) and [altair](https://altair-viz.github.io/) visualizations to any marker type, with the visualization as the popover.\n",
    "\n",
    "## 4.1 A convenience function to enable lat/lng popovers\n",
    "\n",
    ">```python\n",
    "m = folium.Map(\n",
    "    location=[-5.826592, -35.212558],\n",
    "    zoom_start=12,\n",
    "    tiles='Stamen Terrain',\n",
    "    width='50%',\n",
    "    height='50%'\n",
    ")\n",
    "m.add_child(folium.LatLngPopup())\n",
    "```\n"
   ]
  },
  {
   "cell_type": "markdown",
   "metadata": {},
   "source": []
  },
  {
   "cell_type": "code",
   "execution_count": 183,
   "metadata": {},
   "outputs": [
    {
     "data": {
      "text/html": [
       "<div style=\"width:100%;\"><div style=\"position:relative;width:100%;height:0;padding-bottom:60%;\"><iframe src=\"data:text/html;charset=utf-8;base64,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\" style=\"position:absolute;width:100%;height:100%;left:0;top:0;border:none !important;\" allowfullscreen webkitallowfullscreen mozallowfullscreen></iframe></div></div>"
      ],
      "text/plain": [
       "<folium.folium.Map at 0x1155329b0>"
      ]
     },
     "execution_count": 183,
     "metadata": {},
     "output_type": "execute_result"
    }
   ],
   "source": [
    "m = folium.Map(\n",
    "    location=[-5.826592, -35.212558],\n",
    "    zoom_start=12,\n",
    "    tiles='Stamen Terrain',\n",
    "    width='50%',\n",
    "    height='50%'\n",
    ")\n",
    "m.add_child(folium.LatLngPopup())"
   ]
  },
  {
   "cell_type": "code",
   "execution_count": null,
   "metadata": {
    "collapsed": true
   },
   "outputs": [],
   "source": []
  },
  {
   "cell_type": "code",
   "execution_count": 182,
   "metadata": {
    "scrolled": false
   },
   "outputs": [
    {
     "data": {
      "text/html": [
       "<div style=\"width:100%;\"><div style=\"position:relative;width:100%;height:0;padding-bottom:60%;\"><iframe src=\"data:text/html;charset=utf-8;base64,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\" style=\"position:absolute;width:100%;height:100%;left:0;top:0;border:none !important;\" allowfullscreen webkitallowfullscreen mozallowfullscreen></iframe></div></div>"
      ],
      "text/plain": [
       "<folium.folium.Map at 0x115639b38>"
      ]
     },
     "execution_count": 182,
     "metadata": {},
     "output_type": "execute_result"
    }
   ],
   "source": [
    "import json\n",
    "import numpy as np\n",
    "import vincent\n",
    "\n",
    "scatter_points = {\n",
    "    'x': np.random.uniform(size=(100,)),\n",
    "    'y': np.random.uniform(size=(100,)),\n",
    "}\n",
    "\n",
    "# Let's create the vincent chart.\n",
    "scatter_chart = vincent.Scatter(scatter_points,\n",
    "                                iter_idx='x',\n",
    "                                width=600,\n",
    "                                height=300)\n",
    "\n",
    "m = folium.Map(\n",
    "    location=[-5.826592, -35.212558],\n",
    "    zoom_start=12,\n",
    "    tiles='Stamen Terrain',\n",
    ")\n",
    "\n",
    "popup = folium.Popup(max_width=650)\n",
    "folium.Vega(scatter_chart, height=350, width=650).add_to(popup)\n",
    "folium.Marker([-5.832187, -35.205432], \n",
    "              icon=folium.Icon(icon='cloud'),\n",
    "              popup=popup).add_to(m)\n",
    "m"
   ]
  },
  {
   "cell_type": "code",
   "execution_count": 176,
   "metadata": {
    "scrolled": true
   },
   "outputs": [
    {
     "data": {
      "text/html": [
       "<div style=\"width:100%;\"><div style=\"position:relative;width:100%;height:0;padding-bottom:60%;\"><iframe src=\"data:text/html;charset=utf-8;base64,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\" style=\"position:absolute;width:100%;height:100%;left:0;top:0;border:none !important;\" allowfullscreen webkitallowfullscreen mozallowfullscreen></iframe></div></div>"
      ],
      "text/plain": [
       "<folium.folium.Map at 0x11537af60>"
      ]
     },
     "execution_count": 176,
     "metadata": {},
     "output_type": "execute_result"
    }
   ],
   "source": [
    "m = folium.Map(\n",
    "    location=[-5.826592, -35.212558],\n",
    "    zoom_start=12,\n",
    "    tiles='Stamen Terrain',\n",
    "    width='50%',\n",
    "    height='50%'\n",
    ")\n",
    "m.add_child(folium.LatLngPopup())\n",
    "m"
   ]
  },
  {
   "cell_type": "code",
   "execution_count": 175,
   "metadata": {
    "scrolled": true
   },
   "outputs": [
    {
     "data": {
      "text/html": [
       "<div style=\"width:100%;\"><div style=\"position:relative;width:100%;height:0;padding-bottom:60%;\"><iframe src=\"data:text/html;charset=utf-8;base64,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\" style=\"position:absolute;width:100%;height:100%;left:0;top:0;border:none !important;\" allowfullscreen webkitallowfullscreen mozallowfullscreen></iframe></div></div>"
      ],
      "text/plain": [
       "<folium.folium.Map at 0x1154d8e80>"
      ]
     },
     "execution_count": 175,
     "metadata": {},
     "output_type": "execute_result"
    }
   ],
   "source": [
    "m = folium.Map(\n",
    "    location=[-5.826592, -35.212558],\n",
    "    zoom_start=12,\n",
    "    tiles='Stamen Terrain',\n",
    "    width='50%',\n",
    "    height='50%'\n",
    ")\n",
    "\n",
    "folium.Marker([-5.832187, -35.205432], \n",
    "              popup='<i>Instituto Metrópole Digital</i>',\n",
    "              icon=folium.Icon(icon='cloud')).add_to(m)\n",
    "folium.Marker([-5.842942, -35.198001], \n",
    "              popup='<b>Centro Tecnológico</b>',\n",
    "              icon=folium.Icon(#color='red',\n",
    "                               #icon_color='yellow',\n",
    "                               icon='bicycle',\n",
    "                               prefix='fa')).add_to(m)\n",
    "\n",
    "m"
   ]
  },
  {
   "cell_type": "code",
   "execution_count": 82,
   "metadata": {},
   "outputs": [
    {
     "data": {
      "text/html": [
       "<div style=\"width:100%;\"><div style=\"position:relative;width:100%;height:0;padding-bottom:60%;\"><iframe src=\"data:text/html;charset=utf-8;base64,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\" style=\"position:absolute;width:100%;height:100%;left:0;top:0;border:none !important;\" allowfullscreen webkitallowfullscreen mozallowfullscreen></iframe></div></div>"
      ],
      "text/plain": [
       "<folium.folium.Map at 0x114da3470>"
      ]
     },
     "execution_count": 82,
     "metadata": {},
     "output_type": "execute_result"
    }
   ],
   "source": [
    "import folium\n",
    "m = folium.Map()\n",
    "m"
   ]
  },
  {
   "cell_type": "code",
   "execution_count": 34,
   "metadata": {
    "collapsed": true
   },
   "outputs": [],
   "source": [
    "m.save('index.html')"
   ]
  },
  {
   "cell_type": "code",
   "execution_count": 143,
   "metadata": {},
   "outputs": [
    {
     "data": {
      "text/plain": [
       "<folium.map.Marker at 0x114fc16d8>"
      ]
     },
     "execution_count": 143,
     "metadata": {},
     "output_type": "execute_result"
    }
   ],
   "source": [
    "m = folium.Map(\n",
    "    location=[-5.826592, -35.212558],\n",
    "    #tiles='Mapbox',\n",
    "    zoom_start=12,\n",
    "    #tiles='https://api.mapbox.com/v4/mapbox.streets/1/0/0@2x.png?access_token=pk.eyJ1IjoiaXZhbm92aXRjaG0iLCJhIjoiY2o3czZyaHEyMndqdDJ3cW52ampveGo5MCJ9.gVTvRH_d3df4vwMq7uxH_w',\n",
    "    #tiles='https://api.mapbox.com/styles/v1/mapbox/satellite-v9/tiles/256/{z}/{x}/{y}?access_token=pk.eyJ1IjoiaXZhbm92aXRjaG0iLCJhIjoiY2o3czZyaHEyMndqdDJ3cW52ampveGo5MCJ9.gVTvRH_d3df4vwMq7uxH_w',\n",
    "    #API_key='pk.eyJ1IjoiaXZhbm92aXRjaG0iLCJhIjoiY2o3czZyaHEyMndqdDJ3cW52ampveGo5MCJ9.gVTvRH_d3df4vwMq7uxH_w'\n",
    "    tiles='https://api.mapbox.com/styles/v1/mapbox/satellite-v9/tiles/512/{z}/{x}/{y}?access_token=pk.eyJ1IjoiaXZhbm92aXRjaG0iLCJhIjoiY2o3czZyaHEyMndqdDJ3cW52ampveGo5MCJ9.gVTvRH_d3df4vwMq7uxH_w',\n",
    "    attr='Imagery © <a href=\"http://mapbox.com\">MapBox</a>'\n",
    ")\n",
    "\n",
    "folium.Marker([-5.832187, -35.205432], popup='<i>Instituto Metrópole Digital</i>').add_to(m)\n",
    "folium.Marker([-5.842942, -35.198001], popup='<b>Centro Tecnológico</b>').add_to(m)\n"
   ]
  },
  {
   "cell_type": "code",
   "execution_count": 69,
   "metadata": {},
   "outputs": [
    {
     "data": {
      "text/plain": [
       "<folium.map.TileLayer at 0x114c92550>"
      ]
     },
     "execution_count": 69,
     "metadata": {},
     "output_type": "execute_result"
    }
   ],
   "source": [
    "folium.TileLayer('stamenterrain').add_to(m)\n"
   ]
  },
  {
   "cell_type": "code",
   "execution_count": 144,
   "metadata": {},
   "outputs": [
    {
     "data": {
      "text/html": [
       "<div style=\"width:100%;\"><div style=\"position:relative;width:100%;height:0;padding-bottom:60%;\"><iframe src=\"data:text/html;charset=utf-8;base64,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\" style=\"position:absolute;width:100%;height:100%;left:0;top:0;border:none !important;\" allowfullscreen webkitallowfullscreen mozallowfullscreen></iframe></div></div>"
      ],
      "text/plain": [
       "<folium.folium.Map at 0x1150a4b70>"
      ]
     },
     "execution_count": 144,
     "metadata": {},
     "output_type": "execute_result"
    }
   ],
   "source": [
    "m"
   ]
  },
  {
   "cell_type": "code",
   "execution_count": null,
   "metadata": {
    "collapsed": true
   },
   "outputs": [],
   "source": []
  }
 ],
 "metadata": {
  "kernelspec": {
   "display_name": "Python 3",
   "language": "python",
   "name": "python3"
  },
  "language_info": {
   "codemirror_mode": {
    "name": "ipython",
    "version": 3
   },
   "file_extension": ".py",
   "mimetype": "text/x-python",
   "name": "python",
   "nbconvert_exporter": "python",
   "pygments_lexer": "ipython3",
   "version": "3.6.0"
  }
 },
 "nbformat": 4,
 "nbformat_minor": 2
}
